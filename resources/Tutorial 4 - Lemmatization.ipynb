{
 "cells": [
  {
   "cell_type": "markdown",
   "metadata": {},
   "source": [
    "# Lemmatization"
   ]
  },
  {
   "cell_type": "markdown",
   "metadata": {},
   "source": [
    "## Latin ##"
   ]
  },
  {
   "cell_type": "markdown",
   "metadata": {},
   "source": [
    "Let's apply a variable () to a text. This time, lets use the ..."
   ]
  },
  {
   "cell_type": "code",
   "execution_count": 58,
   "metadata": {},
   "outputs": [],
   "source": [
    "cato_agri_praef = \"Est interdum praestare mercaturis rem quaerere, nisi tam periculosum sit, et item foenerari, si tam honestum. Maiores nostri sic habuerunt et ita in legibus posiverunt: furem dupli condemnari, foeneratorem quadrupli. Quanto peiorem civem existimarint foeneratorem quam furem, hinc licet existimare. Et virum bonum quom laudabant, ita laudabant: bonum agricolam bonumque colonum; amplissime laudari existimabatur qui ita laudabatur. Mercatorem autem strenuum studiosumque rei quaerendae existimo, verum, ut supra dixi, periculosum et calamitosum. At ex agricolis et viri fortissimi et milites strenuissimi gignuntur, maximeque pius quaestus stabilissimusque consequitur minimeque invidiosus, minimeque male cogitantes sunt qui in eo studio occupati sunt. Nunc, ut ad rem redeam, quod promisi institutum principium hoc erit.\""
   ]
  },
  {
   "cell_type": "markdown",
   "metadata": {},
   "source": [
    "In order to lemmatize this text, we must first import the CLTK data models for the lemmatization of the Latin language"
   ]
  },
  {
   "cell_type": "markdown",
   "metadata": {},
   "source": [
    "To do so, we must first import the (`CorpusImporter`) from the appropriate CLTK repository (`cltk.corpus.utils.importer`) "
   ]
  },
  {
   "cell_type": "code",
   "execution_count": 59,
   "metadata": {},
   "outputs": [],
   "source": [
    "from cltk.corpus.utils.importer import CorpusImporter"
   ]
  },
  {
   "cell_type": "markdown",
   "metadata": {},
   "source": [
    "Next, we use `CorpusImporter` to access the CLTK data models (`'latin_models_cltk'`) for the lemmatization of the Latin language"
   ]
  },
  {
   "cell_type": "code",
   "execution_count": 60,
   "metadata": {},
   "outputs": [],
   "source": [
    "corpus_importer = CorpusImporter('latin')\n",
    "corpus_importer.import_corpus('latin_models_cltk')"
   ]
  },
  {
   "cell_type": "markdown",
   "metadata": {},
   "source": [
    "At this point, we must ensure that the text matches the CLTK data by cleaning it of non-Latin characters and converting uppercase to lowercase, J to I, and V to U"
   ]
  },
  {
   "cell_type": "markdown",
   "metadata": {},
   "source": [
    "To do so, we must import the CLTK tool (`JVReplacer`) as well as the word tokenization tool (`WordTokenizer`)"
   ]
  },
  {
   "cell_type": "code",
   "execution_count": 61,
   "metadata": {},
   "outputs": [],
   "source": [
    "from cltk.stem.latin.j_v import JVReplacer\n",
    "from cltk.tokenize.word import WordTokenizer"
   ]
  },
  {
   "cell_type": "markdown",
   "metadata": {},
   "source": [
    "Apply the JV replacement tool to our text"
   ]
  },
  {
   "cell_type": "code",
   "execution_count": 62,
   "metadata": {},
   "outputs": [],
   "source": [
    "jv_replacer = JVReplacer()\n",
    "cato_agri_praef = jv_replacer.replace(cato_agri_praef.lower())"
   ]
  },
  {
   "cell_type": "markdown",
   "metadata": {},
   "source": [
    "Apply the word tokenizer in order to ignore non-Latin characters"
   ]
  },
  {
   "cell_type": "code",
   "execution_count": 63,
   "metadata": {},
   "outputs": [],
   "source": [
    "word_tokenizer = WordTokenizer('latin')\n",
    "cato_word_tokens = word_tokenizer.tokenize(cato_agri_praef.lower())\n",
    "cato_word_tokens = [token for token in cato_word_tokens if token not in ['.', ',', ':', ';']]"
   ]
  },
  {
   "cell_type": "markdown",
   "metadata": {},
   "source": [
    "This is what our cleaned text looks like:"
   ]
  },
  {
   "cell_type": "code",
   "execution_count": 64,
   "metadata": {},
   "outputs": [
    {
     "name": "stdout",
     "output_type": "stream",
     "text": [
      "['est', 'interdum', 'praestare', 'mercaturis', 'rem', 'quaerere', 'nisi', 'tam', 'periculosum', 'sit', 'et', 'item', 'foenerari', 'si', 'tam', 'honestum', 'maiores', 'nostri', 'sic', 'habuerunt', 'et', 'ita', 'in', 'legibus', 'posiuerunt', 'furem', 'dupli', 'condemnari', 'foeneratorem', 'quadrupli', 'quanto', 'peiorem', 'ciuem', 'existimarint', 'foeneratorem', 'quam', 'furem', 'hinc', 'licet', 'existimare', 'et', 'uirum', 'bonum', 'quom', 'laudabant', 'ita', 'laudabant', 'bonum', 'agricolam', 'bonum', '-que', 'colonum', 'amplissime', 'laudari', 'existimabatur', 'qui', 'ita', 'laudabatur', 'mercatorem', 'autem', 'strenuum', 'studiosum', '-que', 'rei', 'quaerendae', 'existimo', 'uerum', 'ut', 'supra', 'dixi', 'periculosum', 'et', 'calamitosum', 'at', 'ex', 'agricolis', 'et', 'uiri', 'fortissimi', 'et', 'milites', 'strenuissimi', 'gignuntur', 'maxime', '-que', 'pius', 'quaestus', 'stabilissimus', '-que', 'consequitur', 'minime', '-que', 'inuidiosus', 'minime', '-que', 'male', 'cogitantes', 'sunt', 'qui', 'in', 'eo', 'studio', 'occupati', 'sunt', 'nunc', 'ut', 'ad', 'rem', 'redeam', 'quod', 'promisi', 'institutum', 'principium', 'hoc', 'erit']\n"
     ]
    }
   ],
   "source": [
    "print(cato_word_tokens)"
   ]
  },
  {
   "cell_type": "markdown",
   "metadata": {},
   "source": [
    "Now that we have cleaned the text, we can lemmatize it"
   ]
  },
  {
   "cell_type": "code",
   "execution_count": 86,
   "metadata": {},
   "outputs": [],
   "source": [
    "from cltk.lemmatize.latin.backoff import BackoffLatinLemmatizer"
   ]
  },
  {
   "cell_type": "code",
   "execution_count": 87,
   "metadata": {},
   "outputs": [],
   "source": [
    "lemmatizer = BackoffLatinLemmatizer()\n",
    "lemmata = lemmatizer.lemmatize(cato_word_tokens)"
   ]
  },
  {
   "cell_type": "code",
   "execution_count": 88,
   "metadata": {
    "scrolled": false
   },
   "outputs": [
    {
     "name": "stdout",
     "output_type": "stream",
     "text": [
      "[('est', 'sum'), ('interdum', 'interdum'), ('praestare', 'praesto'), ('mercaturis', 'mercor'), ('rem', 'res'), ('quaerere', 'quaero'), ('nisi', 'nisi'), ('tam', 'tam'), ('periculosum', 'periculosus'), ('sit', 'sum'), ('et', 'et'), ('item', 'item'), ('foenerari', 'foeneraris'), ('si', 'si'), ('tam', 'tam'), ('honestum', 'honestus'), ('maiores', 'magnus'), ('nostri', 'noster'), ('sic', 'sic'), ('habuerunt', 'habeo'), ('et', 'et'), ('ita', 'ita'), ('in', 'in'), ('legibus', 'lex'), ('posiuerunt', 'posiuerunt'), ('furem', 'fur'), ('dupli', 'duplum'), ('condemnari', 'condemnaris'), ('foeneratorem', 'foenerator'), ('quadrupli', 'quadruplus'), ('quanto', 'quantus'), ('peiorem', 'malus'), ('ciuem', 'ciuis'), ('existimarint', 'existimo'), ('foeneratorem', 'foenerator'), ('quam', 'quam'), ('furem', 'fur'), ('hinc', 'hinc'), ('licet', 'licet'), ('existimare', 'existimaris'), ('et', 'et'), ('uirum', 'uir'), ('bonum', 'bonus'), ('quom', 'cum2'), ('laudabant', 'laudo'), ('ita', 'ita'), ('laudabant', 'laudo'), ('bonum', 'bonus'), ('agricolam', 'agricola1'), ('bonum', 'bonus'), ('-que', '-que'), ('colonum', 'colonus'), ('amplissime', 'amplus'), ('laudari', 'laudo'), ('existimabatur', 'existimo'), ('qui', 'qui'), ('ita', 'ita'), ('laudabatur', 'laudo'), ('mercatorem', 'mercator'), ('autem', 'autem'), ('strenuum', 'strenuus'), ('studiosum', 'studiosus'), ('-que', '-que'), ('rei', 'res'), ('quaerendae', 'quaero'), ('existimo', 'existimo'), ('uerum', 'uerus'), ('ut', 'ut'), ('supra', 'supra'), ('dixi', 'dico'), ('periculosum', 'periculosus'), ('et', 'et'), ('calamitosum', 'calamitosus'), ('at', 'at'), ('ex', 'ex'), ('agricolis', 'agricola1'), ('et', 'et'), ('uiri', 'uir'), ('fortissimi', 'fortis'), ('et', 'et'), ('milites', 'miles'), ('strenuissimi', 'strenuus'), ('gignuntur', 'gigno'), ('maxime', 'magnus'), ('-que', '-que'), ('pius', 'pius'), ('quaestus', 'quaestus'), ('stabilissimus', 'stabilissimus'), ('-que', '-que'), ('consequitur', 'consequor'), ('minime', 'paruus'), ('-que', '-que'), ('inuidiosus', 'invidiosus'), ('minime', 'paruus'), ('-que', '-que'), ('male', 'malus'), ('cogitantes', 'cogito'), ('sunt', 'sum'), ('qui', 'qui'), ('in', 'in'), ('eo', 'is'), ('studio', 'studium'), ('occupati', 'occupo'), ('sunt', 'sum'), ('nunc', 'nunc'), ('ut', 'ut'), ('ad', 'ad'), ('rem', 'res'), ('redeam', 'redeo'), ('quod', 'qui'), ('promisi', 'promitto'), ('institutum', 'institus'), ('principium', 'principium'), ('hoc', 'hic'), ('erit', 'sum')]\n"
     ]
    }
   ],
   "source": [
    "print(lemmata)"
   ]
  },
  {
   "cell_type": "markdown",
   "metadata": {},
   "source": [
    "Now, we can not only count (`len`) all the words..."
   ]
  },
  {
   "cell_type": "code",
   "execution_count": 89,
   "metadata": {},
   "outputs": [
    {
     "name": "stdout",
     "output_type": "stream",
     "text": [
      "115\n"
     ]
    }
   ],
   "source": [
    "print(len(lemmata))"
   ]
  },
  {
   "cell_type": "markdown",
   "metadata": {},
   "source": [
    "But also, all *unique* (`set`) words as well:"
   ]
  },
  {
   "cell_type": "code",
   "execution_count": 90,
   "metadata": {},
   "outputs": [
    {
     "name": "stdout",
     "output_type": "stream",
     "text": [
      "90\n"
     ]
    }
   ],
   "source": [
    "print(len(set(lemmata)))"
   ]
  },
  {
   "cell_type": "markdown",
   "metadata": {},
   "source": [
    "After lemmatizing we can analyze things like lexical diversity by dividing (`/`) the number of unique words by the total number of words "
   ]
  },
  {
   "cell_type": "code",
   "execution_count": 91,
   "metadata": {
    "scrolled": true
   },
   "outputs": [
    {
     "name": "stdout",
     "output_type": "stream",
     "text": [
      "0.782608695652174\n"
     ]
    }
   ],
   "source": [
    "print(len(set(lemmata)) / len(lemmata))"
   ]
  },
  {
   "cell_type": "markdown",
   "metadata": {},
   "source": [
    "## Greek ##"
   ]
  },
  {
   "cell_type": "markdown",
   "metadata": {},
   "source": [
    "Let's see how lemmatization works with Greek"
   ]
  },
  {
   "cell_type": "markdown",
   "metadata": {},
   "source": [
    "First, lets apply a variable to a text. "
   ]
  },
  {
   "cell_type": "code",
   "execution_count": 92,
   "metadata": {},
   "outputs": [],
   "source": [
    "athenaeus_incipit = \"Ἀθήναιος μὲν ὁ τῆς βίβλου πατήρ· ποιεῖται δὲ τὸν λόγον πρὸς Τιμοκράτην· Δειπνοσοφιστὴς δὲ ταύτῃ τὸ ὄνομα. Ὑπόκειται δὲ τῷ λόγῳ Λαρήνσιος Ῥωμαῖος, ἀνὴρ τῇ τύχῃ περιφανής, τοὺς κατὰ πᾶσαν παιδείαν ἐμπειροτάτους ἐν αὑτοῦ δαιτυμόνας ποιούμενος· ἐν οἷς οὐκ ἔσθ᾽ οὗτινος τῶν καλλίστων οὐκ ἐμνημόνευσεν. Ἰχθῦς τε γὰρ τῇ βίβλῳ ἐνέθετο καὶ τὰς τούτων χρείας καὶ τὰς τῶν ὀνομάτων ἀναπτύξεις καὶ λαχάνων γένη παντοῖα καὶ ζῴων παντοδαπῶν καὶ ἄνδρας ἱστορίας συγγεγραφότας καὶ ποιητὰς καὶ φιλοσόφους καὶ ὄργανα μουσικὰ καὶ σκωμμάτων εἴδη μυρία καὶ ἐκπωμάτων διαφορὰς καὶ πλούτους βασιλέων διηγήσατο καὶ νηῶν μεγέθη καὶ ὅσα ἄλλα οὐδ᾽ ἂν εὐχερῶς ἀπομνημονεύσαιμι, ἢ ἐπιλίποι μ᾽ ἂν ἡ ἡμέρα κατ᾽ εἶδος διεξερχόμενον. Καί ἐστιν ἡ τοῦ λόγου οἰκονομία μίμημα τῆς τοῦ δείπνου πολυτελείας καὶ ἡ τῆς βίβλου διασκευὴ τῆς ἐν τῷ δείπνῳ παρασκευῆς. Τοιοῦτον ὁ θαυμαστὸς οὗτος τοῦ λόγου οἰκονόμος Ἀθήναιος ἥδιστον λογόδειπνον εἰσηγεῖται κρείττων τε αὐτὸς ἑαυτοῦ γινόμενος, ὥσπερ οἱ Ἀθήνησι ῥήτορες, ὑπὸ τῆς ἐν τῷ λέγειν θερμότητος πρὸς τὰ ἑπόμενα τῆς βίβλου βαθμηδὸν ὑπεράλλεται.\""
   ]
  },
  {
   "cell_type": "markdown",
   "metadata": {},
   "source": [
    "In order to lemmatize this text, we must first import the CLTK data models for the lemmatization of the Greek language"
   ]
  },
  {
   "cell_type": "markdown",
   "metadata": {},
   "source": [
    "To do so, we must first import the (`CorpusImporter`) from the appropriate CLTK repository (`cltk.corpus.utils.importer`) "
   ]
  },
  {
   "cell_type": "code",
   "execution_count": 93,
   "metadata": {},
   "outputs": [],
   "source": [
    "from cltk.corpus.utils.importer import CorpusImporter"
   ]
  },
  {
   "cell_type": "markdown",
   "metadata": {},
   "source": [
    "Next, we use `CorpusImporter` to access the CLTK data models (`'greek_models_cltk'`) for the lemmatization of the Latin language"
   ]
  },
  {
   "cell_type": "code",
   "execution_count": 94,
   "metadata": {},
   "outputs": [],
   "source": [
    "corpus_importer = CorpusImporter('greek')\n",
    "corpus_importer.import_corpus('greek_models_cltk')"
   ]
  },
  {
   "cell_type": "markdown",
   "metadata": {},
   "source": [
    "At this point, we must ensure that the text matches the CLTK data by cleaning it of non-Greek characters and converting uppercase to lowercase, J to I, and V to U"
   ]
  },
  {
   "cell_type": "markdown",
   "metadata": {},
   "source": [
    "To do so, we must import the word tokenization tool (`WordTokenizer`)"
   ]
  },
  {
   "cell_type": "code",
   "execution_count": 95,
   "metadata": {},
   "outputs": [],
   "source": [
    "from cltk.tokenize.word import WordTokenizer"
   ]
  },
  {
   "cell_type": "markdown",
   "metadata": {},
   "source": [
    "...and ignore all non-Greek characters"
   ]
  },
  {
   "cell_type": "code",
   "execution_count": 96,
   "metadata": {},
   "outputs": [],
   "source": [
    "word_tokenizer = WordTokenizer('greek')\n",
    "athenaeus_word_tokens = word_tokenizer.tokenize(athenaeus_incipit.lower())\n",
    "athenaeus_word_tokens = [token for token in athenaeus_word_tokens if token not in ['.', ',', ':', ';']]"
   ]
  },
  {
   "cell_type": "markdown",
   "metadata": {},
   "source": [
    "Our cleaned text now looks like this: "
   ]
  },
  {
   "cell_type": "code",
   "execution_count": 97,
   "metadata": {},
   "outputs": [
    {
     "name": "stdout",
     "output_type": "stream",
     "text": [
      "['ἀθήναιος', 'μὲν', 'ὁ', 'τῆς', 'βίβλου', 'πατήρ·', 'ποιεῖται', 'δὲ', 'τὸν', 'λόγον', 'πρὸς', 'τιμοκράτην·', 'δειπνοσοφιστὴς', 'δὲ', 'ταύτῃ', 'τὸ', 'ὄνομα', 'ὑπόκειται', 'δὲ', 'τῷ', 'λόγῳ', 'λαρήνσιος', 'ῥωμαῖος', 'ἀνὴρ', 'τῇ', 'τύχῃ', 'περιφανής', 'τοὺς', 'κατὰ', 'πᾶσαν', 'παιδείαν', 'ἐμπειροτάτους', 'ἐν', 'αὑτοῦ', 'δαιτυμόνας', 'ποιούμενος·', 'ἐν', 'οἷς', 'οὐκ', 'ἔσθ᾽', 'οὗτινος', 'τῶν', 'καλλίστων', 'οὐκ', 'ἐμνημόνευσεν', 'ἰχθῦς', 'τε', 'γὰρ', 'τῇ', 'βίβλῳ', 'ἐνέθετο', 'καὶ', 'τὰς', 'τούτων', 'χρείας', 'καὶ', 'τὰς', 'τῶν', 'ὀνομάτων', 'ἀναπτύξεις', 'καὶ', 'λαχάνων', 'γένη', 'παντοῖα', 'καὶ', 'ζῴων', 'παντοδαπῶν', 'καὶ', 'ἄνδρας', 'ἱστορίας', 'συγγεγραφότας', 'καὶ', 'ποιητὰς', 'καὶ', 'φιλοσόφους', 'καὶ', 'ὄργανα', 'μουσικὰ', 'καὶ', 'σκωμμάτων', 'εἴδη', 'μυρία', 'καὶ', 'ἐκπωμάτων', 'διαφορὰς', 'καὶ', 'πλούτους', 'βασιλέων', 'διηγήσατο', 'καὶ', 'νηῶν', 'μεγέθη', 'καὶ', 'ὅσα', 'ἄλλα', 'οὐδ᾽', 'ἂν', 'εὐχερῶς', 'ἀπομνημονεύσαιμι', 'ἢ', 'ἐπιλίποι', 'μ᾽', 'ἂν', 'ἡ', 'ἡμέρα', 'κατ᾽', 'εἶδος', 'διεξερχόμενον', 'καί', 'ἐστιν', 'ἡ', 'τοῦ', 'λόγου', 'οἰκονομία', 'μίμημα', 'τῆς', 'τοῦ', 'δείπνου', 'πολυτελείας', 'καὶ', 'ἡ', 'τῆς', 'βίβλου', 'διασκευὴ', 'τῆς', 'ἐν', 'τῷ', 'δείπνῳ', 'παρασκευῆς', 'τοιοῦτον', 'ὁ', 'θαυμαστὸς', 'οὗτος', 'τοῦ', 'λόγου', 'οἰκονόμος', 'ἀθήναιος', 'ἥδιστον', 'λογόδειπνον', 'εἰσηγεῖται', 'κρείττων', 'τε', 'αὐτὸς', 'ἑαυτοῦ', 'γινόμενος', 'ὥσπερ', 'οἱ', 'ἀθήνησι', 'ῥήτορες', 'ὑπὸ', 'τῆς', 'ἐν', 'τῷ', 'λέγειν', 'θερμότητος', 'πρὸς', 'τὰ', 'ἑπόμενα', 'τῆς', 'βίβλου', 'βαθμηδὸν', 'ὑπεράλλεται']\n"
     ]
    }
   ],
   "source": [
    "print(athenaeus_word_tokens)"
   ]
  },
  {
   "cell_type": "markdown",
   "metadata": {},
   "source": [
    "Now that we have cleaned the text, we can lemmatize it"
   ]
  },
  {
   "cell_type": "markdown",
   "metadata": {},
   "source": [
    "First, import the CLTK's new lemmatizer (`BackoffLatinLemmatizer`)"
   ]
  },
  {
   "cell_type": "code",
   "execution_count": 104,
   "metadata": {},
   "outputs": [],
   "source": [
    "from cltk.lemmatize.greek.backoff import BackoffGreekLemmatizer"
   ]
  },
  {
   "cell_type": "markdown",
   "metadata": {},
   "source": [
    "Apply the lemmatizer to our cleaned Greek text"
   ]
  },
  {
   "cell_type": "code",
   "execution_count": 105,
   "metadata": {},
   "outputs": [
    {
     "name": "stdout",
     "output_type": "stream",
     "text": [
      "[('ἀθήναιος', 'ἀθήναιος'), ('μὲν', 'μέν'), ('ὁ', 'ὁ'), ('τῆς', 'ὁ'), ('βίβλου', 'βίβλος'), ('πατήρ·', 'πατήρ·'), ('ποιεῖται', 'ποιέω'), ('δὲ', 'δέ'), ('τὸν', 'ὁ'), ('λόγον', 'λόγος'), ('πρὸς', 'πρός'), ('τιμοκράτην·', 'τιμοκράτην·'), ('δειπνοσοφιστὴς', 'δειπνοσοφιστὴς'), ('δὲ', 'δέ'), ('ταύτῃ', 'αὐτός'), ('τὸ', 'ὁ'), ('ὄνομα', 'ὄνομα'), ('ὑπόκειται', 'ὑπόκειμαι'), ('δὲ', 'δέ'), ('τῷ', 'ὁ'), ('λόγῳ', 'λόγος'), ('λαρήνσιος', 'λαρήνσιος'), ('ῥωμαῖος', 'ῥωμαῖος'), ('ἀνὴρ', 'ἀνήρ'), ('τῇ', 'ὁ'), ('τύχῃ', 'τύχη'), ('περιφανής', 'περιφανής'), ('τοὺς', 'ὁ'), ('κατὰ', 'κατά'), ('πᾶσαν', 'πᾶς'), ('παιδείαν', 'παιδεία'), ('ἐμπειροτάτους', 'ἔμπειρος'), ('ἐν', 'ἐν'), ('αὑτοῦ', 'ἑαυτοῦ'), ('δαιτυμόνας', 'δαιτυμών'), ('ποιούμενος·', 'ποιούμενος·'), ('ἐν', 'ἐν'), ('οἷς', 'ὅς'), ('οὐκ', 'οὐ'), ('ἔσθ᾽', 'ἔσθ᾽'), ('οὗτινος', 'ὅστις'), ('τῶν', 'ὁ'), ('καλλίστων', 'καλός'), ('οὐκ', 'οὐ'), ('ἐμνημόνευσεν', 'μνημονεύω'), ('ἰχθῦς', 'ἰχθύς'), ('τε', 'τε'), ('γὰρ', 'γάρ'), ('τῇ', 'ὁ'), ('βίβλῳ', 'βίβλος'), ('ἐνέθετο', 'ἐντίθημι'), ('καὶ', 'καί'), ('τὰς', 'ὁ'), ('τούτων', 'οὗτος'), ('χρείας', 'χρεία'), ('καὶ', 'καί'), ('τὰς', 'ὁ'), ('τῶν', 'ὁ'), ('ὀνομάτων', 'ὄνομα'), ('ἀναπτύξεις', 'ἀναπτύσσω'), ('καὶ', 'καί'), ('λαχάνων', 'λάχανον'), ('γένη', 'γένος'), ('παντοῖα', 'παντοῖος'), ('καὶ', 'καί'), ('ζῴων', 'ζῷον'), ('παντοδαπῶν', 'παντοδαπός'), ('καὶ', 'καί'), ('ἄνδρας', 'ἀνήρ'), ('ἱστορίας', 'ἱστορία'), ('συγγεγραφότας', 'συγγράφω'), ('καὶ', 'καί'), ('ποιητὰς', 'ποιητὰς'), ('καὶ', 'καί'), ('φιλοσόφους', 'φιλόσοφος'), ('καὶ', 'καί'), ('ὄργανα', 'ὀργαίνω'), ('μουσικὰ', 'μουσικὰ'), ('καὶ', 'καί'), ('σκωμμάτων', 'σκῶμμα'), ('εἴδη', 'εἶδος'), ('μυρία', 'μυρίος'), ('καὶ', 'καί'), ('ἐκπωμάτων', 'ἔκπωμα'), ('διαφορὰς', 'διαφορὰς'), ('καὶ', 'καί'), ('πλούτους', 'πλοῦτος'), ('βασιλέων', 'βασιλεύς'), ('διηγήσατο', 'διηγέομαι'), ('καὶ', 'καί'), ('νηῶν', 'ναῦς'), ('μεγέθη', 'μέγεθος'), ('καὶ', 'καί'), ('ὅσα', 'ὅσος'), ('ἄλλα', 'ἄλλος'), ('οὐδ᾽', 'οὐδ᾽'), ('ἂν', 'ἄν'), ('εὐχερῶς', 'εὐχερής'), ('ἀπομνημονεύσαιμι', 'ἀπομνημονεύω'), ('ἢ', 'ἤ'), ('ἐπιλίποι', 'ἐπιλείπω'), ('μ᾽', 'μ᾽'), ('ἂν', 'ἄν'), ('ἡ', 'ὁ'), ('ἡμέρα', 'ἥμερος'), ('κατ᾽', 'κατ᾽'), ('εἶδος', 'εἶδος'), ('διεξερχόμενον', 'διεξέρχομαι'), ('καί', 'καί'), ('ἐστιν', 'εἰμί'), ('ἡ', 'ὁ'), ('τοῦ', 'ὁ'), ('λόγου', 'λόγος'), ('οἰκονομία', 'οἰκονομία'), ('μίμημα', 'μίμημα'), ('τῆς', 'ὁ'), ('τοῦ', 'ὁ'), ('δείπνου', 'δεῖπνον'), ('πολυτελείας', 'πολυτέλεια'), ('καὶ', 'καί'), ('ἡ', 'ὁ'), ('τῆς', 'ὁ'), ('βίβλου', 'βίβλος'), ('διασκευὴ', 'διασκευὴ'), ('τῆς', 'ὁ'), ('ἐν', 'ἐν'), ('τῷ', 'ὁ'), ('δείπνῳ', 'δεῖπνος'), ('παρασκευῆς', 'παρασκευή'), ('τοιοῦτον', 'τοιοῦτος'), ('ὁ', 'ὁ'), ('θαυμαστὸς', 'θαυμαστός'), ('οὗτος', 'οὗτος'), ('τοῦ', 'ὁ'), ('λόγου', 'λόγος'), ('οἰκονόμος', 'οἰκονόμος'), ('ἀθήναιος', 'ἀθήναιος'), ('ἥδιστον', 'ἡδύς'), ('λογόδειπνον', 'λογόδειπνον'), ('εἰσηγεῖται', 'εἰσηγέομαι'), ('κρείττων', 'κρείσσων'), ('τε', 'τε'), ('αὐτὸς', 'αὐτός'), ('ἑαυτοῦ', 'ἑαυτοῦ'), ('γινόμενος', 'γίγνομαι'), ('ὥσπερ', 'ὥσπερ'), ('οἱ', 'ὁ'), ('ἀθήνησι', 'ἀθήνευς'), ('ῥήτορες', 'ῥήτωρ'), ('ὑπὸ', 'ὑπό'), ('τῆς', 'ὁ'), ('ἐν', 'ἐν'), ('τῷ', 'ὁ'), ('λέγειν', 'λέγω'), ('θερμότητος', 'θερμότης'), ('πρὸς', 'πρός'), ('τὰ', 'ὁ'), ('ἑπόμενα', 'ἕπομαι'), ('τῆς', 'ὁ'), ('βίβλου', 'βίβλος'), ('βαθμηδὸν', 'βαθμηδὸν'), ('ὑπεράλλεται', 'ὑπεράλλομαι')]\n"
     ]
    }
   ],
   "source": [
    "lemmatizer = BackoffGreekLemmatizer()\n",
    "lemmata = lemmatizer.lemmatize(athenaeus_word_tokens)\n",
    "print(lemmata)"
   ]
  },
  {
   "cell_type": "markdown",
   "metadata": {},
   "source": [
    "Now, we can not only count (`len`) all the words..."
   ]
  },
  {
   "cell_type": "code",
   "execution_count": 106,
   "metadata": {},
   "outputs": [
    {
     "name": "stdout",
     "output_type": "stream",
     "text": [
      "162\n"
     ]
    }
   ],
   "source": [
    "print(len(lemmata))"
   ]
  },
  {
   "cell_type": "markdown",
   "metadata": {},
   "source": [
    "But also, all *unique* (`set`) words as well:"
   ]
  },
  {
   "cell_type": "code",
   "execution_count": 107,
   "metadata": {},
   "outputs": [
    {
     "name": "stdout",
     "output_type": "stream",
     "text": [
      "121\n"
     ]
    }
   ],
   "source": [
    "print(len(set(lemmata)))"
   ]
  },
  {
   "cell_type": "markdown",
   "metadata": {},
   "source": [
    "After lemmatizing we can analyze things like lexical diversity by dividing (`/`) the number of unique words by the total number of words "
   ]
  },
  {
   "cell_type": "code",
   "execution_count": 102,
   "metadata": {},
   "outputs": [
    {
     "name": "stdout",
     "output_type": "stream",
     "text": [
      "0.7469135802469136\n"
     ]
    }
   ],
   "source": [
    "print(len(set(lemmata)) / len(lemmata))"
   ]
  },
  {
   "cell_type": "markdown",
   "metadata": {},
   "source": [
    "Let's compare the lexical diversity of the Prologue of Apuleius's *Metamorphoses* using the same code"
   ]
  },
  {
   "cell_type": "code",
   "execution_count": 103,
   "metadata": {},
   "outputs": [],
   "source": [
    "LatinText = 'At ego tibi sermone isto Milesio varias fabulas conseram auresque tuas benivolas lepido susurro permulceam — modo si papyrum Aegyptiam argutia Nilotici calami inscriptam non spreveris inspicere — , figuras fortunasque hominum in alias imagines conversas et in se rursus mutuo nexu refectas ut mireris. Exordior. \"Quis ille?\" Paucis accipe. Hymettos Attica et Isthmos Ephyrea et Taenaros Spartiatica, glebae felices aeternum libris felicioribus conditae, mea vetus prosapia est; ibi linguam Atthidem primis pueritiae stipendiis merui. Mox in urbe Latia advena studiorum Quiritium indigenam sermonem aerumnabili labore nullo magistro praeeunte aggressus excolui. En ecce praefamur veniam, siquid exotici ac forensis sermonis rudis locutor offendero. Iam haec equidem ipsa vocis immutatio desultoriae scientiae stilo quem accessimus respondet. Fabulam Graecanicam incipimus. Lector intende: laetaberis.'"
   ]
  },
  {
   "cell_type": "code",
   "execution_count": 108,
   "metadata": {},
   "outputs": [
    {
     "name": "stdout",
     "output_type": "stream",
     "text": [
      "0.9508196721311475\n"
     ]
    }
   ],
   "source": [
    "from cltk.corpus.utils.importer import CorpusImporter\n",
    "corpus_importer = CorpusImporter('latin')\n",
    "corpus_importer.import_corpus('latin_models_cltk')\n",
    "\n",
    "from cltk.stem.latin.j_v import JVReplacer\n",
    "from cltk.tokenize.word import WordTokenizer\n",
    "\n",
    "jv_replacer = JVReplacer()\n",
    "LatinText = jv_replacer.replace(LatinText.lower())\n",
    "\n",
    "word_tokenizer = WordTokenizer('latin')\n",
    "LatinTextTokens = word_tokenizer.tokenize(LatinText.lower())\n",
    "LatinTextTokens = [token for token in LatinTextTokens if token not in ['.', ',', ':', ';', '?', '—']]\n",
    "\n",
    "from cltk.lemmatize.latin.backoff import BackoffLatinLemmatizer\n",
    "lemmatizer = BackoffLatinLemmatizer()\n",
    "lemmata = lemmatizer.lemmatize(LatinTextTokens)\n",
    "\n",
    "print(len(set(lemmata)) / len(lemmata))"
   ]
  }
 ],
 "metadata": {
  "kernelspec": {
   "display_name": "Python 3",
   "language": "python",
   "name": "python3"
  },
  "language_info": {
   "codemirror_mode": {
    "name": "ipython",
    "version": 3
   },
   "file_extension": ".py",
   "mimetype": "text/x-python",
   "name": "python",
   "nbconvert_exporter": "python",
   "pygments_lexer": "ipython3",
   "version": "3.7.4"
  }
 },
 "nbformat": 4,
 "nbformat_minor": 2
}
