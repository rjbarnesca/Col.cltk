{
 "cells": [
  {
   "cell_type": "markdown",
   "metadata": {},
   "source": [
    "# Import corpus importer"
   ]
  },
  {
   "cell_type": "markdown",
   "metadata": {},
   "source": [
    "To begin importing corpora, we must first `import` the  `CorpusImporter` `from` the proper direcory (`cltk.corpus.utils.importer`)"
   ]
  },
  {
   "cell_type": "code",
   "execution_count": 1,
   "metadata": {},
   "outputs": [],
   "source": [
    "from cltk.corpus.utils.importer import CorpusImporter"
   ]
  },
  {
   "cell_type": "markdown",
   "metadata": {},
   "source": [
    "### Latin corpora"
   ]
  },
  {
   "cell_type": "markdown",
   "metadata": {},
   "source": [
    "Before importing Latin corpora, it can be useful to list the Latin corpora on offer in the following way"
   ]
  },
  {
   "cell_type": "code",
   "execution_count": 2,
   "metadata": {},
   "outputs": [
    {
     "data": {
      "text/plain": [
       "['latin_text_perseus',\n",
       " 'latin_treebank_perseus',\n",
       " 'latin_text_latin_library',\n",
       " 'phi5',\n",
       " 'phi7',\n",
       " 'latin_proper_names_cltk',\n",
       " 'latin_models_cltk',\n",
       " 'latin_pos_lemmata_cltk',\n",
       " 'latin_treebank_index_thomisticus',\n",
       " 'latin_lexica_perseus',\n",
       " 'latin_training_set_sentence_cltk',\n",
       " 'latin_word2vec_cltk',\n",
       " 'latin_text_antique_digiliblt',\n",
       " 'latin_text_corpus_grammaticorum_latinorum',\n",
       " 'latin_text_poeti_ditalia',\n",
       " 'latin_text_tesserae']"
      ]
     },
     "execution_count": 2,
     "metadata": {},
     "output_type": "execute_result"
    }
   ],
   "source": [
    "CorpusImporter('latin').list_corpora"
   ]
  },
  {
   "cell_type": "markdown",
   "metadata": {},
   "source": [
    "It is best to import each Latin corpus one by one"
   ]
  },
  {
   "cell_type": "code",
   "execution_count": 3,
   "metadata": {
    "scrolled": true
   },
   "outputs": [],
   "source": [
    "my_latin_downloader.import_corpus('latin_text_perseus')"
   ]
  },
  {
   "cell_type": "code",
   "execution_count": 4,
   "metadata": {},
   "outputs": [],
   "source": [
    "my_latin_downloader.import_corpus('latin_treebank_perseus')"
   ]
  },
  {
   "cell_type": "code",
   "execution_count": 5,
   "metadata": {},
   "outputs": [],
   "source": [
    "my_latin_downloader.import_corpus('latin_lexica_perseus')"
   ]
  },
  {
   "cell_type": "code",
   "execution_count": 6,
   "metadata": {},
   "outputs": [],
   "source": [
    "my_latin_downloader.import_corpus('latin_text_latin_library')"
   ]
  },
  {
   "cell_type": "code",
   "execution_count": 7,
   "metadata": {},
   "outputs": [],
   "source": [
    "my_latin_downloader.import_corpus('latin_proper_names_cltk')"
   ]
  },
  {
   "cell_type": "code",
   "execution_count": 8,
   "metadata": {},
   "outputs": [],
   "source": [
    "my_latin_downloader.import_corpus('latin_models_cltk')"
   ]
  },
  {
   "cell_type": "code",
   "execution_count": 9,
   "metadata": {},
   "outputs": [],
   "source": [
    "my_latin_downloader.import_corpus('latin_pos_lemmata_cltk')"
   ]
  },
  {
   "cell_type": "code",
   "execution_count": 10,
   "metadata": {},
   "outputs": [],
   "source": [
    "my_latin_downloader.import_corpus('latin_treebank_index_thomisticus')"
   ]
  },
  {
   "cell_type": "code",
   "execution_count": 11,
   "metadata": {},
   "outputs": [],
   "source": [
    "my_latin_downloader.import_corpus('latin_training_set_sentence_cltk')"
   ]
  },
  {
   "cell_type": "code",
   "execution_count": 12,
   "metadata": {},
   "outputs": [],
   "source": [
    "my_latin_downloader.import_corpus('latin_word2vec_cltk')"
   ]
  },
  {
   "cell_type": "code",
   "execution_count": 13,
   "metadata": {},
   "outputs": [],
   "source": [
    "my_latin_downloader.import_corpus('latin_text_antique_digiliblt')"
   ]
  },
  {
   "cell_type": "code",
   "execution_count": 14,
   "metadata": {},
   "outputs": [],
   "source": [
    "my_latin_downloader.import_corpus('latin_text_corpus_grammaticorum_latinorum')"
   ]
  },
  {
   "cell_type": "code",
   "execution_count": 15,
   "metadata": {},
   "outputs": [],
   "source": [
    "my_latin_downloader.import_corpus('latin_text_poeti_ditalia')"
   ]
  },
  {
   "cell_type": "code",
   "execution_count": 16,
   "metadata": {
    "scrolled": true
   },
   "outputs": [],
   "source": [
    "my_latin_downloader.import_corpus('latin_text_tesserae')"
   ]
  },
  {
   "cell_type": "markdown",
   "metadata": {},
   "source": [
    "If you have the Packard Humanities texts of Latin (PHI-5 and PHI-7), you may download them from your own local directory"
   ]
  },
  {
   "cell_type": "code",
   "execution_count": 17,
   "metadata": {},
   "outputs": [],
   "source": [
    "my_latin_downloader.import_corpus('phi7','~/Documents/Diogenes/PHI7')"
   ]
  },
  {
   "cell_type": "code",
   "execution_count": null,
   "metadata": {},
   "outputs": [],
   "source": [
    "my_latin_downloader.import_corpus('phi5','~/Documents/Diogenes/PHI5')"
   ]
  },
  {
   "cell_type": "markdown",
   "metadata": {},
   "source": [
    "To double check, you may list the Latin corpora which have been imported"
   ]
  },
  {
   "cell_type": "code",
   "execution_count": 19,
   "metadata": {},
   "outputs": [
    {
     "name": "stdout",
     "output_type": "stream",
     "text": [
      "total 0\r\n",
      "drwxr-xr-x    5 rjbarnes  staff    160 Dec 12 10:29 \u001b[34mlatin_text_antique_digiliblt\u001b[m\u001b[m\r\n",
      "drwxr-xr-x   46 rjbarnes  staff   1472 Dec 12 10:29 \u001b[34mlatin_text_corpus_grammaticorum_latinorum\u001b[m\u001b[m\r\n",
      "drwxr-xr-x  623 rjbarnes  staff  19936 Dec 11 17:10 \u001b[34mlatin_text_latin_library\u001b[m\u001b[m\r\n",
      "drwxr-xr-x   55 rjbarnes  staff   1760 Dec 11 17:33 \u001b[34mlatin_text_perseus\u001b[m\u001b[m\r\n",
      "drwxr-xr-x   20 rjbarnes  staff    640 Dec 12 10:28 \u001b[34mlatin_text_poeti_ditalia\u001b[m\u001b[m\r\n",
      "drwxr-xr-x    8 rjbarnes  staff    256 Dec 12 10:27 \u001b[34mlatin_text_tesserae\u001b[m\u001b[m\r\n",
      "drwxr-xr-x    3 rjbarnes  staff     96 Feb 21 12:34 \u001b[34mphi5\u001b[m\u001b[m\r\n",
      "drwxr-xr-x    3 rjbarnes  staff     96 Jan 18 17:50 \u001b[34mphi7\u001b[m\u001b[m\r\n"
     ]
    }
   ],
   "source": [
    "!ls -l ~/cltk_data/latin/text/"
   ]
  },
  {
   "cell_type": "markdown",
   "metadata": {},
   "source": [
    "### Greek corpora"
   ]
  },
  {
   "cell_type": "markdown",
   "metadata": {},
   "source": [
    "first, list the Greek corpora in the CLTK"
   ]
  },
  {
   "cell_type": "code",
   "execution_count": 3,
   "metadata": {},
   "outputs": [
    {
     "data": {
      "text/plain": [
       "['greek_software_tlgu',\n",
       " 'greek_text_perseus',\n",
       " 'phi7',\n",
       " 'tlg',\n",
       " 'greek_proper_names_cltk',\n",
       " 'greek_models_cltk',\n",
       " 'greek_treebank_perseus',\n",
       " 'greek_treebank_gorman',\n",
       " 'greek_lexica_perseus',\n",
       " 'greek_training_set_sentence_cltk',\n",
       " 'greek_word2vec_cltk',\n",
       " 'greek_text_lacus_curtius',\n",
       " 'greek_text_first1kgreek',\n",
       " 'greek_text_tesserae']"
      ]
     },
     "execution_count": 3,
     "metadata": {},
     "output_type": "execute_result"
    }
   ],
   "source": [
    "CorpusImporter('greek').list_corpora"
   ]
  },
  {
   "cell_type": "markdown",
   "metadata": {},
   "source": [
    "Import each Greek Corpus"
   ]
  },
  {
   "cell_type": "code",
   "execution_count": 21,
   "metadata": {},
   "outputs": [],
   "source": [
    "my_greek_downloader.import_corpus('greek_software_tlgu')"
   ]
  },
  {
   "cell_type": "code",
   "execution_count": 22,
   "metadata": {
    "scrolled": true
   },
   "outputs": [],
   "source": [
    "my_greek_downloader.import_corpus('greek_text_perseus')"
   ]
  },
  {
   "cell_type": "code",
   "execution_count": 23,
   "metadata": {},
   "outputs": [],
   "source": [
    "my_greek_downloader.import_corpus('greek_proper_names_cltk')"
   ]
  },
  {
   "cell_type": "code",
   "execution_count": 24,
   "metadata": {},
   "outputs": [],
   "source": [
    "my_greek_downloader.import_corpus('greek_models_cltk')"
   ]
  },
  {
   "cell_type": "code",
   "execution_count": 25,
   "metadata": {},
   "outputs": [],
   "source": [
    "my_greek_downloader.import_corpus('greek_treebank_perseus')"
   ]
  },
  {
   "cell_type": "code",
   "execution_count": 26,
   "metadata": {},
   "outputs": [],
   "source": [
    "my_greek_downloader.import_corpus('greek_treebank_gorman')"
   ]
  },
  {
   "cell_type": "code",
   "execution_count": 27,
   "metadata": {},
   "outputs": [],
   "source": [
    "my_greek_downloader.import_corpus('greek_lexica_perseus')"
   ]
  },
  {
   "cell_type": "code",
   "execution_count": 28,
   "metadata": {},
   "outputs": [],
   "source": [
    "my_greek_downloader.import_corpus('greek_training_set_sentence_cltk')"
   ]
  },
  {
   "cell_type": "code",
   "execution_count": 29,
   "metadata": {},
   "outputs": [],
   "source": [
    "my_greek_downloader.import_corpus('greek_word2vec_cltk')"
   ]
  },
  {
   "cell_type": "code",
   "execution_count": 30,
   "metadata": {},
   "outputs": [],
   "source": [
    "my_greek_downloader.import_corpus('greek_text_lacus_curtius')"
   ]
  },
  {
   "cell_type": "code",
   "execution_count": 31,
   "metadata": {},
   "outputs": [],
   "source": [
    "my_greek_downloader.import_corpus('greek_text_tesserae')"
   ]
  },
  {
   "cell_type": "code",
   "execution_count": 32,
   "metadata": {},
   "outputs": [],
   "source": [
    "my_greek_downloader.import_corpus('greek_text_first1kgreek')"
   ]
  },
  {
   "cell_type": "markdown",
   "metadata": {},
   "source": [
    "If you have the Packard Humanities texts of Latin (PHI-5 and PHI-7), you may download them from your own local directory"
   ]
  },
  {
   "cell_type": "code",
   "execution_count": 34,
   "metadata": {},
   "outputs": [],
   "source": [
    "my_greek_downloader.import_corpus('phi7','~/Documents/Diogenes/PHI7/')"
   ]
  },
  {
   "cell_type": "code",
   "execution_count": 35,
   "metadata": {},
   "outputs": [],
   "source": [
    "my_greek_downloader.import_corpus('tlg','~/Documents/Diogenes/TLG_E/')"
   ]
  },
  {
   "cell_type": "markdown",
   "metadata": {},
   "source": [
    "To double check, you may list Greek corpora which have been downloaded"
   ]
  },
  {
   "cell_type": "code",
   "execution_count": 36,
   "metadata": {},
   "outputs": [
    {
     "name": "stdout",
     "output_type": "stream",
     "text": [
      "total 0\r\n",
      "drwxr-xr-x   22 rjbarnes  staff    704 Feb 21 09:43 \u001b[34mgreek_text_first1kgreek\u001b[m\u001b[m\r\n",
      "drwxr-xr-x  976 rjbarnes  staff  31232 Jan 18 17:37 \u001b[34mgreek_text_first1kgreek_plaintext\u001b[m\u001b[m\r\n",
      "drwxr-xr-x    8 rjbarnes  staff    256 Feb 21 09:43 \u001b[34mgreek_text_lacus_curtius\u001b[m\u001b[m\r\n",
      "drwxr-xr-x   70 rjbarnes  staff   2240 Jan  8 14:46 \u001b[34mgreek_text_perseus\u001b[m\u001b[m\r\n",
      "drwxr-xr-x   10 rjbarnes  staff    320 Apr 27 13:14 \u001b[34mgreek_text_tesserae\u001b[m\u001b[m\r\n",
      "drwxr-xr-x    3 rjbarnes  staff     96 Jan 18 17:50 \u001b[34mphi7\u001b[m\u001b[m\r\n",
      "drwxr-xr-x    4 rjbarnes  staff    128 Jan 18 17:52 \u001b[34mtlg\u001b[m\u001b[m\r\n"
     ]
    }
   ],
   "source": [
    "!ls -l ~/cltk_data/greek/text/"
   ]
  },
  {
   "cell_type": "markdown",
   "metadata": {},
   "source": [
    "You may also list the local Greek and Latin Corpora which have been downloaded from the cltk"
   ]
  },
  {
   "cell_type": "code",
   "execution_count": 37,
   "metadata": {},
   "outputs": [
    {
     "name": "stdout",
     "output_type": "stream",
     "text": [
      "total 0\r\n",
      "drwxr-xr-x   746 rjbarnes  staff   23872 Dec 12 09:57 \u001b[34mphi5\u001b[m\u001b[m\r\n",
      "drwxr-xr-x   527 rjbarnes  staff   16864 Dec 12 09:57 \u001b[34mphi7\u001b[m\u001b[m\r\n",
      "drwxr-xr-x  3692 rjbarnes  staff  118144 Dec 12 09:58 \u001b[34mtlg\u001b[m\u001b[m\r\n"
     ]
    }
   ],
   "source": [
    "!ls -l ~/cltk_data/originals/"
   ]
  },
  {
   "cell_type": "markdown",
   "metadata": {},
   "source": [
    "### Convert TEI XML files to plaintext"
   ]
  },
  {
   "cell_type": "markdown",
   "metadata": {},
   "source": [
    "Not all of the data in these corpora can be easily readable and must be converted with some of CLTK's programs"
   ]
  },
  {
   "cell_type": "markdown",
   "metadata": {},
   "source": [
    "In order to use these, you need to have already installed the program Beautiful Soup. If you follwed all of the steps in the first tutorial, you will have already installed this. If not, you should `pip install beautifulsoup4`"
   ]
  },
  {
   "cell_type": "markdown",
   "metadata": {},
   "source": [
    "next, import the converter module from CLTK and run it"
   ]
  },
  {
   "cell_type": "code",
   "execution_count": 38,
   "metadata": {},
   "outputs": [],
   "source": [
    "from cltk.corpus.greek.tei import onekgreek_tei_xml_to_text"
   ]
  },
  {
   "cell_type": "code",
   "execution_count": 39,
   "metadata": {},
   "outputs": [],
   "source": [
    "onekgreek_tei_xml_to_text()"
   ]
  },
  {
   "cell_type": "code",
   "execution_count": 40,
   "metadata": {},
   "outputs": [
    {
     "name": "stdout",
     "output_type": "stream",
     "text": [
      "     975\r\n"
     ]
    }
   ],
   "source": [
    "ls -l ~/cltk_data/greek/text/greek_text_first1kgreek_plaintext/ | wc -l"
   ]
  },
  {
   "cell_type": "markdown",
   "metadata": {},
   "source": [
    "### TLG_U ###"
   ]
  },
  {
   "cell_type": "markdown",
   "metadata": {},
   "source": [
    "Try the following in order to convert and index the Packhard Humanities and Thesaurus Linguae Graecae libraries (PHI5, PHI7, TLG) if you have them"
   ]
  },
  {
   "cell_type": "markdown",
   "metadata": {},
   "source": [
    "I haven't been able to get it to work on my computer, but I hope to return with updates. "
   ]
  },
  {
   "cell_type": "code",
   "execution_count": null,
   "metadata": {},
   "outputs": [],
   "source": [
    "from cltk.corpus.greek.tlgu import TLGU"
   ]
  },
  {
   "cell_type": "code",
   "execution_count": null,
   "metadata": {
    "scrolled": true
   },
   "outputs": [],
   "source": [
    " t = TLGU()"
   ]
  },
  {
   "cell_type": "code",
   "execution_count": 44,
   "metadata": {},
   "outputs": [],
   "source": [
    "t.convert_corpus(corpus='phi5')"
   ]
  },
  {
   "cell_type": "code",
   "execution_count": 45,
   "metadata": {},
   "outputs": [],
   "source": [
    "t.convert_corpus(corpus='tlg')"
   ]
  },
  {
   "cell_type": "code",
   "execution_count": 46,
   "metadata": {},
   "outputs": [],
   "source": [
    "t.convert_corpus(corpus='phi7')"
   ]
  },
  {
   "cell_type": "code",
   "execution_count": 47,
   "metadata": {},
   "outputs": [],
   "source": [
    "t.convert_corpus(corpus='phi7', latin=True)"
   ]
  },
  {
   "cell_type": "code",
   "execution_count": 48,
   "metadata": {},
   "outputs": [],
   "source": [
    "t.divide_works('tlg')"
   ]
  }
 ],
 "metadata": {
  "kernelspec": {
   "display_name": "Python 3",
   "language": "python",
   "name": "python3"
  },
  "language_info": {
   "codemirror_mode": {
    "name": "ipython",
    "version": 3
   },
   "file_extension": ".py",
   "mimetype": "text/x-python",
   "name": "python",
   "nbconvert_exporter": "python",
   "pygments_lexer": "ipython3",
   "version": "3.7.4"
  }
 },
 "nbformat": 4,
 "nbformat_minor": 2
}
