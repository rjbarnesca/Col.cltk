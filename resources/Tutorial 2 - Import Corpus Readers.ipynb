{
 "cells": [
  {
   "cell_type": "markdown",
   "metadata": {},
   "source": [
    "## Importing corpus readers"
   ]
  },
  {
   "cell_type": "markdown",
   "metadata": {},
   "source": [
    "***NB** *I have found many errors in these corpus reader modules. Use them with caution.*"
   ]
  },
  {
   "cell_type": "markdown",
   "metadata": {},
   "source": [
    "First we will need to import the corpus reader."
   ]
  },
  {
   "cell_type": "markdown",
   "metadata": {},
   "source": [
    "To do so, you must `import` the module (`get_corpus_reader`) `from` the proper repository (`cltk.corpus.readers`)"
   ]
  },
  {
   "cell_type": "code",
   "execution_count": 4,
   "metadata": {},
   "outputs": [],
   "source": [
    "from cltk.corpus.readers import get_corpus_reader"
   ]
  },
  {
   "cell_type": "markdown",
   "metadata": {},
   "source": [
    "let's say you want to open a Latin text..."
   ]
  },
  {
   "cell_type": "markdown",
   "metadata": {},
   "source": [
    "...first, you might want a detailed (`-l`) list (`ls`) the corpora in your latin directory (`~/cltk_data/latin/text/`)"
   ]
  },
  {
   "cell_type": "code",
   "execution_count": 5,
   "metadata": {},
   "outputs": [
    {
     "name": "stdout",
     "output_type": "stream",
     "text": [
      "total 0\r\n",
      "drwxr-xr-x    5 rjbarnes  staff    160 Dec 12 10:29 \u001b[34mlatin_text_antique_digiliblt\u001b[m\u001b[m/\r\n",
      "drwxr-xr-x   46 rjbarnes  staff   1472 Dec 12 10:29 \u001b[34mlatin_text_corpus_grammaticorum_latinorum\u001b[m\u001b[m/\r\n",
      "drwxr-xr-x  623 rjbarnes  staff  19936 Dec 11 17:10 \u001b[34mlatin_text_latin_library\u001b[m\u001b[m/\r\n",
      "drwxr-xr-x   55 rjbarnes  staff   1760 Dec 11 17:33 \u001b[34mlatin_text_perseus\u001b[m\u001b[m/\r\n",
      "drwxr-xr-x   20 rjbarnes  staff    640 Dec 12 10:28 \u001b[34mlatin_text_poeti_ditalia\u001b[m\u001b[m/\r\n",
      "drwxr-xr-x    8 rjbarnes  staff    256 Dec 12 10:27 \u001b[34mlatin_text_tesserae\u001b[m\u001b[m/\r\n",
      "drwxr-xr-x    3 rjbarnes  staff     96 Feb 21 12:34 \u001b[34mphi5\u001b[m\u001b[m/\r\n",
      "drwxr-xr-x    3 rjbarnes  staff     96 Jan 18 17:50 \u001b[34mphi7\u001b[m\u001b[m/\r\n"
     ]
    }
   ],
   "source": [
    "ls -l ~/cltk_data/latin/text/"
   ]
  },
  {
   "cell_type": "markdown",
   "metadata": {},
   "source": [
    "the CLTK has metadata filtration modules for Latin Library, Perseus, and PHI5"
   ]
  },
  {
   "cell_type": "markdown",
   "metadata": {},
   "source": [
    "## The Latin Library ##"
   ]
  },
  {
   "cell_type": "markdown",
   "metadata": {},
   "source": [
    "Let's see how to filter through the Latin Library with CLTK"
   ]
  },
  {
   "cell_type": "markdown",
   "metadata": {},
   "source": [
    "first, you must come up with a variable (`latin_corpus`) which you can assign (`=`) to the corpus of the Latin Library (`get_corpus_reader(corpus_name = 'latin_text_latin_library', language = 'latin')`)"
   ]
  },
  {
   "cell_type": "code",
   "execution_count": 3,
   "metadata": {},
   "outputs": [],
   "source": [
    "latin_corpus = get_corpus_reader(corpus_name = 'latin_text_latin_library', language = 'latin')"
   ]
  },
  {
   "cell_type": "markdown",
   "metadata": {},
   "source": [
    "You will now be able to read the metadata for corpus filtration..."
   ]
  },
  {
   "cell_type": "markdown",
   "metadata": {},
   "source": [
    "### Filtering by time period, author, text ###"
   ]
  },
  {
   "cell_type": "markdown",
   "metadata": {},
   "source": [
    "CLTK has ways for filtering the Latin Library by time period, author, and text"
   ]
  },
  {
   "cell_type": "markdown",
   "metadata": {},
   "source": [
    "To import by time period and author you must import the module (`corpus_directories_by_type`)"
   ]
  },
  {
   "cell_type": "code",
   "execution_count": 4,
   "metadata": {},
   "outputs": [],
   "source": [
    "from cltk.corpus.latin.latin_library_corpus_types import corpus_directories_by_type"
   ]
  },
  {
   "cell_type": "markdown",
   "metadata": {},
   "source": [
    "then, you may filter by **time period** (`keys`)..."
   ]
  },
  {
   "cell_type": "code",
   "execution_count": 5,
   "metadata": {},
   "outputs": [
    {
     "data": {
      "text/plain": [
       "['republican',\n",
       " 'augustan',\n",
       " 'early_silver',\n",
       " 'late_silver',\n",
       " 'old',\n",
       " 'christian',\n",
       " 'medieval',\n",
       " 'renaissance',\n",
       " 'neo_latin',\n",
       " 'misc',\n",
       " 'early']"
      ]
     },
     "execution_count": 5,
     "metadata": {},
     "output_type": "execute_result"
    }
   ],
   "source": [
    "list(corpus_directories_by_type.keys())"
   ]
  },
  {
   "cell_type": "markdown",
   "metadata": {},
   "source": [
    "... and by **author** (`values`)"
   ]
  },
  {
   "cell_type": "code",
   "execution_count": 7,
   "metadata": {},
   "outputs": [
    {
     "data": {
      "text/plain": [
       "[['./caesar', './lucretius', './nepos', './cicero'],\n",
       " ['./livy', './ovid', './horace', './vergil', './hyginus'],\n",
       " ['./martial',\n",
       "  './juvenal',\n",
       "  './tacitus',\n",
       "  './lucan',\n",
       "  './quintilian',\n",
       "  './sen',\n",
       "  './statius',\n",
       "  './silius',\n",
       "  './columella'],\n",
       " ['./suetonius',\n",
       "  './gellius',\n",
       "  './apuleius',\n",
       "  './justin',\n",
       "  './apicius',\n",
       "  './fulgentius',\n",
       "  './orosius'],\n",
       " ['./plautus'],\n",
       " ['./ambrose',\n",
       "  './abelard',\n",
       "  './alcuin',\n",
       "  './augustine',\n",
       "  './bede',\n",
       "  './bible',\n",
       "  './cassiodorus',\n",
       "  './commodianus',\n",
       "  './gregorytours',\n",
       "  './hugo',\n",
       "  './isidore',\n",
       "  './jerome',\n",
       "  './prudentius',\n",
       "  './tertullian',\n",
       "  './kempis',\n",
       "  './leothegreat'],\n",
       " ['./boethiusdacia', './dante'],\n",
       " [],\n",
       " ['./addison',\n",
       "  './bacon',\n",
       "  './bultelius',\n",
       "  './descartes',\n",
       "  './erasmus',\n",
       "  './galileo',\n",
       "  './kepler',\n",
       "  './may',\n",
       "  './melanchthon',\n",
       "  './xylander',\n",
       "  './campion'],\n",
       " ['./alanus',\n",
       "  './albertanus',\n",
       "  './albertofaix',\n",
       "  './aquinas',\n",
       "  './ammianus',\n",
       "  './arnobius',\n",
       "  './capellanus',\n",
       "  './cato',\n",
       "  './claudian',\n",
       "  './curtius',\n",
       "  './eutropius',\n",
       "  './frontinus',\n",
       "  './gestafrancorum',\n",
       "  './justinian',\n",
       "  './lactantius',\n",
       "  './martinbraga',\n",
       "  './mirandola',\n",
       "  './ottofreising',\n",
       "  './pauldeacon',\n",
       "  './sha',\n",
       "  './theodosius',\n",
       "  './voragine',\n",
       "  './walter',\n",
       "  './williamtyre'],\n",
       " []]"
      ]
     },
     "execution_count": 7,
     "metadata": {},
     "output_type": "execute_result"
    }
   ],
   "source": [
    "list(corpus_directories_by_type.values())"
   ]
  },
  {
   "cell_type": "markdown",
   "metadata": {},
   "source": [
    "To filter by **text** you must import the module (`corpus_texts_by_type`)"
   ]
  },
  {
   "cell_type": "code",
   "execution_count": 6,
   "metadata": {},
   "outputs": [],
   "source": [
    "from cltk.corpus.latin.latin_library_corpus_types import corpus_texts_by_type"
   ]
  },
  {
   "cell_type": "markdown",
   "metadata": {},
   "source": [
    "then, you may filter by individual **text** (`values`)"
   ]
  },
  {
   "cell_type": "code",
   "execution_count": 8,
   "metadata": {
    "scrolled": false
   },
   "outputs": [
    {
     "data": {
      "text/plain": [
       "[['sall.1.txt',\n",
       "  'sall.2.txt',\n",
       "  'sall.cotta.txt',\n",
       "  'sall.ep1.txt',\n",
       "  'sall.ep2.txt',\n",
       "  'sall.frag.txt',\n",
       "  'sall.invectiva.txt',\n",
       "  'sall.lep.txt',\n",
       "  'sall.macer.txt',\n",
       "  'sall.mithr.txt',\n",
       "  'sall.phil.txt',\n",
       "  'sall.pomp.txt',\n",
       "  'varro.frag.txt',\n",
       "  'varro.ll10.txt',\n",
       "  'varro.ll5.txt',\n",
       "  'varro.ll6.txt',\n",
       "  'varro.ll7.txt',\n",
       "  'varro.ll8.txt',\n",
       "  'varro.ll9.txt',\n",
       "  'varro.rr1.txt',\n",
       "  'varro.rr2.txt',\n",
       "  'varro.rr3.txt',\n",
       "  'sulpicia.txt'],\n",
       " ['resgestae.txt',\n",
       "  'resgestae1.txt',\n",
       "  'manilius1.txt',\n",
       "  'manilius2.txt',\n",
       "  'manilius3.txt',\n",
       "  'manilius4.txt',\n",
       "  'manilius5.txt',\n",
       "  'catullus.txt',\n",
       "  'vitruvius1.txt',\n",
       "  'vitruvius10.txt',\n",
       "  'vitruvius2.txt',\n",
       "  'vitruvius3.txt',\n",
       "  'vitruvius4.txt',\n",
       "  'vitruvius5.txt',\n",
       "  'vitruvius6.txt',\n",
       "  'vitruvius7.txt',\n",
       "  'vitruvius8.txt',\n",
       "  'vitruvius9.txt',\n",
       "  'propertius1.txt',\n",
       "  'tibullus1.txt',\n",
       "  'tibullus2.txt',\n",
       "  'tibullus3.txt'],\n",
       " ['pliny.ep1.txt',\n",
       "  'pliny.ep10.txt',\n",
       "  'pliny.ep2.txt',\n",
       "  'pliny.ep3.txt',\n",
       "  'pliny.ep4.txt',\n",
       "  'pliny.ep5.txt',\n",
       "  'pliny.ep6.txt',\n",
       "  'pliny.ep7.txt',\n",
       "  'pliny.ep8.txt',\n",
       "  'pliny.ep9.txt',\n",
       "  'pliny.nh1.txt',\n",
       "  'pliny.nh2.txt',\n",
       "  'pliny.nh3.txt',\n",
       "  'pliny.nh4.txt',\n",
       "  'pliny.nh5.txt',\n",
       "  'pliny.nhpr.txt',\n",
       "  'pliny.panegyricus.txt',\n",
       "  'petronius1.txt',\n",
       "  'petroniusfrag.txt',\n",
       "  'persius.txt',\n",
       "  'phaedr1.txt',\n",
       "  'phaedr2.txt',\n",
       "  'phaedr3.txt',\n",
       "  'phaedr4.txt',\n",
       "  'phaedr5.txt',\n",
       "  'phaedrapp.txt',\n",
       "  'seneca.contr1.txt',\n",
       "  'seneca.contr10.txt',\n",
       "  'seneca.contr2.txt',\n",
       "  'seneca.contr3.txt',\n",
       "  'seneca.contr4.txt',\n",
       "  'seneca.contr5.txt',\n",
       "  'seneca.contr6.txt',\n",
       "  'seneca.contr7.txt',\n",
       "  'seneca.contr8.txt',\n",
       "  'seneca.contr9.txt',\n",
       "  'seneca.fragmenta.txt',\n",
       "  'seneca.suasoriae.txt',\n",
       "  'valeriusflaccus1.txt',\n",
       "  'valeriusflaccus2.txt',\n",
       "  'valeriusflaccus3.txt',\n",
       "  'valeriusflaccus4.txt',\n",
       "  'valeriusflaccus5.txt',\n",
       "  'valeriusflaccus6.txt',\n",
       "  'valeriusflaccus7.txt',\n",
       "  'valeriusflaccus8.txt',\n",
       "  'valmax1.txt',\n",
       "  'valmax2.txt',\n",
       "  'valmax3.txt',\n",
       "  'valmax4.txt',\n",
       "  'valmax5.txt',\n",
       "  'valmax6.txt',\n",
       "  'valmax7.txt',\n",
       "  'valmax8.txt',\n",
       "  'valmax9.txt',\n",
       "  'vell1.txt',\n",
       "  'vell2.txt'],\n",
       " [],\n",
       " ['ter.adel.txt',\n",
       "  'ter.andria.txt',\n",
       "  'ter.eunuchus.txt',\n",
       "  'ter.heauton.txt',\n",
       "  'ter.hecyra.txt',\n",
       "  'ter.phormio.txt',\n",
       "  'andronicus.txt',\n",
       "  'enn.txt'],\n",
       " ['12tables.txt'],\n",
       " ['anselmepistula.txt', 'anselmproslogion.txt', 'carm.bur.txt'],\n",
       " ['anon.martyrio.txt',\n",
       "  'benedict.txt',\n",
       "  'berengar.txt',\n",
       "  'bernardclairvaux.txt',\n",
       "  'bernardcluny.txt',\n",
       "  'bonaventura.itinerarium.txt',\n",
       "  'creeds.txt',\n",
       "  'decretum.txt',\n",
       "  'diesirae.txt',\n",
       "  'egeria.txt',\n",
       "  'ennodius.txt',\n",
       "  'eucherius.txt',\n",
       "  'eugippius.txt',\n",
       "  'greg.txt',\n",
       "  'gregory.txt',\n",
       "  'gregory7.txt',\n",
       "  'hydatius.txt',\n",
       "  'hymni.txt',\n",
       "  'innocent.txt',\n",
       "  'hydatius.txt',\n",
       "  'junillus.txt',\n",
       "  'lactantius.txt',\n",
       "  'liberpontificalis.txt',\n",
       "  'macarius.txt',\n",
       "  'macarius1.txt',\n",
       "  'novatian.txt',\n",
       "  'papal.txt',\n",
       "  'paulinus.poemata.txt',\n",
       "  'perp.txt',\n",
       "  'professio.txt',\n",
       "  'prosperus.txt',\n",
       "  'regula.txt',\n",
       "  'sedulius.txt',\n",
       "  'sulpiciusseverus.txt',\n",
       "  'vorag.txt'],\n",
       " ['petrarch.ep1.txt', 'petrarch.numa.txt', 'petrarch.rom.txt'],\n",
       " ['spinoza.ethica1.txt',\n",
       "  'spinoza.ethica2.txt',\n",
       "  'spinoza.ethica3.txt',\n",
       "  'spinoza.ethica4.txt',\n",
       "  'spinoza.ethica5.txt'],\n",
       " []]"
      ]
     },
     "execution_count": 8,
     "metadata": {},
     "output_type": "execute_result"
    }
   ],
   "source": [
    "list(corpus_texts_by_type.values())"
   ]
  },
  {
   "cell_type": "markdown",
   "metadata": {},
   "source": [
    "### Interacting with the library ###"
   ]
  },
  {
   "cell_type": "markdown",
   "metadata": {},
   "source": [
    "at this point you can count (`len`) the number of documents (`docs`) listed (`list`) in the Latin Library (`latin_corpus`)"
   ]
  },
  {
   "cell_type": "code",
   "execution_count": 9,
   "metadata": {},
   "outputs": [
    {
     "data": {
      "text/plain": [
       "2141"
      ]
     },
     "execution_count": 9,
     "metadata": {},
     "output_type": "execute_result"
    }
   ],
   "source": [
    "len(list(latin_corpus.docs()))"
   ]
  },
  {
   "cell_type": "markdown",
   "metadata": {},
   "source": [
    "In addition to counting documents (`docs`), you can also count the paragraphs (`paras`), sentences (`sents`), and words (`words`) of an individual text."
   ]
  },
  {
   "cell_type": "markdown",
   "metadata": {},
   "source": [
    "let's use, as an example, Seneca the Elder's *Suasoriae* (`'seneca.suasoriae.txt'`)."
   ]
  },
  {
   "cell_type": "code",
   "execution_count": 10,
   "metadata": {},
   "outputs": [
    {
     "data": {
      "text/plain": [
       "176"
      ]
     },
     "execution_count": 10,
     "metadata": {},
     "output_type": "execute_result"
    }
   ],
   "source": [
    "len(list(latin_corpus.paras('seneca.suasoriae.txt')))"
   ]
  },
  {
   "cell_type": "code",
   "execution_count": 11,
   "metadata": {},
   "outputs": [
    {
     "data": {
      "text/plain": [
       "783"
      ]
     },
     "execution_count": 11,
     "metadata": {},
     "output_type": "execute_result"
    }
   ],
   "source": [
    "len(list(latin_corpus.sents('seneca.suasoriae.txt')))"
   ]
  },
  {
   "cell_type": "code",
   "execution_count": 12,
   "metadata": {},
   "outputs": [
    {
     "data": {
      "text/plain": [
       "13382"
      ]
     },
     "execution_count": 12,
     "metadata": {},
     "output_type": "execute_result"
    }
   ],
   "source": [
    "len(list(latin_corpus.words('seneca.suasoriae.txt')))"
   ]
  },
  {
   "cell_type": "markdown",
   "metadata": {},
   "source": [
    "## Perseus Library ##"
   ]
  },
  {
   "cell_type": "markdown",
   "metadata": {},
   "source": [
    "OK, we've seen how to deal with the Latin Library..."
   ]
  },
  {
   "cell_type": "markdown",
   "metadata": {},
   "source": [
    "Let's try with Perseus library. "
   ]
  },
  {
   "cell_type": "markdown",
   "metadata": {},
   "source": [
    "first, let's  come up with a variable (`perseus_corpus`) to assign (`=`) to the corpus of the Latin Library (`get_corpus_reader(language='latin', corpus_name='latin_text_perseus')`)"
   ]
  },
  {
   "cell_type": "code",
   "execution_count": 13,
   "metadata": {},
   "outputs": [],
   "source": [
    "perseus_corpus = get_corpus_reader(language='latin', corpus_name='latin_text_perseus')"
   ]
  },
  {
   "cell_type": "markdown",
   "metadata": {},
   "source": [
    "### Filtering by time period, author/text ###"
   ]
  },
  {
   "cell_type": "markdown",
   "metadata": {},
   "source": [
    "let's filter the documents in the library by, first, importing the module (`perseus_corpus_texts_by_type`)"
   ]
  },
  {
   "cell_type": "code",
   "execution_count": 14,
   "metadata": {},
   "outputs": [],
   "source": [
    "from cltk.corpus.latin.perseus_corpus_types import perseus_corpus_texts_by_type"
   ]
  },
  {
   "cell_type": "markdown",
   "metadata": {},
   "source": [
    "...and, then, by breaking the corpus up by **time period** (`keys`)..."
   ]
  },
  {
   "cell_type": "code",
   "execution_count": 15,
   "metadata": {},
   "outputs": [
    {
     "data": {
      "text/plain": [
       "['augustan',\n",
       " 'christian',\n",
       " 'early_silver',\n",
       " 'late_silver',\n",
       " 'misc',\n",
       " 'neo_latin',\n",
       " 'old',\n",
       " 'republican']"
      ]
     },
     "execution_count": 15,
     "metadata": {},
     "output_type": "execute_result"
    }
   ],
   "source": [
    "list(perseus_corpus_texts_by_type.keys())"
   ]
  },
  {
   "cell_type": "markdown",
   "metadata": {},
   "source": [
    "...and by **text/author** (`values`)"
   ]
  },
  {
   "cell_type": "code",
   "execution_count": 16,
   "metadata": {},
   "outputs": [
    {
     "data": {
      "text/plain": [
       "[['propertius-sextus__elegies__latin.json',\n",
       "  'horace__ars-poetica__latin.json',\n",
       "  'horace__carmen-saeculare__latin.json',\n",
       "  'horace__odes__latin.json',\n",
       "  'horace__satires__latin.json',\n",
       "  'horace__epistulae__latin.json',\n",
       "  'horace__epodi__latin.json',\n",
       "  'ovid__amores__latin.json',\n",
       "  'ovid__art-of-love__latin.json',\n",
       "  'ovid__book-of-days__latin.json',\n",
       "  'ovid__epistulae__latin.json',\n",
       "  'ovid__ibis__latin.json',\n",
       "  'ovid__letters-from-the-black-sea__latin.json',\n",
       "  'ovid__metamorphoses__latin.json',\n",
       "  'ovid__remedy-of-love__latin.json',\n",
       "  'ovid__sorrows__latin.json',\n",
       "  'ovid__art-of-beauty__latin.json',\n",
       "  'virgil__aeneid__latin.json',\n",
       "  'virgil__eclogues__latin.json',\n",
       "  'virgil__georgics__latin.json',\n",
       "  'tibullus__elegiae__latin.json',\n",
       "  'vitruvius-pollio__on-architecture__latin.json'],\n",
       " ['ausonius-decimus-magnus__epistulae__latin.json',\n",
       "  'boethius-d-524__de-consolatione-philosophiae__latin.json',\n",
       "  'boethius-d-524__de-fide-catholica__latin.json',\n",
       "  'boethius-d-524__quomodo-trinitas-unus-deus-ac-non-tres-dii-de-trinitate__latin.json',\n",
       "  'claudianus-claudius__panegyricus-de-tertio-consulatu-honorii-augusti__latin.json',\n",
       "  'gellius-aulus__noctes-atticae__latin.json',\n",
       "  'jerome-saint-d-419-or-20__epistolae__latin.json',\n",
       "  'prudentius-b-348__apotheosis__latin.json',\n",
       "  'prudentius-b-348__cathemerina__latin.json',\n",
       "  'prudentius-b-348__contra-orationem-symmachia__latin.json',\n",
       "  'prudentius-b-348__dittochaeon__latin.json',\n",
       "  'prudentius-b-348__hamartigenia__latin.json',\n",
       "  'prudentius-b-348__liber-peristephanon__latin.json',\n",
       "  'prudentius-b-348__praefetio__latin.json',\n",
       "  'prudentius-b-348__epilogus__latin.json',\n",
       "  'prudentius-b-348__psychomachia__latin.json',\n",
       "  'boethius-d-524__liber-de-persona-et-duabus-naturis-contra-eutychen-et-nestorium__latin.json',\n",
       "  'boethius-d-524__quomodo-substantiae-in-eo-quod-sint-bonae-sint-cum-non-sint-substanialia-bona__latin.json',\n",
       "  'boethius-d-524__utrum-pater-et-filius-ac-spiritus-sanctus-de-divinitate-substantialiter-praedicentur-liber__latin.json',\n",
       "  'tertullian-ca-160-ca-230__ad-martyras__latin.json',\n",
       "  'tertullian-ca-160-ca-230__ad-nationes-libri-duo__latin.json',\n",
       "  'tertullian-ca-160-ca-230__ad-scapulam__latin.json',\n",
       "  'tertullian-ca-160-ca-230__ad-uxorem__latin.json',\n",
       "  'tertullian-ca-160-ca-230__adversus-hermogenem__latin.json',\n",
       "  'tertullian-ca-160-ca-230__adversus-judaeos-liber__latin.json',\n",
       "  'tertullian-ca-160-ca-230__adversus-marcionem__latin.json',\n",
       "  'tertullian-ca-160-ca-230__adversus-praxean__latin.json',\n",
       "  'tertullian-ca-160-ca-230__adversus-valentinianos__latin.json',\n",
       "  'tertullian-ca-160-ca-230__apologeticum__latin.json',\n",
       "  'tertullian-ca-160-ca-230__de-anima__latin.json',\n",
       "  'tertullian-ca-160-ca-230__de-baptismo__latin.json',\n",
       "  'tertullian-ca-160-ca-230__de-carne-christi__latin.json',\n",
       "  'tertullian-ca-160-ca-230__de-carnis-resurrectione__latin.json',\n",
       "  'tertullian-ca-160-ca-230__de-corona__latin.json',\n",
       "  'tertullian-ca-160-ca-230__de-cultu-feminarum__latin.json',\n",
       "  'tertullian-ca-160-ca-230__de-exhortatione-castitatis-liber__latin.json',\n",
       "  'tertullian-ca-160-ca-230__de-fuga-in-persecutione__latin.json',\n",
       "  'tertullian-ca-160-ca-230__de-idolatria__latin.json',\n",
       "  'tertullian-ca-160-ca-230__de-ieiunio-adversus-psychicos__latin.json',\n",
       "  'tertullian-ca-160-ca-230__de-monogamia__latin.json',\n",
       "  'tertullian-ca-160-ca-230__de-oratione__latin.json',\n",
       "  'tertullian-ca-160-ca-230__de-paenitentia__latin.json',\n",
       "  'tertullian-ca-160-ca-230__de-pallio__latin.json',\n",
       "  'tertullian-ca-160-ca-230__de-patientia__latin.json',\n",
       "  'tertullian-ca-160-ca-230__de-praescriptionibus-hereticorum__latin.json',\n",
       "  'tertullian-ca-160-ca-230__de-pudicitia__latin.json',\n",
       "  'tertullian-ca-160-ca-230__de-spectaculis__latin.json',\n",
       "  'tertullian-ca-160-ca-230__de-testimionio-animae__latin.json',\n",
       "  'tertullian-ca-160-ca-230__de-virginibus-velandis__latin.json',\n",
       "  'tertullian-ca-160-ca-230__scorpiace__latin.json'],\n",
       " ['apuleius__florida__latin.json',\n",
       "  'columella-lucius-junius-moderatus__res-rustica__latin.json',\n",
       "  'curtius-rufus-quintus__historiarum-alexandri-magni__latin.json',\n",
       "  'florus-lucius-annaeus__epitome-rerum-romanorum__latin.json',\n",
       "  'juvenal__satires__latin.json',\n",
       "  'lucan__civil-war__latin.json',\n",
       "  'martial__epigrammata__latin.json',\n",
       "  'nepos-cornelius__cato__latin.json',\n",
       "  'paris-julius__facta-et-dicta-memorabilia__latin.json',\n",
       "  'pliny-the-elder__naturalis-historia__latin.json',\n",
       "  'pliny-the-younger__epistulae__latin.json',\n",
       "  'seneca-lucius-annaeus__de-consolatione-ad-polybium__latin.json',\n",
       "  'seneca-lucius-annaeus-55-bc-ca-39-ad__suasoriae__latin.json',\n",
       "  'seneca-lucius-annaeus-55-bc-ca-39-ad__controversiae__latin.json',\n",
       "  'seneca-lucius-annaeus-55-bc-ca-39-ad__excerpta-controversiae__latin.json',\n",
       "  'seneca-lucius-annaeus-55-bc-ca-39-ad__fragmenta__latin.json',\n",
       "  'seneca-lucius-annaeus-plays__agamemnon__latin.json',\n",
       "  'seneca-lucius-annaeus-plays__apocolocyntosis__latin.json',\n",
       "  'seneca-lucius-annaeus-plays__de-clementia__latin.json',\n",
       "  'seneca-lucius-annaeus-plays__hercules-furens__latin.json',\n",
       "  'seneca-lucius-annaeus-plays__hercules-oetaeus__latin.json',\n",
       "  'seneca-lucius-annaeus-plays__medea__latin.json',\n",
       "  'seneca-lucius-annaeus-plays__octavia__latin.json',\n",
       "  'seneca-lucius-annaeus-plays__oedipus__latin.json',\n",
       "  'seneca-lucius-annaeus-plays__phaedra__latin.json',\n",
       "  'seneca-lucius-annaeus-plays__phoenissae__latin.json',\n",
       "  'seneca-lucius-annaeus-plays__thyestes__latin.json',\n",
       "  'seneca-lucius-annaeus-plays__troades-furens__latin.json',\n",
       "  'seneca-lucius-annaeus__de-brevitate-vitae__latin.json',\n",
       "  'seneca-lucius-annaeus__de-consolatione-ad-helviam__latin.json',\n",
       "  'seneca-lucius-annaeus__de-consolatione-ad-marciam__latin.json',\n",
       "  'seneca-lucius-annaeus__de-constantia__latin.json',\n",
       "  'seneca-lucius-annaeus__de-ira__latin.json',\n",
       "  'seneca-lucius-annaeus__de-otio-sapientis__latin.json',\n",
       "  'seneca-lucius-annaeus__de-providentia__latin.json',\n",
       "  'seneca-lucius-annaeus__de-tranquilitate-animi__latin.json',\n",
       "  'seneca-lucius-annaeus__de-vita-beata__latin.json',\n",
       "  'silius-italicus-tiberius-catius__punica__latin.json',\n",
       "  'statius-p-papinius-publius-papinius__achilleis__latin.json',\n",
       "  'statius-p-papinius-publius-papinius__silvae__latin.json',\n",
       "  'tacitus-cornelius__agricola__latin.json',\n",
       "  'tacitus-cornelius__germania__latin.json',\n",
       "  'valerius-flaccus-gaius__argonautica__latin.json'],\n",
       " ['apuleius__apologia__latin.json',\n",
       "  'apuleius__metamorphoses__latin.json',\n",
       "  'claudianus-claudius__carminum-minorum-corpusculum__latin.json',\n",
       "  'claudianus-claudius__de-bello-gildonico__latin.json',\n",
       "  'claudianus-claudius__de-bello-gothico__latin.json',\n",
       "  'claudianus-claudius__de-consulatu-stilichonis__latin.json',\n",
       "  'claudianus-claudius__de-raptu-proserpinae__latin.json',\n",
       "  'claudianus-claudius__epithalamium-de-nuptiis-honorii-augusti__latin.json',\n",
       "  'claudianus-claudius__fescinnina-de-nuptiis-honorii-augusti__latin.json',\n",
       "  'claudianus-claudius__in-eutropium__latin.json',\n",
       "  'claudianus-claudius__in-rufinum__latin.json',\n",
       "  'claudianus-claudius__panegyricus-de-quarto-consulatu-honorii-augusti__latin.json',\n",
       "  'claudianus-claudius__panegyricus-de-sexto-consulatu-honorii-augusti__latin.json',\n",
       "  'claudianus-claudius__panegyricus-dictus-manlio-theodoro-consuli__latin.json',\n",
       "  'claudianus-claudius__panegyricus-dictus-probino-et-olybrio-consulibus__latin.json',\n",
       "  'suetonius-ca-69-ca-122__galba__latin.json',\n",
       "  'suetonius-ca-69-ca-122__otho__latin.json',\n",
       "  'suetonius-ca-69-ca-122__tiberius__latin.json',\n",
       "  'suetonius-ca-69-ca-122__vitellius__latin.json',\n",
       "  'suetonius-ca-69-ca-122__caligula__latin.json',\n",
       "  'suetonius-ca-69-ca-122__divus-augustus__latin.json',\n",
       "  'suetonius-ca-69-ca-122__divus-claudius__latin.json',\n",
       "  'suetonius-ca-69-ca-122__divus-julius__latin.json',\n",
       "  'suetonius-ca-69-ca-122__divus-titus__latin.json',\n",
       "  'suetonius-ca-69-ca-122__divus-vespasianus__latin.json',\n",
       "  'suetonius-ca-69-ca-122__domitianus__latin.json',\n",
       "  'suetonius-ca-69-ca-122__nero__latin.json',\n",
       "  'ammianus-marcellinus__rerum-gestarum__latin.json',\n",
       "  'ausonius-decimus-magnus__caesares__latin.json',\n",
       "  'ausonius-decimus-magnus__oratio-versibus-rhopalicis__latin.json',\n",
       "  'ausonius-decimus-magnus__versus-paschales-prosodic__latin.json',\n",
       "  'ausonius-decimus-magnus__bissula__latin.json',\n",
       "  'ausonius-decimus-magnus__epicedion-in-patrem__latin.json',\n",
       "  'ausonius-decimus-magnus__genethliacon-ad-ausonium-nepotem__latin.json',\n",
       "  'ausonius-decimus-magnus__liber-protrepticus-ad-nepotem__latin.json',\n",
       "  'ausonius-decimus-magnus__commemoratio-professorum-burdigalensium__latin.json',\n",
       "  'ausonius-decimus-magnus__de-herediolo__latin.json',\n",
       "  'ausonius-decimus-magnus__eclogarum-liber__latin.json',\n",
       "  'ausonius-decimus-magnus__ephemeris__latin.json',\n",
       "  'ausonius-decimus-magnus__epigrammaton-liber__latin.json',\n",
       "  'ausonius-decimus-magnus__epitaphia__latin.json',\n",
       "  'ausonius-decimus-magnus__gratiarum-actio__latin.json',\n",
       "  'ausonius-decimus-magnus__griphus-ternarii-numeri__latin.json',\n",
       "  'ausonius-decimus-magnus__mosella__latin.json',\n",
       "  'ausonius-decimus-magnus__ordo-urbium-nobilium__latin.json',\n",
       "  'ausonius-decimus-magnus__parentalia__latin.json',\n",
       "  'ausonius-decimus-magnus__praefatiunculae__latin.json',\n",
       "  'ausonius-decimus-magnus__precationes__latin.json',\n",
       "  'ausonius-decimus-magnus__technopaegnion__latin.json',\n",
       "  'vopiscus-flavius-fl-34-jh__severus__latin.json',\n",
       "  'vopiscus-flavius-fl-34-jh__alexander-severus__latin.json',\n",
       "  'vopiscus-flavius-fl-34-jh__antoninus-caracalla__latin.json',\n",
       "  'vopiscus-flavius-fl-34-jh__antoninus-geta__latin.json',\n",
       "  'vopiscus-flavius-fl-34-jh__antoninus-heliogobalus__latin.json',\n",
       "  'vopiscus-flavius-fl-34-jh__antoninus-pius__latin.json',\n",
       "  'vopiscus-flavius-fl-34-jh__avidius-casius__latin.json',\n",
       "  'vopiscus-flavius-fl-34-jh__carus-et-carinus-et-numerianus__latin.json',\n",
       "  'vopiscus-flavius-fl-34-jh__clodinus-albinus__latin.json',\n",
       "  'vopiscus-flavius-fl-34-jh__commodus-antoninus__latin.json',\n",
       "  'vopiscus-flavius-fl-34-jh__de-vita-hadriani__latin.json',\n",
       "  'vopiscus-flavius-fl-34-jh__diadumenus-antoninus__latin.json',\n",
       "  'vopiscus-flavius-fl-34-jh__didius-julianus__latin.json',\n",
       "  'vopiscus-flavius-fl-34-jh__divus-claudius__latin.json',\n",
       "  'vopiscus-flavius-fl-34-jh__firmus-saturninus-proculus-et-bonosus__latin.json',\n",
       "  'vopiscus-flavius-fl-34-jh__gallieni-duo__latin.json',\n",
       "  'vopiscus-flavius-fl-34-jh__goridani-tres__latin.json',\n",
       "  'vopiscus-flavius-fl-34-jh__helius__latin.json',\n",
       "  'vopiscus-flavius-fl-34-jh__marcus-antoninus-philosophus__latin.json',\n",
       "  'vopiscus-flavius-fl-34-jh__maximini-duo__latin.json',\n",
       "  'vopiscus-flavius-fl-34-jh__maximus-et-balbinus__latin.json',\n",
       "  'vopiscus-flavius-fl-34-jh__opilius-macrinus__latin.json',\n",
       "  'vopiscus-flavius-fl-34-jh__pertinax__latin.json',\n",
       "  'vopiscus-flavius-fl-34-jh__pescennius-niger__latin.json',\n",
       "  'vopiscus-flavius-fl-34-jh__probus__latin.json',\n",
       "  'vopiscus-flavius-fl-34-jh__tacitus__latin.json',\n",
       "  'vopiscus-flavius-fl-34-jh__tyranni-triginta__latin.json',\n",
       "  'vopiscus-flavius-fl-34-jh__valeriani-duo__latin.json',\n",
       "  'vopiscus-flavius-fl-34-jh__verus__latin.json',\n",
       "  'vopiscus-flavius-fl-34-jh__divus-aurelianus__latin.json'],\n",
       " ['celsus-aulus-cornelius__de-medicina__latin.json',\n",
       "  'minucius-felix-marcus__octavius__latin.json'],\n",
       " [],\n",
       " ['plautus-titus-maccius__bacchides__latin.json',\n",
       "  'plautus-titus-maccius__mostellaria__latin.json',\n",
       "  'plautus-titus-maccius__captivi__latin.json',\n",
       "  'plautus-titus-maccius__trinummus__latin.json',\n",
       "  'plautus-titus-maccius__asinaria__latin.json',\n",
       "  'plautus-titus-maccius__casina__latin.json',\n",
       "  'plautus-titus-maccius__curculio__latin.json',\n",
       "  'plautus-titus-maccius__stichus__latin.json',\n",
       "  'plautus-titus-maccius__aulularia__latin.json',\n",
       "  'plautus-titus-maccius__epidicus__latin.json',\n",
       "  'plautus-titus-maccius__menaechmi__latin.json',\n",
       "  'plautus-titus-maccius__mercator__latin.json',\n",
       "  'plautus-titus-maccius__miles-gloriosus__latin.json',\n",
       "  'plautus-titus-maccius__persa__latin.json',\n",
       "  'plautus-titus-maccius__poenulus__latin.json',\n",
       "  'plautus-titus-maccius__rudens__latin.json',\n",
       "  'plautus-titus-maccius__truculentus__latin.json',\n",
       "  'terence__the-self-tormenter__latin.json',\n",
       "  'terence__andria__latin.json',\n",
       "  'terence__the-brothers__latin.json',\n",
       "  'terence__the-mother-in-law__latin.json',\n",
       "  'terence__phormio__latin.json',\n",
       "  'terence__the-eunuch__latin.json'],\n",
       " ['caesar-julius__gallic-war__latin.json',\n",
       "  'cicero__for-marcus-caelius__latin.json',\n",
       "  'cicero__for-marcus-fonteius__latin.json',\n",
       "  'cicero__de-inventione__latin.json',\n",
       "  'cicero__academica__latin.json',\n",
       "  'cicero__brutus__latin.json',\n",
       "  'cicero__de-amicitia__latin.json',\n",
       "  'cicero__de-fato__latin.json',\n",
       "  'cicero__de-finibus-bonorum-et-malorum__latin.json',\n",
       "  'cicero__de-natura-deorum__latin.json',\n",
       "  'cicero__de-officiis__latin.json',\n",
       "  'cicero__de-optimo-genere-oratorum__latin.json',\n",
       "  'cicero__de-republica__latin.json',\n",
       "  'cicero__de-senectute__latin.json',\n",
       "  'cicero__for-sulla__latin.json',\n",
       "  'cicero__in-defense-of-l-murena__latin.json',\n",
       "  'cicero__in-defense-of-lucius-flaccus__latin.json',\n",
       "  'cicero__in-the-senate-after-his-return__latin.json',\n",
       "  'cicero__letters-to-atticus__latin.json',\n",
       "  'cicero__letters-to-brutus__latin.json',\n",
       "  'cicero__letters-to-his-friends__latin.json',\n",
       "  'cicero__on-behalf-of-marcus-tullius__latin.json',\n",
       "  'cicero__orator__latin.json',\n",
       "  'cicero__paradoxa-stoicorum__latin.json',\n",
       "  'cicero__partitiones-oratoriae__latin.json',\n",
       "  'cicero__timaeus__latin.json',\n",
       "  'cicero__topica__latin.json',\n",
       "  'cicero__tusculanae-disputationes__latin.json',\n",
       "  'cicero__against-publius-servilius-rullus__latin.json',\n",
       "  'cicero__de-divinatione__latin.json',\n",
       "  'cicero__divinatio-against-q-caecilius__latin.json',\n",
       "  'cicero__for-archias__latin.json',\n",
       "  'cicero__for-publius-quinctius__latin.json',\n",
       "  'cicero__for-quintus-roscius-the-actor__latin.json',\n",
       "  'cicero__for-sextus-roscius-of-ameria__latin.json',\n",
       "  'cicero__four-orations-against-lucius-catilina__latin.json',\n",
       "  'cicero__in-defense-of-aulus-cluentius-habitus__latin.json',\n",
       "  'cicero__in-defense-of-caius-rabirius__latin.json',\n",
       "  'cicero__letters-to-his-brother-quintus__latin.json',\n",
       "  'cicero__lucullus__latin.json',\n",
       "  'cicero__on-behalf-of-aulus-caecina__latin.json',\n",
       "  'cicero__on-oratory__latin.json',\n",
       "  'cicero__on-pompeys-command__latin.json',\n",
       "  'cicero__orations-against-verres__latin.json',\n",
       "  'cicero__to-the-citizens-after-his-return__latin.json',\n",
       "  'lucretius__de-rerum-natura__latin.json',\n",
       "  'nepos-cornelius__agesilaus__latin.json',\n",
       "  'nepos-cornelius__alcibiades__latin.json',\n",
       "  'nepos-cornelius__aristides__latin.json',\n",
       "  'nepos-cornelius__atticus__latin.json',\n",
       "  'nepos-cornelius__chabrias__latin.json',\n",
       "  'nepos-cornelius__cimon__latin.json',\n",
       "  'nepos-cornelius__conon__latin.json',\n",
       "  'nepos-cornelius__datames__latin.json',\n",
       "  'nepos-cornelius__de-regibus__latin.json',\n",
       "  'nepos-cornelius__dion__latin.json',\n",
       "  'nepos-cornelius__epaminondas__latin.json',\n",
       "  'nepos-cornelius__eumenes__latin.json',\n",
       "  'nepos-cornelius__hamilcar__latin.json',\n",
       "  'nepos-cornelius__hannibal__latin.json',\n",
       "  'nepos-cornelius__iphicrates__latin.json',\n",
       "  'nepos-cornelius__lysander__latin.json',\n",
       "  'nepos-cornelius__miltiades__latin.json',\n",
       "  'nepos-cornelius__pausanias__latin.json',\n",
       "  'nepos-cornelius__pelopidas__latin.json',\n",
       "  'nepos-cornelius__phocion__latin.json',\n",
       "  'nepos-cornelius__themistocles__latin.json',\n",
       "  'nepos-cornelius__thrasybulus__latin.json',\n",
       "  'nepos-cornelius__timoleon__latin.json',\n",
       "  'nepos-cornelius__timotheus__latin.json',\n",
       "  'quintus-tullius-cicero__commentariolum-petitionis__latin.json',\n",
       "  'sallust__bellum-iugurthinum__latin.json',\n",
       "  'sallust__catilinae-coniuratio__latin.json',\n",
       "  'sallust__historiae__latin.json']]"
      ]
     },
     "execution_count": 16,
     "metadata": {},
     "output_type": "execute_result"
    }
   ],
   "source": [
    "list(perseus_corpus_texts_by_type.values())"
   ]
  },
  {
   "cell_type": "markdown",
   "metadata": {},
   "source": [
    "- *NB Perseus differs from Latin Library insofar as it is two-tiered (keys, values) rather than three-tiered (keys, values, and docs)* "
   ]
  },
  {
   "cell_type": "markdown",
   "metadata": {},
   "source": [
    "### Interacting with the library ###"
   ]
  },
  {
   "cell_type": "markdown",
   "metadata": {},
   "source": [
    "as with the latin library, we can count the documents (`docs`) in the library"
   ]
  },
  {
   "cell_type": "code",
   "execution_count": 17,
   "metadata": {},
   "outputs": [
    {
     "data": {
      "text/plain": [
       "293"
      ]
     },
     "execution_count": 17,
     "metadata": {},
     "output_type": "execute_result"
    }
   ],
   "source": [
    "len(list(perseus_corpus.docs()))"
   ]
  },
  {
   "cell_type": "markdown",
   "metadata": {},
   "source": [
    "we can also count the paragraphs (`paras`), sentences (`sents`), and words (`words`) of an individual text"
   ]
  },
  {
   "cell_type": "code",
   "execution_count": 18,
   "metadata": {},
   "outputs": [
    {
     "data": {
      "text/plain": [
       "100"
      ]
     },
     "execution_count": 18,
     "metadata": {},
     "output_type": "execute_result"
    }
   ],
   "source": [
    "len(list(perseus_corpus.paras('seneca-lucius-annaeus-55-bc-ca-39-ad__suasoriae__latin.json')))"
   ]
  },
  {
   "cell_type": "code",
   "execution_count": 19,
   "metadata": {},
   "outputs": [
    {
     "data": {
      "text/plain": [
       "623"
      ]
     },
     "execution_count": 19,
     "metadata": {},
     "output_type": "execute_result"
    }
   ],
   "source": [
    "len(list(perseus_corpus.sents('seneca-lucius-annaeus-55-bc-ca-39-ad__suasoriae__latin.json')))"
   ]
  },
  {
   "cell_type": "code",
   "execution_count": 20,
   "metadata": {},
   "outputs": [
    {
     "data": {
      "text/plain": [
       "12393"
      ]
     },
     "execution_count": 20,
     "metadata": {},
     "output_type": "execute_result"
    }
   ],
   "source": [
    "len(list(perseus_corpus.words('seneca-lucius-annaeus-55-bc-ca-39-ad__suasoriae__latin.json')))"
   ]
  },
  {
   "cell_type": "markdown",
   "metadata": {},
   "source": [
    "### Opening and navigating a text from the library ###"
   ]
  },
  {
   "cell_type": "markdown",
   "metadata": {},
   "source": [
    "Now, let's pull up (`list`) an individual document from the Perseus Library (`perseus_corpus.docs`) - such as, seneca's *Suasoriae* (`'seneca-lucius-annaeus-55-bc-ca-39-ad__suasoriae__latin.json'`)"
   ]
  },
  {
   "cell_type": "code",
   "execution_count": 21,
   "metadata": {},
   "outputs": [
    {
     "data": {
      "text/plain": [
       "[{'meta': 'chapter-section',\n",
       "  'author': 'seneca, lucius annaeus, 55 b.c.-ca. 39 a.d.',\n",
       "  'text': {'0': {'0': '\\nCuicumque rei magnitudinem natura\\ndederat dedit et modum: nihil infinitum est nisi\\nOceanus. Aiunt fertiles in Oceano iacere terras\\nultraque Oceanum rursus alia litora, alium nasci orbem,\\nnec usquam rerum naturam desinere, sed semper\\ninde ubi desisse uideatur nouam exsurgere. facile\\nista finguntur quia Oceanus nauigari non potest.\\nSatis sit hactenus Alexandro uicisse qua mundo\\nlucere satis est. Intra has terras caelum Hercules\\nmeruit. Stat immotum mare et quasi deficientis in suo\\nfine naturae pigra moles: nouae ac terribiles figurae,\\nmagna etiam Oceano portenta quae profunda ista\\nuastitas nutrit, confusa lux alta caligine et\\ninterceptus tenebris dies, ipsum uero graue et defixum\\nmare et aut nulla aut ignota sidera. Ita est,\\n \\nAlexander, rerum natura: post omnia Oceanus, post\\n Oceanum nihil.\\n',\n",
       "    '1': ' ARGENTARI. Resiste, orbis te tuus\\nreuocat: uicimus qua licet. nihil tantum est, quod\\nego Alexandri periculo petam. POMPEI SILONIS.\\nVenit ille dies, Alexander, exoptatus, quo tibi opera\\ndesset: idem sunt termini et regni tui et mundi.\\nOSCI. Tempus est Alexandrum cum orbe et cum sole\\ndesinere. Quod noueram uici: nunc concupisco quod\\nnescio. Quae tam ferae gentes fuerunt quae non\\nAlexandrum posito genu adorarint? qui tam horridi\\nmontes quorum non iuga uictor miles calcauerit?\\nUltra Liberi patris tropaea constitimus. Non\\nquaerimus orbem, sed amittimus. Inmensum et humanae\\nintemptatum experientiae pelagus, totius orbis\\nuinculum terrarumque custodia, inagitata remigio\\nuastitas, litora modo saeuiente fluctu inquieta, modo\\nfugiente deserta: tetra caligo fluctus premit et\\nnescio qui quod humanis natura subduxit oculis aeterna\\nnox obruit. MVSAE. Foeda beluarum magnitudo et\\ninmobile profundum testantur, Alexander, nihil ultra\\n esse quod uincas: reuertere.\\n',\n",
       "    '2': ' ALBVCI SILI. Terrae\\nquoque suum finem habent et ipsius mundi aliquis\\noccasus est; nihil infinitum est: modum magnitudini\\n \\nfacere debes, quoniam fortuna non facit. magni\\npectoris est inter secunda moderatio. Eundem\\nfortuna uictoriae tuae quem naturae finem facit:\\nimperium tuum cludit Oceanus. O quantum magnitudo\\ntua rerum quoque naturam supergressa est!\\nAlexander orbi magnus est, Alexandro orbis angustus\\nest. Aliquis etiam magnitudini modus est: non\\nprocedit ultra spatia sua caelum, maria intra\\nterminos suos agitantur. Quidquid ad summum peruenit\\nincremento non reliquit locum. non magis\\nquidquam ultra Alexandrum nouimus quam ultra\\nOceanum. MARILLI. Maria sequimur, terras cui\\ntradimus? Orbem quem non noui quaero, quem\\nuici relinquo.\\n',\n",
       "    '3': 'FABIANI. Quid? ista toto pelago infusa\\ncaligo nauigantem tibi uidetur admittere, quae\\nprospicientem quoque excludit? Non haec India est\\nnec ferarum terribilis ille conuentus. inmanes\\npropone beluas, aspice quibus procellis fluctibusque\\nsaeuiat, quas ad litora undas agat. tantus uentorum\\nconcursus, tanta conuulsi funditus maris\\ninsania est; nulla praesens nauigantibus statio est, nihil\\nsalutare, nihil notum: rudis et inperfecta natura\\npenitus recessit. Ista maria ne illi quidem petierunt\\nqui fugiebant Alexandrum. Sacrum quidem terris\\nnatura circumfudit Oceanum. Illi qui etiam siderum\\ncollegerunt metas et annuas hiemis atque aestatis\\n \\nuices ad certam legem redegerunt, quibus nulla pars\\nignota mundi est, de Oceano tamen dubitant utrumne\\nterras uelut uinculum circumfluat, an in suum\\ncolligatur orbem et in hos per quos nauigatur sinus\\nquasi spiramenta quaedam magnitudinis exaestuet;\\nignem post se cuius augmentum ipse sit habeat, an\\nspiritum. Quid agitis, conmilitones? domitoremne\\ngeneris humani, magnum Alexandrum, eo dimittitis\\nquod adhuc quid sit disputatur? Memento\\nAlexander: matrem in orbe uicto adhuc magis quam pacato\\nrelinquis.\\n',\n",
       "    '4': ' DIVISIO. Aiebat CESTIVS hoc genus suasoriarum\\naliter declamandum esse quam suadendum. Non\\neodem modo in libera ciuitate dicendam sententiam\\nquo apud reges, quibus etiam quae prosunt ita\\ntamen ut delectent suadenda sunt. Et inter reges\\nipsos esse discrimen: quosdam minus aut magis OSOS\\nueritatem; facile Alexandrum exisse quos\\nsuperbissimos et supra mortalis animi modum inflatos\\naccepimus. Denique ut alia dimittantur argumenta, ipsa\\nsuasoria insolentiam eius coarguit; orbis illum suus\\nnon capit: itaque nihil dicendum aiebat nisi cum\\nsumma ueneratione regis, ne accideret idem quod\\npraeceptori eius amitino Aristotelis accidit, quem\\n \\noccidit propter intempestiue liberos sales: nam cum\\n deum se uellet uideri et uulneratus .esset, uiso\\nsanguine eius philosophus mirari se dixerat, quod\\nnon esset i)xw\\\\r oi(=o/s pe/r te r(e/ei maka/ressi qeoi=sin Hom. E 340 \\nIlle se ab hac urbanitate lancea uindicauit.\\nEleganter in C. Cassi epistola quadam ad M. Ciceronem \\nmissa positum: multum iocatur de stultitia\\nCn. Pompei adulescentis qui in Hispania contraxit\\nexercitum et ad Mundam acie uictus est; deinde ait: “nos quidem illum deridemus, sed timeo ne ille nos\\ngladio a)ntimukthri/sh| .” In omnibus regibus haec\\nurbanitas extimescenda est.\\n',\n",
       "    '5': 'Aiebat itaque apud\\nAlexandrum esse dicendam sententiam ut multa\\nadulatione animus eius permulceretur, seruandum tamen\\naliquem modum, ne conrueret ratio et accideret\\ntale aliquid quale accidit Atheniensibus, cum\\npublicae eorum blanditiae non tantum deprehensae set\\ncastigatae sunt. Nam cum Antonius uellet se\\nLiberum patrem dici et hoc nomen statuis subscribi\\niuberet, habitu quoque et comitatu Liberum\\nimitaretur, occurrerunt uenienti ei Athenienses cum\\nconiugibus et liberis et *dio/nuson salutauerunt. Belle\\nillis cesserat, si nasus Atticus ibi substitisset; set \\ndixerunt despondere ipsos in matrimonium illi Mineruam\\nsuam et rogauerunt ut duceret. Antonius\\n \\nait ducturum, sed dotis nomine imperare se illis\\nmille talenta. Tum ex Graeculis quidam ait: ku/rie\\no( *zeu\\\\s th\\\\n mhte/ra SOU *seme/lhn a)/proikon ei)=xen \\nHuic quidem inpune fuit, sed Atheniensium\\nsponsalia mille talentis aestimata sunt. quae cum\\nexigerentur conplures contumeliosi libelli\\nproponebantur, quidam etiam ipsi Antonio tradebantur: sicut\\nille qui subscriptus statuae eius fuit, cum eodem\\ntempore et Octauiam uxorem haberet et Cleopatram:\\n *)oktaoui/a kai\\\\ *)aqhna= *)antwni/w| :\\n',\n",
       "    '6': ' res tuas tibi habe.\\nBellissimam tamen rem DELLIVS dixit, quem\\nMessala Coruinus desultorem bellorum ciuilium uocat,\\nquia ab Dolabella ad Cassium transiturus salutem\\nsibi pactus est, si Dolabellam occidisset: a Cassio\\ndeinde transiit ad Antonium, nouissime ab Antonio\\ntransfugit ad Caesarem. Hic est Dellius cuius\\nepistulae ad Cleopatram lasciuae feruntur. Cum\\nAthenienses tempus peterent ad pecuniam conferendam\\nnec exorarent, Dellius ait: et tamen dicito illos tibi\\nannua, bienni, trienni die debere. Longius me\\nfabellarum dulcedo produxit: itaque ad propositum\\n reuertar.\\n',\n",
       "    '7': ' Aiebat CESTIVS magnis cum laudibus\\nAlexandri hanc suasoriam esse dicendam, quam sic\\ndiuisit, ut primum diceret, etiamsi nauigari posset\\nOceanus, nauigandum non esse; satis gloriae\\nquaesitum; regenda esse et disponenda quae in transitu\\nuicisset; consulendum militi tot eius uictoriis lasso;\\n \\nde matre illi cogitandum: et alias causas complures\\nsubiecit. Deinde illam quaestionem subiecit, ne\\nnauigari quidem Oceanum posse.\\n',\n",
       "    '8': 'FABIANVS\\nphilosophus primam fecit quaestionem eandem: etiam si\\nnauigari posset Oceanus nauigandum non esse. At\\nrationem aliam primam fecit: modum inponendum\\nesse rebus secundis. hic dixit sententiam: illa\\ndemum est magna felicitas quae arbitrio suo constitit.\\nDixit deinde locum de uarietate fortunae et cum\\ndescripsisset nihil esse stabile, omnia fluitare et\\nincertis motibus modo adtolli, modo deprimi,\\nabsorberi terras et maria siccari, montes subsidere, deinde\\nexempla regum e fastigio suo deuolutorum, adiecit:\\nsine potius rerum naturam quam fortunam tuam\\ndeficere.\\n',\n",
       "    '9': 'Secundam quoque quaestionem aliter\\ntractauit: diuisit enim illam sic, ut primum negaret\\nullas in Oceano aut trans Oceanum esse terras\\nhabitabiles. Deinde si essent, perueniri tamen ad illas\\nnon posse; hic difficultatem nauigationis, ignoti\\nmaris naturam non patientem nauigationis.\\nNouissime ut posset perueniri, tanti tamen non esse. Hic\\ndixit incerta peti, certa deseri; descituras gentes, si\\nAlexandrum rerum naturae terminos supergressum\\nenotuisset; hic matrem de qua dixit: quomodo illa\\ntrepidauit etiam quom Granicum transiturus esses.\\n',\n",
       "    '10': \"GLYCONIS celebris sententia est: tou=to ou)/k e)sti *simo/eis\\nou)de\\\\ *gra/nikos: tou=to ei) mh/ TI kako\\\\n h)=n\\nou)k a)\\\\n ne/aton e)/keito . Hoc omnes imitari\\n \\nuoluerunt. PLVTION dixit: kai\\\\ dia\\\\ tou=to me/gisto/n e)stin,\\no(/ti au)to\\\\ me\\\\n meta\\\\ pa/nta, meta\\\\ de\\\\ au)to\\\\ ou)qe/n .\\nARTEMON dixit: bouleute/on ei) dei= a)/ra peraiou=sqai.\\nou) tai=s *(ellhsponti/ais h)|o/sin e)festw=tes ou)d' e)pi\\\\\\ntw=| *pamfuli/w| pela/gei th\\\\n e)mpro/qesmon karadokou=men \\n a)/mpwsin: ou)de\\\\ *eu)fra/ths tou=t' e)stin, ou)de\\\\\\n*)indo\\\\s, a)ll' ei)/te gh=s te/rma, ei)/te fu/sews o(/ros, ei)/te\\npresbu/taton stoixei=on, ei)/te ge/nesis qew=n, i(erw/tero/n\\ne)stin h)\\\\ kata\\\\ nau=s u(/dwr . APATVRIVS dixit:\\n e)nteu=qen h( nau=s e)k mia=s fora=s ei)s a)natola\\\\s, e)/nqa \\n de\\\\ ei)s ta\\\\s a)ora/tous du/seis . CESTIVS descripsit:\\n\",\n",
       "    '11': ' sic fremit Oceanus, quasi indignetur quod terras relinquas.\\nCorruptissimam rem omnium quae umquam\\ndictae sunt ex quo homines diserti insanire\\ncoeperunt, putabant Dorionis esse in metaphrasi dictam\\nHomeri, cum excaecatus Cyclops saxum in mare reiecit \\nHaec quomodo ex corruptis eo perueniant,\\nut et magna et tamen sana sint, aiebat Maecenas\\napud Vergilium intellegi posse. Tumidum est: o)/reos\\no)/ros a)pospa=tai . Vergilius quid ait? rapit\\n \\n haud partem exiguam montis. \\nIta a magnitudine discedit, ut non inprudenter\\ndiscedat a fide. Est inflatum:\\n kai\\\\ kai/ria ba/lletai nh=ssos . \\nVergilius quid ait? qui de nauibus:\\n credas innare reuolsas \\n Cyclaclas. \\nNon dicit hoc fieri, sed uideri. Propitiis auribus\\naccipitur, quamuis incredibile est, quod excusatur\\nantequam dicitur.\\n',\n",
       "    '12': 'Multo corruptiorem sententiam\\nMENESTRATI cuiusdam declamatoris non abiecti suis\\ntemporibus nactus sum in hac ipsa suasoria, cum\\ndescriberet beluarum in Oceano nascentium\\nmagnitudinem Efficit haec sententia, ut ignoscamus\\nei qui dixit ipsis Charybdi et Scylla maius\\nportentum: “Charybdis ipsius maris naufragium,” et ne in\\nuna re semel insaniret: “quid ibi potest esse salui\\nubi ipsum mare perit?” DAMAS ethicos induxit\\nmatrem loquentem, cum describeret adsidue prioribus\\npericulis noua superuenisse: BARBARVS dixit,\\ncum introduxisset excusantem se exercitum\\nMacedonum, hunc sensum: FVSCVS ARELLIVS dixit:\\n',\n",
       "    '13': '\\ntestor ante orbem tibi tuum deesse quam militem.\\nLATRO sedens hanc dixit; non excusauit militem, sed\\ndixit: dum sequor, quis mihi promittit hostem, quis\\nterram, quis diem, quis mare? da ubi castra\\nponam, ubi signa ponam. Reliqui parentes, reliqui\\nliberos, commeatum peto: numquid inmature ab\\nOceano?\\n',\n",
       "    '14': 'Latini declamatores in descriptione Oceani \\n \\nnon nimis uiguerunt; nam aut minus descripserunt,\\naut nimis curiose. nemo illorum potuit tanto\\nspiritu dicere quanto Pedo, qui nauigante\\nGermanico dicit:\\n Iam pridem pos terga diem solemque relinquunt,\\n Iam pridem notis extorres finibus orbis \\n Per non concessas audaces ire tenebras\\n Ad rerum metas extremaque litora mundi;\\n Nunc illum pigris immania monstra sub undis\\n Qui ferat Oceanum, qui saeuas undique pistris\\n Aequoreosque canes, ratibus consurgere prensis.\\n Accumulat fragor ipse metus. iam sidere limo\\n Nauigia et rapido desertam flamine classem\\n Seque feris credunt per inertia\\n fata marinis\\n Tam non felici laniandos sorte relinqui.\\n Aera pugnaci Iuctatus rumpere uisu,\\n Vt nihil erepto ualuit dinoscere mundo,\\n Obstructa in talis effundit pectora uoces:\\n Quo ferimur? fugit ipse dies orbemque relictum\\n Vltima perpetuis claudit natura tenebris.\\n Anne alio positas ultra sub cardine gentes\\n Atque alium flabris intactum quaerimus orbem?\\n Di reuocant rerumque uetant cognoscere finem\\n Mortales oculos: aliena quid aequora remis\\n Et sacras uiolamus aquas diuumque quietas\\n Turbamus sedes? \\n \\n',\n",
       "    '15': 'Ex Graecis declamatoribus nulli melius haec\\nsuasoria processit quam Glyconi; sed non minus multa\\nmagnifice dixit quam corrupte: utrorumque faciam\\nuobis potestatem. Et uolebam uos experiri non\\nadiciendo iudicium meum nec separando a corruptis\\nsana — potuisset enim fieri ut uos magis illa\\nlaudaretis quae insaniunt — et nihilominus poterit\\nfieri, quamuis distinxerim. Illa belle dixit: sed\\nfecit quod solebat, ut sententiam adiectione superuacua\\natque tumida perderet; adiecit enim: \\nIllud quosdam dubios iudici sui habet — ego non\\ndubito contra sententiam ferre —: u(gi/aine gh=, u(gi/aine\\nh(/lie: *makedo/nes ga\\\\r xa/os ei)sple/ousi .'},\n",
       "   '1': {'0': '\\nAt, puto, rudis lecta\\naetas et animus qui frangeretur metu insuetaque\\narma non passurae manus hebetataque senio aut\\nuulneribus corpora: quid dicam potissimos Graeciae?\\n \\nan Lacedaemonios? an Eleos? an repetam tot acies\\npatrum totque excidia urbium, tot uictarum\\ngentium spolia? et nunc produntur condita sine\\nmoenibus templa? Pudet consilii nostri, pudet etiamsi\\nnon fugimus deliberasse talia. At cum tot milibus\\nXerses uenit. O Lacedaemonii et aduersus barbaros\\nnon reueremini opera uestra, non auos, non patres\\nquorum uobis exemplo ab infantia surgit ingenium?\\nPudet Lacedaemonios sic adhortari: en, loco tuti\\nsumus. licet totum classe orientem trahat, licet\\nmetuentibus explicet inutilem numerum: hoc mare\\nquod tantum ex uasto patet urguetur in minimum, \\ninsidiosis excipitur angustiis uixque minimo aditus\\nnauigio est et huius quoque remigium arcet\\ninquietatione quod circumfluit mare, fallentia cursus uada\\naltioribus internata, aspera scopulis, et cetera quae\\nnauigantium uota decipiunt. Pudet, inquam,\\nLacedaemonios et armatos quaerere, quemadmodum\\n tuti sint. Non referam Persarum spolia?\\n',\n",
       "    '1': ' certe\\nsuper spolia nudus cadam. Sciat et alios habere nos\\ntrecentos qui sic non fugiant et sic cadant. Hunc\\nsumite animum: nescio an uincere possimus; uinci\\nnon possumus. Haec non utique perituris refero:\\nsed si cadendum est erratis, si metuendam creditis\\n \\nmortem. Nulli natura in aeternum spiritum dedit\\nstatutaque nascentibus in finem uitae dies est.\\ninbecilla enim nos materia deus orsus est; quippe\\nminimis succidunt corpora, indenuntiata sorte\\nrapimur; sub eodem pueritia fato est, eadem iuuentus\\ncausa cadit: optamus quoque plerique mortem; adeo\\nin securam quietem recessus ex uita est. At\\ngloriae nullus finis est proximique deos sic † ageses\\nagunt: feminis quoque frequens hoc in mortem pro\\ngloria iter est illud . Quid Lycurgum, quid\\ninterritos omni periculo quos memoria sacrauit uiros\\nreferam? ut unum Othryadem excitem, adnumerare\\ntrecentis exempla possum.\\n',\n",
       "    '2': 'TRIARI. Non pudet\\nLaconas ne pugna quidem hostium, sed fabula uinci?\\nMagnum est alumnum uirtutis nasci et Laconem. ad\\ncertam uictoriam omnes remansissent; ad certam\\nmortem tantum Lacones. Non est Sparta lapidibus\\ncircumdata: ibi muros habet ubi uiros. Melius\\nreuocabimus fugientes trecenos quam sequemur. Sed\\nmontes perforat, maria contegit. Numquam\\nsolido stetit superba felicitas et ingentium imperiorum\\nmagna fastigia obliuione fragilitatis humanae\\nconlapsa sunt. Scias licet ad finem non peruenisse\\nquae ad inuidiam perducta sunt. Maria terrasque,\\nrerum naturam statione inmutauit sua: moriamur\\ntrecenti, ut hic primum inuenerit quod mutare non\\n \\nposset.\\n',\n",
       "    '3': ' Si tam demens placiturum consilium erat,\\ncur non potius in turba fugimus? PORCI\\nLATRONIS. In hoc scilicet morati sumus, ut agmen\\nfugientium cogeremus. Rumori terga uertitis:\\nsciamus saltem qualis sit iste quem fugimus. Vix\\nuictoria dedecus elui potest; ut omnia fortiter fiant,\\nfeliciter cadant, multum tamen nomini nostro\\ndetractum est: iam Lacones an fugeremus\\ndeliberauimus. Vtinam moriamur! quantum ad me quidem\\npertinet, post hanc deliberationem nihil aliud timeo,\\nquam ne reuertar. Arma nobis fabulae excutiunt.\\nNunc, nunc pugnemus: latuisset uirtus inter\\ntrecenos. Ceteri quidem fugerunt. si me quidem\\ninterrogatis ut quid sentiam, et in nostrum et in\\nGraeciae patrocinium loquar:\\n',\n",
       "    '4': ' electi sumus, non relicti.\\nGAVI SABINI. Turpe est cuilibet uiro fugisse,\\nLaconi etiam deliberasse. MARILLI. In hoc\\nrestitimus, ne in turba fugientium lateremus. Habent\\nquemadmodum se excusent Graeciae treceni: “tutas\\nThermopylas putauimus, cum relinqueremus illic\\nLaconas.” CESTI PII. Quam turpe esset fugere\\nindicastis, Lacones, tamdiu non fugiendo. Omnibus\\nsua decora sunt: Athenae eloquentia inclitae sunt,\\nThebae sacris, Sparta armis. Ideo hanc Eurotas\\namnis circumfluit, qui pueritiam indurat ad futurae\\nmilitiae patientiam; ideo Taygeti nemoris difficilia\\n \\nnisi Laconibus iuga; ideo Hercule gloriamur deo\\noperibus caelum merito; ideo\\nmuri nostri arma sunt.\\n',\n",
       "    '5': 'O graue maiorum uirtutis dedecus! Lacones se\\nnumerant, non aestimant. Videamus quanta turba sit,\\nut habeat certe Sparta, etiamsi non fortes milites,\\nat nuntios ueros. Ita ne bello quidem, sed nuntio\\nuincimur? merito, hercules, omnia contempsit quem\\nLacones audire non sustinent. si uincere Xersen\\nnon licet, uidere liceat: uolo scire quid fugiam.\\nAdhuc non sum ex ulla parte Atheniensium similis,\\nnon muris, non educatione: nihil prius illorum\\nimitabor quam fugam?\\n',\n",
       "    '6': 'POMPEI SILONIS. Xerses\\nmultos secum adducit, Thermopylae paucos recipiunt.\\nErimus inter fortes fugacissimi, inter fugaces tardissimi.\\nNihil refert, quantas gentes in orbem\\nnostrum Oriens effuderit, quantum nationum secum\\nXerses trahat: tot ad nos pertinent, quot locus\\nceperit. CORNELI HISPANI. Pro Sparta uenimus, pro\\nGraecia stemus: uincamus hostes, socios iam uicimus:\\nsciat iste insolens barbarus, nihil esse\\ndifficilius quam Laconis armati latus fodere. Ego uero\\nquod discesserunt gaudeo: liberas nobis reliquere\\nThermopylas; nil erit quod uirtuti nostrae se apponat,\\nquod se inserat; non latebit in turba Laco; quocunque\\nXerses aspexerit, Spartanos uidebit. BLANDI.\\n',\n",
       "    '7': '\\nReferam praecepta, matrum: “aut in his, aut cum\\nhis?” minus turpe est a bello inermem reuerti quam\\narmatum fugere. Referam captiuorum uerba? captus\\n \\nLaco, “occide,” inquit, “non seruio.” non potuit\\nnon capi, si fugere uoluisset. Describite terrores\\nPersicos: omnia ista cum mitteremur audiuimus.\\nVideat trecentos Xerses et sciat quanti bellum\\naestimatum sit, quanto aptus numero locus. Reuertemur\\nne nuntii quidem nisi nouissimi. Quis fugerit\\nnescio: hos mihi Sparta conmilitones dedit.\\nDESCRIPTIO THERMOPYLARVN. Nunc me delectat, quod\\nfugerunt treceni:\\n',\n",
       "    '8': ' angustas mihi Thermopylas fecerant.\\nCONTRA. CORNELI HISPANI. At ego niaximum\\n tuideo dedecus futurum reipublicae nostrae, si\\nXerses nihil prius in Graecia uicerit quam Laconas. Ne\\ntestem quidem uirtutis nostrae habere possumus; id\\nde nobis credetur quod hostes narrauerint. Habetis\\nconsilium meum; id est autem meum quod totius\\nGraeciae. si quis aliud suadet, non fortes uos uult\\nesse, sed perditos. CLANDI MARCELLI. Non uincent\\nnos, sed obruent. Satisfecimus nomini, ultumi\\ncessimus:\\n',\n",
       "    '9': ' ante nos rerum natura uicta est.\\nDIVISIO. Huius suasoriae feci mentionem, non\\nquia in ea subtilitatis erat aliquid quod uos excitare\\nposset, set ut sciretis quam nitide FVSCVS dixisset\\nuel quam licenter: ipse sententiam non feram;\\nuestri arbitrii erit, utrum explicationes eius ut \\nluxuriosas uituperetis an ut uegetas laudetis . Pollio\\n \\nAsinius aiebat hoc non esse suadere. Recolo\\nnihil fuisse me iuuene tam notum quam has\\nexplicationes Fusci, quas nemo nostrum non alias alia\\ninclinatione uocis uelut sua quisque modulatione\\ncantabat. At quia semel in mentionem incidi Fusci\\nex omnibus suasoriis celebres descriptiunculas\\nsubtexam, etiam si nihil occurrerit quod quisquam alius\\nnisi suasor dilexerit.\\n',\n",
       "    '10': 'Diuisione autem in hac\\nsuasoria Fuscus usus est illa uolgari ut diceret, non\\nesse honestum fugere, etiamsi tutum esset; deinde\\naeque periculosum esse fugere et pugnare; nouissime\\npericulosius esse fugere: pugnantibus hostes\\ntimendos, fugientibus et hostes et suos. CESTIVS\\nprimam partem sic transiit quasi nemo dubitaret an\\nturpe esset fugere; deinde illo transiit, an non esset\\nnecesse. Haec sunt, inquit, quae uos confundunt:\\nhostes, sociorum fuga , paucitas. Non quidem in\\nhac suasoria sed in hac materia disertissima illa\\nfertur sententia DORIONIS , cum posuisset hoc dixisse\\ntrecentis Leonidam quod puto etiam apud Herodotum \\n esse a)ristopoiei=sqai w(s e)n a(/|dou deipnhsome/nous .\\n',\n",
       "    '11': 'SABINVS ASILIVS, uenustissimus inter\\nrhetoras scurra, cum hanc sententiam Leonidae\\nrettulisset, ait: ego illi ad prandium promisissem, ad\\ncenam renuntiassem. ATTALVS Stoicus qui solum\\nuertit a Seiano circumscriptus, magnae uir\\n \\neloquentiae, ex his philosophis quos uestra aetas uidit longe\\net subtilissimus et facundissumus, cum tam magna\\net nobili sententia certauit, et mihi dixisse uidetur\\nanimosius quam prior Occurrit mihi sensus in\\neiusmodi materia a SEVERO CORNELIO dictus tamquam\\nde Romanis nescio an parum fortiter. Edicta\\nin posterum diem pugna epulantes milites inducit\\net ait:\\n stratique per herbam,\\n Hic meus est, dixere, dies. \\nElegantissime quidem adfectum animorum incerta\\nsorte pendentium expressit, sed parum Romani animi\\nseruata est magnitudo: cenant enim tamquam\\ncrastinum desperent. Quantum illis Laconibus animi\\nerat qui non poterant dicere:\\n',\n",
       "    '12': ' “hic dies est meus.” Illud PORCELLVS Grammaticus arguebat in hoc uersu\\nquasi soloecismum quod cum plures induxisset\\ndicerent: “hic meus est dies,” non “hic noster est,” et in sententia optima id accusabat quod erat\\noptimum. muta enim, ut “noster” sit: peribit omnis\\nuersus elegantia, in quo hoc est decentissimum quod\\nex communi sermone trahitur; nam quasi prouerbii\\nloco est: “hic dies meus est;” et cum ad sensum\\nrettuleris ne grammaticorum quidem calumnia ab\\nomnibus magnis ingeniis summouenda habebit\\nlocum: dixerunt enim non omnes semel tamquam in\\nchoro manum ducente grammatico, sed singuli ex\\n iis: “hic meus est dies.” ',\n",
       "    '13': ' Sed ut reuertar ad\\nLeonidam et trecentos, pulcherrima illa fertur\\n \\nGLYCONIS sententia In hac ipsa suasoria non sane\\nrefero memoria ullam sententiam Graeci cuiusquam\\nnisi DAMAE: poi= feu/cesqe; o(/pla tei/xh . De\\npositione loci eleganter dixit HATERIVS, cum angustias\\nloci facundissime descripsisset: natus trecentis locus.\\nCESTIVS cum honores descripsisset quos habituri\\nessent, si pro patria cecidissent, adiecit: per\\nsepulcra nostra iurabitur. NICETES longe disertius hanc\\nphantasiam mouit et adiecit: nisi antiquior\\nXerses fuisset quam Demosthenes † CIPTOY cui\\ndicere. Hanc suam dixit sententiam aut certe non\\ndeprehensam, cum descripsisset oportunitatem loci\\net tuta undique pugnantium latera et angustias a\\ntergo positas,\\n',\n",
       "    '14': ' sed aduersas hostibus POTAMON\\nmagnus declamator fuit Mitylenis, qui eodem\\ntempore uiguit quo LESBOCLES magni nominis et\\nnomini respondentis ingenii: in quibus quanta fuerit\\nanimorum diuersitas in simili fortuna puto uobis\\nindicandum, multo magis quia ad uitam pertinet quam si\\nad eloquentiam pertineret. Vtrique filius eisdem diebus\\ndecessit: LESBOCLES scolam soluit; nemo umquam\\namplius declamantem audiuit; aequo animo recessit\\nPOTAMON a funere filii: contulit se in scolam et\\ndeclamauit. Vtriusque tamen adfectum temperandum puto:\\nhic durius tulit fortunam quam patrem decebat, ille\\nmollius quam uirum.\\n',\n",
       "    '15': 'POTAMON cum suasoriam de\\ntrecentis diceret tractabat quam turpiter fecissent\\n \\nLacones hoc ipsum quod deliberassent de fuga et sic nouissime\\nclausit Insanierunt in hac suasoria multi\\ncirca Othryaden: MVRREDIVS qui dixit:\\nfugerunt Athenienses; non enim Othryadis nostri litteras\\ndidicerant. GARGONIVS dixit: Othryades qui periit ut\\nfalleret, reuixit ut uinceret. LICINIVS NEPOS : cuius\\nexemplo uobis etiam mortuis uincendum fuit.\\nANTONIVS ATTICVS inter has pueriles sententias\\nuidetur palmam meruisse; dixit enim: Othryades paene\\na sepulcro uictor digitis uulnera conpressit, ut\\ntropaeo Laconem inscriberet. O dignum in Spartano\\natramentum! o uirum cuius ne litterae quidem fuere\\nsine sanguine. CATIVS CRISPVS municipalis\\n kakozh/lws dixit post relatum exemplum Othryadis: aliud\\nceteros, aliud Laconas decet: nos sine deliciis educamur,\\nsine muris uiuimus, sine uita uincimus.\\n',\n",
       "    '16': ' SENECA fuit, cuius nomen ad uos potuit peruenisse,\\ningenii confusi ac turbulenti, qui cupiebat grandia\\ndicere, adeo ut nouissime morbo huius rei et\\nteneretur et rideretur; nam et seruos nolebat habere nisi\\ngrandes et argentea uasa non nisi grandia.\\nCredatis mihi uelim non iocanti, eo peruenit insania eius,\\nut calceos quoque maiores sumeret, ficus non esset\\nnisi mariscas, concubinam ingentis staturae haberet.\\nOmnia grandia si quando inueniret probanti\\ninpositum est cognomen uel; ut Messala ait,\\n \\ncognomentum, et uocari coepit Seneca Grandio. Is in hac\\nsuasoria cum posuisset contradictionem: “at omnes\\nqui missi erant a Graecia fugerunt” sublatis\\nmanibus, insistens summis digitis — sic enim solebat\\nquo grandior fieret — exclamat: gaudeo, gaudeo.\\nmirantibus nobis quod tantum illi bonum contigisset,\\nadiecit: totus Xerses meus erit. Item dixit: iste qui\\nclassibus suis maria subripuit, qui terras\\ncircumscripsit, dilatauit profundum, nouam rerum naturae\\nfaciem imperat, ponat sane contra caelum castra:\\ncommilitones habebo deos.\\n',\n",
       "    '17': 'SENIANVS multo\\npotentius dixit: terras armis obsidet, caelum sagittis,\\nmaria uinculis: Lacones nisi succurritis mundus\\ncaptus est. Decentissimi generis stultam sententiam\\nreferam VICTORIS STATORI, municipis mei, cuius\\nfabulis memoria dignissimis aliquis † suasoria \\noccasione sumpsit contradictionem: At, inquit, trecenti\\nsumus; et ita respondit: trecenti, set uiri, set\\narmati, set Lacones, set ad Thermopylas; numquam\\nuidi plures trecentos.\\n',\n",
       "    '18': 'Latro in hac suasoria cum\\ntractasset omnia quae materia capiebat, posse ipsos\\net uincere, posse certe inuictos reuerti et beneficio\\nloci; tum illam sententiam adiecit : si nihil aliud\\nerimus certe belli mora. Postea memini auditorem\\nLatronis ARBRONIVM SILONEM, patrem huius\\nSilonis qui pantomimis fabulas . scripsit et ingenium\\ngrande non tantum deseruit sed polluit, recitare\\n \\ncarmen in quo agnouimus sensum Latronis in his\\nuersibus:\\n Ite agite, o Danai, magnum Paeana canentes;\\n Ite triumphantes, belli mora concidit Hector. \\n\\nTam diligentes tunc auditores erant, ne dicam\\ntam maligni, ut unum uerbum surripi non posset:\\n',\n",
       "    '19': ' at nunc cuilibet orationes in Verrem tuto dicere \\nlicet pro suo. Sed ut sciatis sensum bene dictum\\ndici tamen posse melius, notate prae ceteris quanto\\ndecentius Vergilius dixerit hoc quod ualde erat\\ncelebre “belli mora concidit Hector:” Quidquid ad aduersae cessatum est moenia Troiae\\n Hectoris Aeneaeque manu uictoria Graium\\n Haesit. \\nMESSALA aiebat hic Vergilium debuisse desinere:\\nquod sequitur\\n Et in decimum uestigia rettulit annum, \\nexplementum esse, Maecenas hoc etiam priori\\nconparabat.\\n',\n",
       "    '20': ' Sed ut ad Thermopylas reuertar, DIOCLES\\nCARYSTIVS dixit APATVRIVS dixit Corvo\\nrhetori testimonium stuporis reddendum est qui\\ndixit: “quid? si iam Xerses ad nos suo mari\\nnauigat, fugiamus antequam nobis terra subripiatur.” Hic est CORVVS qui cum temptaret scolam Romae\\nSosio illi qui Iudaeos subegerat declamauit\\ncontrouersiam de ea quae apud matronas disserebat liberos\\n \\nnon esse tollendos et ob hoc accusatur reipublicae\\nlaesae. In hac controuersia sententia eius haec\\nridebatur: “inter pyxides et redolentis animae\\nmedicamina constitit mitrata contio.” ',\n",
       "    '21': 'Sed si uultis hiostoricum\\nquoque uobis fatuum dabo. TVSCVS ille\\nqui Scaurum Mamercum in quo Scaurorum familia\\nextincta est maiestatis reum fecerat, homo quam\\ninprobi animi tam infelicis ingenii, cum hanc\\nsuasoriam declamaret dixit: “expectemus si nihil aliut,\\nhoc effecturi, ne insolens barbarus dicat: ueni, uidi,\\nuici,” cum hoc post multos annos Diuus Iulius\\nuicto Pharnace dixerit. DVRION dixit: a)/ndres \\nAiebat NICOCRATES Lacedaemonius insignem hanc\\nsententiam futuram fuisse, si media intercideretur.\\n',\n",
       "    '22': 'Sed ne uos diutius infatuem, quia dixeram me FVSCI\\nARELLI explicationes subiecturum, hic suasoriae\\n finem faciam: quarum nimius cultus et fracta\\nconpositio poterit uos offendere, cum ad meam\\naetatem ueneritis: interim non dubito quin nunc uos\\nipsa quae offensura sunt uitia delectent. '},\n",
       "   '2': {'0': '\\nNon in aliam\\ncondicionem deus fudit aequora quam ne omnis ex uoto\\n \\niret dies; nec ea sors mari tantum est: caelum\\nspecta: non sub eadem conditione sidera sunt? alias\\nnegatis imbribus exurunt solum, et miseri\\nconcremata agricolae lugent semina, et haec interdum anno\\nlex est; alias serena clauduntur et omnis dies\\ncaelum nubilo grauat: subsidit solum et creditum sibi\\nterra non retinet; alias incertus sideribus cursus est:\\n et ut uariantur tempora neque soles nimis\\nurguent neque ultra debitum imbres cadunt: quidquid\\nasperatum aestu est, quidquid nimio diffluxit imbre\\ninuicem temperatur altero; siue ita natura disposuit\\nsiue, ut ferunt, luna cursu gerit — quae siue plena\\nlucis suae est splendensque pariter adsurgit in\\ncornua imbres prohibet, siue occupata nubilo\\nsordidiorem ostendit\\norbem suum non ante finit quam\\nlucem reddit — siue ne lunae quidem ista potentia\\nest, sed flatus qui occupauere annum tenent.\\nquidquid horum est, extra iussum dei tutum fuit\\nadultero mare. At non potero uindicare adulteram.\\nprior est salus pudicae; ne quid huius uirginitati\\ntimerem persequebar adulterum. uicta Troia\\nuirginibus hostium parcam: nihil adhuc uirgo Priami\\n timet.\\n',\n",
       "    '1': ' CESTI PII. Vos ego adhuc, di inmortales,\\ninuoco: sic reclusuri estis maria? obstate potius.\\nNe Priami quidem liberos immolaturus es. Describe\\nnunc tempestatem: omnia ista patimur nec\\nparricidium fecimus. Quod hoc sacrum est uirginis\\ndeae templo uirginem occidere? libentius hanc\\n \\nsacerdotem habebit quam uictimam. CORNELII HISPANI.\\nInfestae sunt, inquit, tempestates et saeuiunt maria\\nneque adhuc parricidium feci. Ista maria si numine\\nsuo deus regeret, adulteris clauderentur. MARILLI.\\nSi non datur nobis ad bellum iter, reuertamur ad\\nliberos. ARGENTARII. Iterum in malum familiae\\nnostrae fatale reuoluimur: propter adulteram fratris\\nliberi pereunt. ista mercede nollem eam reuerti.\\n',\n",
       "    '2': ' at Priamus bellum pro adultero filio gerat.\\nDIVISIO. Hanc suasoriam sic diuisit FVSCVS ut\\ndiceret, etiamsi aliter nauigare non possent, non\\nesse faciendum, et sic tractauit ut negaret faciendum,\\nquia homicidium esset, quia parricidium, quia plus\\ninpenderetur quam peteretur: peti Helenam , inpendi\\nIphigeniam; uindicari adulterium, committi\\nparricidium. Deinde dixit, etiamsi non immolasset,\\nnauigaturum; illam enim moram naturae, maris et\\nuentorum, deorum uoluntatem ab hominibus non\\nintellegi. Hoc CESTIVS diligenter diuisit: dixit enim\\ndeos rebus humanis non interponere arbitrium suum;\\n ut interponant, uoluntatem eorum ab homine non\\nintellegi; ut intellegatur, non posse fata reuocari.\\nsi non sint fata, nesciri futura; si sint, non posse\\nmutari.\\n',\n",
       "    '3': 'SILO POMREIVS etiamsi quod esset diuinandi\\ngenus certum, auguriis negauit credendum:\\nquare ergo, si nescit Calchas, adfirmat primum et\\nscire se putat? Hic communem locum dixit in\\nomnes qui hanc adfectarent scientiam; deinde:\\nirascitur tibi, inuitus militat, quaerit sibi tam magno\\ntestimonio apud omnes gentes fidem. In ea\\n \\ndescriptione quam primam in hac suasoria posui FVSCVS\\nARELLIVS Vergilii uersus uoluit imitari. Valde\\nautem longe petiit et paene repugnante materia,\\ncerte non desiderante, inseruit. Ait enim de luna “quae siue plena lucis suae est splendensque pariter\\nassurgit in cornua, imbres prohibet; siue occupata\\nnubilo sordidiorem ostendit orbem suum, non ante\\n finit quam lucem reddit.” ',\n",
       "    '4': ' At Vergilius haec quanto\\net simplicius et beatius dixit:\\n Luna reuertentes cum primum colligit ignes,\\n Si nigrum obscuro comprenderit aere cornu,\\n Maximus agricolis pelagoque parabitur imber. Verg. G. 427-429 \\nEt rursus:\\nSi \\n Pura nec obtunsis per caelum cornibus ibit. Verg. G. 432 \\nSolebat autem FVSCVS ex Vergilio multa trahere,\\nut Maecenati imputaret: toties enim pro beneficio\\nnarrabat in aliqua se Vergiliana descriptione\\nplacuisse; sicut in hac ipsa suasoria dixit: “cur iste\\ninter eius ministerium placuit? cur hoc os deus\\nelegit? cur hoc sortitur potissimum Pythius” — quo\\ntantum non impie aiebat se imitatum esse Vergilianum\\n “plena deo?” ',\n",
       "    '5': ' Solet autem Gallio noster hoc\\naptissime ponere. Memini una nos ab auditione\\nNICETIS ad Messalam uenisse. Nicetes suo impetu\\nualde Graecis placuerat. quaerebat a Gallione\\nMessala, quid illi uisus esset Nicetes ? Gallio ait: “plena\\ndeo.” quotiens audierat aliquem ex his\\n \\ndeclamatoribus quos scolastici caldos uocant, statim dicebat: “plena deo.” Ipse Messala numquam aliter illum ab\\nnoui hominis auditione uenientem interrogauit, quam\\nut diceret: “numquid plena deo?” Itaque hoc ipsi\\niam tam familiare erat ut inuito quoque excideret.\\n',\n",
       "    '6': 'Apud Caesarem cum mentio esset de ingenio Hateri\\nconsuetudine prolapsus dixit: “et ille erat plena\\ndeo.” quaerenti deinde quid hoc esse uellet uersum\\nVergilii retulit et quomodo hoc semel sibi apud\\nMessalam excidisset et nunquam non postea\\npotuisset excidere. Tiberius ipse Theodoreus\\noffendebatur Nicetis ingenio, itaque delectatus est fabula\\nGallionis: hoc autem dicebat Gallio Nasoni suo\\nualde placuisse; itaque fecisse illum quod in multis\\naliis uersibus Vergilii fecerat, non subripiendi causa,\\nsed palam mutuandi, hoc animo ut uellet agnosci;\\nesse autem in tragoedia eius:\\n feror huc illuc, ut plena deo. \\nIam si uultis ad FVSCVM reuertar et descriptionibus\\neius uos statim satiabo ac potissimum eis quas in\\nuerisimilitudinis tractatione posuit, cum diceret\\nomnino non concessam futurorum scientiam.'},\n",
       "   '3': {'0': ' ARELLI FVSCI. Quis est qui futurorum scientiam\\nsibi uindicet? nouae oportet sortis is sit qui iubente\\ndeo canat, non eodem contentus utero quo\\ninprudentes nascimur: quandam imaginem dei praeferat\\nqui iussa exhibeat dei. Sic est; tantum enim regem\\ntantique rectorem orbis in metum cogit. Magnus\\niste et supra humanae sortis habitum sit cui liceat\\nterrere Alexandrum: ponat iste suos inter sidera\\npatres et originem caelo trahat, agnoscat suum\\nuatem deus; non eodem uitae fine, aetate magna,\\nextra omnem fatorum necessitatem caput sit quod\\ngentibus futura praecipiat. Si uera sunt ista, quid\\nita non huic studio seruit omnis aetas? cur non ab\\ninfantia rerum naturam deosque qua licet uisimus,\\ncum pateant nobis sidera et interesse numinibus\\nliceat ? quid ita inutili desudamus facundia aut\\npericulosis atteritur armis manus ? an melius alio pignore\\n quam futuri scientia ingenia surrexerint?\\n',\n",
       "    '1': ' Qui uero\\nin media se, ut praedicant, fatorum misere pignora\\nnatales inquirunt et primam aeui horam omnium\\nannorum habent nuntiam, quo ierint motu sidera,\\nin quas discucurrerint partes, contrane deus steterit,\\n \\nan placidus adfulserit sol; an plenam lucem, an \\ninitia surgentis acceperit, an abdiderit in noctem\\nobscurum caput luna; Saturnus nascentem, an ad\\nbella Mars militem, an negotiosum in quaestus Mercurius\\nexceperit, an blanda adnuerit nascenti Venus,\\nan ex humili in sublime Iuppiter tulerit aestimant:\\ntot circa unum caput tumultuantis deos!\\n',\n",
       "    '2': 'Futura\\nnuntiant: plerosque dixere uicturos, at nihil\\nmetuentis oppressit dies; aliis dedere finem propinquum;\\nat illi superfuere agentes inutilis animas;\\nfelices nascentibus annos spoponderunt, at fortuna\\nin omnem properauit iniuriam. incertae enim sortis\\nuiuimus: unicuique ista pro ingenio finguntur, non\\nex fide scientiae. Erit aliquis orbe toto locus qui\\nte uictorem non uiderit? Babylon ei cluditur cui\\npatuit Oceanus.\\n',\n",
       "    '3': 'DIVISIO. In hac suasoria nihil aliud tractasse\\nFVSCVM scio quam easdem quas supra retuli\\nquaestiones ad scientiam futuri pertinentis. Illud quod\\nnos delectauit praeterire non possum.\\nDeclamitauerat FVSCVS ARELLIVS controuersiam de illa quae\\npostquam ter mortuos pepererat somniasse se dixit,\\nut in luco pareret. Valde in uos contumeliosus\\nfuero, si totam controuersiam quam ego intellego\\nme dicere cum FVSCVS declamaret et a parte\\naui non agnoscentis puerum tractaret locum contra\\n \\nsomnia et deorum prouidentiam, et male de\\nmagnitudine eorum dixisset mereri eum qui illos circa\\npuerperas mitteret, summis clamoribus illum dixit\\nVergili uersum:\\n',\n",
       "    '4': ' \\n Scilicet is superis labor est, ea cura quietos\\n Sollicitat. Aen. A. 4.379 \\nAuditor FVSCI quidam cuius pudori parco, cum hanc\\nsuasoriam de Alexandro ante Fuscum diceret,\\nputabat aeque belle poni eundem uersum et dixit: \\n Scilicet is superis labor est, ea cura quietos\\n Sollicitat. \\nFVSCVS illi ait: si hoc dixisses audiente\\nAlexandro, scisses apud Vergilium et illum uersum esse:\\n capulo tenus abdidit ensem. Aen. A. 2.553 \\nEt quia soletis mihi molesti esse de FVSCO, quid\\nfuerit, quare nemo uideretur dixisse cultius, ingeram\\nuobis Fuscinas explicationes. Dicebat autem\\nsuasorias libentissime et frequentius Graecas quam\\nLatinas. HYBREAS in hac suasoria dixit: oi(=on e)/sxen\\nh( *babulw\\\\n ma/ntin o)xu/rwma .\\n'},\n",
       "   '4': {'0': ' ARELLI FVSCI. Pudet me uictoriae uestrae si\\nfugatum creditis Xersem ut reuerti possit. Tot caesa\\nmilia, nihil ex tanta acie relictum minanti nisi quod\\nuix fugientem sequi possit; totiens mersa classis;\\nquid Marathona, quid Salamina referam? pudet\\n \\ndicere: dubitamus adhuc an uicerimus. Xerses ueniet?\\nnescio quomodo languet circa memoriam iacturae\\nanimus et disturbata arma non repetit. prior enim\\nmetus futuri pignus est et amissa ne audeat amissurum\\nmonent. Vt interdum in gaudio surgit\\nanimus et spem ex praesenti metitur, ita aduersis\\nfrangitur. Omnis destituit animum dies ubi ignominia\\nspem premit, ubi nullam meminit aciem nisi qua\\nfugerit; errat circa damna sua et quae male expertus\\nest uota deponit. Si uenturus esset non\\nminaretur: saeuis ira ardet ignibus et in pacta non\\nsoluitur.\\n',\n",
       "    '1': 'Non denuntiaret si uenturus esset neque\\narmaret nos nuntio nec instigaret uictricem\\nGraeciam nec sollicitaret arma felicia: magis superueniret\\ninprouidis: nam et antea arma indenuntiata\\nmouerat. Quantumcunque Oriens ualuit primo in\\nGraeciam impetu effusum est: hoc ille numero ferox et\\nin deos arma tulerat. extincta tot ante Xersem\\nmilia, tot sub ipso, iacent: nulli nisi qui fugerunt\\nsupersunt. Quid dicam Salamina? quid Cynaegiron\\nreferam et te Polyzele? et hoc agitur, an uiceris?\\nHaec ego tropaea de te posui, haec in totius\\nconspectu Graeciae statui, ne quis timeret Xerxem\\nminantem. Me miserum, pugnante Xerxe tropaea\\nposui, fugiente tollam? Nunc Athenae uincimur:\\nnon tantum credetur redisse set uicisse Xerses.\\n',\n",
       "    '2': 'Non\\npotest Xerses nisi per nos tropaea tollere. Credite\\nmihi, difficilest adtritas opes recolligere et spes\\nfractas nouare et ex paenitenda acie in melioris\\n \\neuentus fiduciam surgere. CESTI PII. Inferam, inquit,\\nbellum. alia mihi tropaea promittit. Potest maior\\nuenire quam uictus est? ARGENTARII. Non pudet\\nuos?\\n',\n",
       "    '3': ' pluris tropaea uestra Xerxes aestumat quam uos.\\nDIVISIO. FVSCVS sic diuisit: etiamsi uenturus est\\nXerses nisi tollimus, non sunt tropaea tollenda.\\nConfessio seruitutis est iussa facere: si uenerit\\nuincemus; hoc non est diu colligendum de eo: dico “uincemus” quem uicimus. Sed ne ueniet quidem:\\nsi uenturus esset non denuntiaret; fractus est et\\nuiribus et animo. CESTIVS et illud adiecit, quod in\\nprima parte tractauit, non licere Atheniensibus\\ntropaea tollere: commune in illis ius totius Graeciae\\nesse; communem uictoriam, bellum fuisse commune.\\ndeinde ne fas quidem esse: numquam factum ut\\nquisquam consecratis uirtutis suae operibus manus\\nadferret. Ista tropaea non sunt Atheniensium,\\ndeorum sunt; illorum bellum fuit, illos Xerses uinculis,\\nillos sagittis persequebatur. Hic omnia ad impiam\\n et superbam Xerxis militiam pertinentia. Quid ergo?\\n',\n",
       "    '4': ' bellum habebimus? habuimus; et si Xersem\\nremoueris, inuenietur alius hostis: numquam magna\\nimperia otiosa. Enumeratio bellorum prospere ab\\nAtheniensibus gestorum. Deinde non erit bellum: Xerxes\\nenim non ueniet. multo timidiores esse quom\\nsuperbissimi fuerint. Nouissime, ut ueniat, cum quibus\\nueniet? reliquias uictoriae nostrae colliget: illos\\nadducet quos priore bello quasi inutiles reliquerat, aut\\n \\nsi qui ex fuga consecuti sunt. nullum habet\\nmilitem nisi aut fastiditum aut uictum.\\n',\n",
       "    '5': 'ARGENTARIVS\\nhis duobus contentus fuit: aut non uenturum\\nXerxen, aut non esse metuendum si uenerit. his solis\\ninstitit, et illud dixit quod exceptum est: “tollite,” inquit, “tropaea.” si uicisti, quid erubescis? si uictus\\nes, quid imperas? Locum mouit non inutiliter:\\niudicare quidem se neque Xerxen neque iam\\nquemquam Persarum ausurum in Graeciam effundi; sed\\neo magis tropaea ipsis tuenda, si quis umquam\\nillinc uenturus hostis esset, ut conspectu tropaeorum\\nanimi militum accenderentur, hostium frangerentur.\\n',\n",
       "    '6': 'BLANDVS dixit: repleat ipse prius Atho et maria in\\nantiquam faciem reducat. apparere uult posteris\\nquemadmodum uenerit: appareat quemadmodum\\nredierit. TRIARIVS omni dimissa diuisione tantum\\nexultauit quod Xerxen audiret uenire: adesse ipsis\\nnouam uictoriam, noua tropaea. SILO POMPEIVS\\nuenusto genere sententiae usus est: “enisi tollitis,” inquit, “tropaea, ego ueniam.” hoc ait Xerses: nisi haec\\ntropaea tollitis, alia ponetis.\\n',\n",
       "    '7': 'Alteram partem solus\\nGALLIO declamauit et hortauit ad tollenda tropaea;\\ndixit gloriae nihil detrahi: mansuram enim\\nmemoriam uictoriae quae perpetua esset; ipsa tropaea et\\ntempestatibus et aetate consumi; bellum\\nsuscipiendum fuisse pro libertate, pro coniugibus, pro\\nliberis: pro re superuacua et nihil nocitura si defieret\\nnon esse suscipiendum. Hic dixit utique uenturum\\nXerxen et descripsit aduersus ipsos deos tumentem;\\ndeinde habere illum magnas uires: neque omnes\\n \\nillum copias in Graeciam perduxisse nec omnes in\\nGraecia perdidisse; timendam esse fortunae\\nuarietatem; exhaustas esse Graeciae uires nec posse iam\\npati alterum bellum: illi esse inmensam\\nmultitudinem hominum. Hoc loco disertissimam sententiam\\ndixit quae uel in oratione uel in historia ponatur:\\ndiutius illi perire possunt quam nos uincere.'},\n",
       "   '5': {'0': ' Q. HATERIVS. Sciant posteri potuisse Antonio\\nseruire rempublicam, non potuisse Ciceronem.\\nLaudandus erit tibi Antonius: in hac causa etiam\\nCiceronem uerba deficient. Crede mihi, quam diligenter\\nte custodieris faciet tamen Antonius quod Cicero\\ntacere non possit. Si intellegis, Cicero, non dicit “roga ut uiuas,” sed “roga ut seruias.” Quemadmodum autem hunc senatum intrare poteris, exhaustum\\ncrudeliter, repletum turpiter? intrare autem tu\\nsenatum uoles in quo non Cn. Pompeium uisurus es ,\\nnon M. Catonem, non Lucullos, non Hortensium,\\nnon Lentulum atque Marcellum, non tuos, inquam,\\nconsules Hirtium ac Pansam? Cicero, quid in alieno\\n saeculo tibi? iam nostra peracta sunt.\\n',\n",
       "    '1': ' M. Cato\\nsolus maximum uiuendi moriendique exemplum mori\\nmaluit quam rogare — nec erat Antonium\\nrogaturus — et illas usque ad ultimum diem puras a\\nciuili sanguine manus in pectus sacerrimum armauit.\\n \\nScipio cum gladium penitus abdidisset, quaerentibus\\nqui in nauem transiuerant militibus imperatorem “imperator,” inquit, “bene se habet.” uictus uocem\\nuictoris emisit. “Vetat,” inquit, “Milo rogari\\niudices:” i nunc et Antonium roga. PORCI LATRONIS.\\n',\n",
       "    '2': '\\nErgo loquitur umquam Cicero ut non timeat\\nAntonius, loquitur umquam Antonius ut Cicero timeat?\\nCiuilis sanguinis Syllana sitis in ciuitatem redit, et\\nad triumuiralem hastam pro uectigalibus ciuium\\nmanorum mortes locantur; unius tabellae albo\\nPharsalica ac Mundensis Mutinensisque ruina uincitur,\\nconsularia capita auro rependentur: tuis uerbis\\n Cicero utendum est: “o tempora, o mores!” Videbis \\nardentes crudelitate simul ac superbia oculos;\\nuidebis illum non hominis sed belli ciuilis uultum;\\nuidebis illas fauces per quas bona Cn. Pompei\\ntransiuerunt, illa latera, illam totius corporis gladiatoriam\\nfirmitatem; uidebis illum pro tribunali locum quem\\nmodo magister equitum, cui ructare turpe erat,\\nuomitu foedauerat: supplex accadens genibus\\ndeprecaberis? eo ore cui se debet salus publica humilia in\\nadulationem uerba summittes? Pudeat: Verres\\nquoque proscriptus fortius periit.\\n',\n",
       "    '3': 'CLAVDI MARCELLI\\nAESERNINI. Occurrat tibi Cato tuus cuius a te\\nlaudata mors est: quicquam ergo tanti putas, ut\\n \\nuitam Antonio debeas? CESTI PII. Si ad desiderium\\npopuli respicis, Cicero, quandoque perieris parum\\nuixisti; si ad res gestas, satis uixisti; si ad iniurias\\nfortunae et praesentem reipublicae statum, nimium\\ndiu uixisti; si ad memoriam operum tuorum, semper\\nuicturus es. POMPEI SILONIS. Scias licet tibi non\\nexpedire uiuere, si Antonius permittit ut uiuas.\\nTacebis ergo proscribente Antonio et rempublicam\\nlaniante ? et ne gemitus quidem tuus liber erit. malo\\npopulus Romanus mortuum Ciceronem quam uiuum\\n desideret. Triarii. “Quae Charybdis est tam uorax ?\\n',\n",
       "    '4': ' Charybdim dixi, quae si fuit, animal unum fuit; uix\\nmedius fidius Oceanus tot res tamque diuersas uno\\ntempore absorbere potuisset.” Huic tu saeuienti\\nputas Ciceronem posse subduci? ARELLI FVSCI\\npatris. Ab armis ad arma discurritur: foris uictores\\ndomi trucidamur, domi in sanguine intestinus hostis\\nincubat: quis non hoc populi Romani statu\\nCiceronem ut uiuat cogi putat? Rogabis, Cicero,\\nturpiter Antonium, et frustra. Non te ignobilis tumulus\\nabscondet; idem uirtutis tuae qui finis est\\nmortalium. humanorum operum custos memoria,\\nquae magnis uiris uitam perpetuat, in omnia te\\n saecula sacratum dabit:\\n',\n",
       "    '5': ' nihil aliud intercidet quam\\ncorpus fragilitatis caducae, morbis obnoxium,\\ncasibus expositum, proscriptionibus obiectum; animus\\nuero diuina origine haustus, cui nec senectus ulla\\nnec mors, onerosi corporis uinculis exsolutus ad\\nsedes suas et cognata sidera recurret. Et tamen si\\n \\nad aetatem annorumque numquam obseruatum uiris\\nfortibus numerum respicimus, sexaginta supergressus\\nes nec potes non uideri nimis uixisse, qui moreris\\nreipublicae superstes. Vidimus furentia toto orbe\\nciuilia arma, et post Italicas Pharsaliasque acies\\nRomanum sanguinem hausit Aegyptus. quid\\nindignamur in Ciceronem Antonio licere quod in\\nPompeium Alexandrino licuit? an non sic\\nocciduntur qui ad indignos confugiunt? CORNELI HISPANI.\\n',\n",
       "    '6': '\\nProscriptus est ille qui tuam sententiam secutus est:\\ntota tabula tuae morti proluditur; alter fratrem\\nproscribi, alter auunculum patitur: quid habes spei?\\nut Cicero periret tot parricidia facta sunt.\\nRepetas tecum tot patrocinia, tot clientelas et maximum\\nbeneficiorum tuorum, rempublicam ipsam: iam\\nintelleges Ciceronem in mortem cogi posse, in preces non\\nposse. ARGENTARII. Explicantur triumuiralis regni\\ndelicata conuiuia et popina tributo gentium\\ninstruitur; ipse uino et somno marcidus deficientes oculos\\nad capita proscriptorum leuat. iam ad ista non\\nsatis est dicere: “hominem nequam!” \\nDIVISIO. LATRO sic hanc diuisit suasoriam:\\n',\n",
       "    '7': '\\netiamsi impetrare uitam ab Antonio potes, non est tanti\\nrogare; deinde: impetrare non potes. In priore illa\\nparte posuit turpe esse cuilibet Romano, nedum\\nCiceroni, uitam rogare: hoc loco omnium qui ultro\\nmortem adprehendissent exempla posuit. deinde:\\n \\ninutilis uita futura et morte grauior detracta\\nlibertate. hic omnem acerbitatem seruitutis futurae\\ndescripsit. deinde: non futuram fidem impetranti\\nbeneficium. hic cum dixisset: aliquid erit quod\\nAntonium offendat aut factum tuum aut dictum aut\\nsilentium aut uultus, adiecit sententiam: haut enim\\n placiturus es.\\n',\n",
       "    '8': ' ALBVCIVS aliter diuisit: primam\\npartem fecit moriendum esse Ciceroni, etiamsi nemo\\nproscriberet eum: hic insectatio temporum fuit.\\nDeinde: moriendum esse illi sua sponte, quom moriendum\\nesset etiamsi mori noluisset: graues\\nodiorum causas esse; maximam causam proscriptionis\\nipsum esse Ciceronem. Et solus de \\ndeclamatoribus temptauit dicere non unum illi esse Antonium\\ninfestum. hoc loco dixit illam sententiam: si cui\\nex triumuiris non es inuisus, grauis es. et illam\\nsententiam quae ualde excepta est:\\n',\n",
       "    '9': ' roga, Cicero,\\nexora unum, ut tribus seruias. CESTIVS sic diuisit:\\nmori tibi utile est, honestum est, necesse est, ut\\nliber et inlibatae dignitatis consummes uitam. hic\\nillam sententiam dixit audacem: ut numereris cum\\nCatone qui seruire ne Antonio quidem nondum\\ndomino potuit. MARCELLVS hunc sensum de\\nCatone melius: usque eone omnia cum fortuna populi\\nRomani conuersa sunt, ut aliquis deliberet, utrum\\nsatius sit uiuere cum Antonio, an mori cum\\nCatone? Sed ad diuisionem CESTI reuertamur. Dixit\\nutile esse, ne etiam cruciatus corporis pateretur:\\n \\nnon simplici illum modo periturum, si in Antonii\\nmanibus incidisset. in hac parte cum descripsisset\\ncontumelias insultantium Ciceroni et uerbera et tormenta,\\ndixit illam multum laudatam sententiam:\\ntum mehercules, Cicero, cum ueneris ad Antonium,\\nmortem rogabis.\\n',\n",
       "    '10': 'VARIVS GEMINVS sic diuisit: hortarer\\nte, si nunc alterutrum utique faciendum esset,\\naut moriendum aut rogandum, ut morereris potius\\nquam rogares; et omnia conplexus est quae a\\nceteris dicta erant. Addidit et tertium: adhortatus\\nest illum ad fugam. illic esse M. Brutum, illic\\nC. Cassium, illic Sex. Pompeium. et adiecit illam\\nsententiam quam Cassius Seuerus unice mirabatur:\\nqui deficimus? et respublica suos triumuiros habet.\\nDeinde etiam quas petere posset regiones percucurrit:\\nSiciliam dixit uindicatam esse ab illo, Ciliciam\\na proconsule egregie administratam, familiares studiis\\neius et Achaiam et Asiam, Deiotari regnum\\nobligatum beneficiis, Aegyptum et habere beneficii memoriam\\net agere perfidiae paenitentiam. sed maxime\\nillum in Asiam et in Macedoniam hortatus est in\\nCassi et in Bruti castra. Itaque CASSIVS SEVERVS\\naiebat alios declamasse, Varium Geminum uiuum\\nconsilium dedisse.\\n',\n",
       "    '11': 'Alteram partem pauci declamauerunt. nemo ausus\\nest Ciceronem ad deprecandum Antonium hortari,\\nbene de Ciceronis animo iudicauerunt. GEMINVS\\nVARIVS declamauit alteram quoque partem et ait:\\nspero me Ciceroni meo persuasurum ut uelit uiuere.\\nquod grandia loquitur et dicit: \\n “mors nec immatura consulari nec misera sapienti,” non mouet me:\\nideo tamen non peribit; ego belle mores hominis\\nnoui: faciet, rogabit. nam quod ad seruitutem\\npertinet, non recusabit; iam collum tritum habet; et\\nPompeius illum et Caesar subiecerunt: ueteranum\\nmancipium uidetis. et complura alia dixit scurrilia\\n ut illi mos erat.\\n',\n",
       "    '12': ' Diuisit sic ut diceret non turpiter\\nrogaturum, non frustra rogaturum. In priore parte\\nillud posuit, non esse turpe ciuem uictorem rogari\\na uicto. hic quam multi rogassent C. Caesarem, hic\\net Ligarium. deinde ne iniquum quidem esse\\nCiceronem satisfacere, qui prior illum proscripsisset, qui\\nhostem iudicasset; ab eo semper nasci satisfactionem\\n† ac dacto rogari. deinde non pro uita illum, sed\\npro republica rogaturum: satis illum sibi uixisse,\\nreipublicae parum. In sequenti parte dixit exorari\\nsolere inimicos, ipsum exoratum a Vatinio, Gaio\\nquoque Verri adfuisse. facilius exorari Antonium\\nposse qui, cum tertius esset, reliquis III uiris hanc\\ntam speciosam clementiae occasionem praeriperet.\\nfortasse ei irasci Antonium, quia ne tanti quidem\\n illum putasset quem rogaret.\\n',\n",
       "    '13': ' Fuga quam periculosa\\nesset cum descripsisset, adiecit quocunque\\nperuenisset seruiendum illi esse: ferendam esse aut Cassii\\nuiolentiam aut Bruti superbiam aut Pompei stultitiam.\\nQuoniam in hanc suasoriam incidimus non\\nalienum puto indicare, quomodo quisque se ex\\n \\nhistoricis aduersus memoriam Ciceronis gesserit. Nam\\nquin Cicero nec tam timidus fuerit ut rogaret\\nAntonium, nec tam stultus ut exorari posse eum speraret,\\nnemo dubitat excepto Asinio Pollione qui infestissimus\\nfamae Ciceronis permansit. et is etiam\\noccasionem scolasticis alterius suasoriae dedit; solent\\nenim scolastici declamitare: deliberat Cicero an\\nsalutem promittente Antonio orationes suas comburat.\\n',\n",
       "    '14': 'Haec inepte ficta cuilibet uideri potest. Pollio\\nuult illam ueram uideri; ita enim dixit in ea\\noratione quam pro Lamia edidit. ASINI POLLIONIS. “Itaque numquam per Ciceronem mora fuit, quin\\neiuraret suas esse quas cupidissime effuderat\\norationes in Antonium; multiplicesque numero et accuratius\\nscriptas illis contrarias edere ac uel ipse\\npalam pro contione recitare pollicebatur;” adieceratque\\nhis alia sordidiora multo, ut cuilibet facile liqueret\\nhoc totum adeo falsum esse, ut ne ipse quidem\\nPollio in historiis suis ponere ausus sit. Huic certe\\nactioni eius pro Lamia qui interfuerunt negant eum\\nhaec dixisse — nec enim mentiri sub triumuirorum\\nconscientia sustinebat — sed postea conposuisse.\\n',\n",
       "    '15': 'Nolo\\nautem uos, iuuenes mei, contristari, quod a\\ndeclamatoribus ad historicos transeo. satisfaciam uobis\\net fortasse efficiam, ut his sententiis lectis solidis et\\nuerum habentibus a scolasticis recedatis: sed quia,\\nhoc si iam recta uia consequi non potero, decipere\\nuos cogar, uelut salutarem daturus pueris potionem\\n \\nabsinthiati poculi, LIVIVS adeo retractationis\\nconsilium habuisse Ciceronem non dicit, ut neget tempus\\n habuisse; ita enim ait:\\n',\n",
       "    '16': ' T. LIVI. Marcus Cicero\\nsub aduentum triumuirorum urbe cesserat pro certo\\nhabens id quod erat, non magis se Antonio eripi\\nquam Caesari Cassium et Brutum posse: primo in\\nTusculanum fugerat, inde transuersis itineribus in\\nFormianum ut ab Caieta nauem conscensurus\\nproficiscitur. unde aliquoties in altum prouectum cum\\nmodo uenti aduersi retulissent, modo ipse iactationem\\nnauis caeco uoluente fluctu pati non posset,\\ntaedium tandem eum et fugae et uitae cepit,\\nregressusque ad superiorem uillam, quae paulo plus\\nmille passibus a mari abest, “moriar,” inquit, “in\\npatria saepe seruata.” Satis constat seruos fortiter\\nfideliterque paratos fuisse ad dimicandum; ipsum\\ndeponi lecticam et quietos pati quod sors iniqua\\ncogeret iussisse. Prominenti ex lectica praebentique\\ninmotam ceruicem caput praecisum est. nec satis\\nstolidae crudelitati militum fuit: manus quoque\\nscripsisse aliquid in Antonium exprobrantes\\npraeciderunt. Ita relatum caput ad Antonium iussuque eius\\ninter duas manus in rostris positum, ubi ille\\nconsul, ubi saepe consularis, ubi eo ipso anno aduersus\\nAntonium quanta nulla umquam humana uox cum\\nadmiratione eloquentiae auditus fuerat: uix\\n \\nattollentes prae lacrimis oculos homines intueri\\ntrucidati membra ciuis poterant.\\n',\n",
       "    '17': 'BASSVS AVFIDIVS et\\nipse nihil de animo Ciceronis dubitauit, quin\\nfortiter se morti non praebuerit tantum, sed obtulerit.\\nAVFIDI BASSI. Cicero paulum remoto uelo postquam\\narmatos uidit, “ego uero consisto,” ait: “accede\\nueterane, et si hoc saltim potes recte facere, incide\\nceruicem.” Trementi deinde dubitantique: “quid si\\nad me,” inquit, “primum uenissetis?” ',\n",
       "    '18': 'CREMVTIVS\\nCORDVS et ipse ait Ciceronem secum cogitasse,\\nutrumne Brutum, an Cassium, an Sex. Pompeium\\npeteret, set omnia illi displicuisse praeter mortem.\\nCREMVTI CORDI. Quibus uisis laetus Antonius, cum\\nperactam proscriptionem suam dixisset esse, quippe\\nnon satiatus modo caedendis ciuibus, sed differtus\\nquoque, super rostra exponit. Itaque quo saepissime\\ningenti circumfusus turba processerat, quae paulo\\nante coluerat piis contionibus quibus multorum\\ncapita seruauerat, tum per artus suos laceratus,\\naliter ac solitus erat a ciuibus suis conspectus est,\\npraependenti capiti orique eius inspersa sanie, breui\\nante princeps senatus Romanique nominis titulus,\\ntum pretium interfectoris serui. Praecipue tamen\\nsoluit pectora omnium in lacrimas gemitusque uisa\\nad caput eius deligata manus dextera, diuinae\\neloquentiae ministra; ceterorumque caedes priuatos\\nluctus excitauerunt, illa una communem.\\n',\n",
       "    '19': ' BRVTTEDI\\n \\nNIGRI. “Elapsus interim altera parte uillae Cicero\\nlectica per agros ferebatur; sed ut uidit\\nadpropinquare notum sibi militem Popilium nomine, memor\\ndefensum a se laetiore uultu aspexit. at ille\\nuictoribus id ipsum imputaturus occupat facinus\\ncaputque decisum nihil in ultimo fine uitae facientis, quod\\nalterutram in partem posset notari, Antonio portat\\noblitus se paulo ante defensum ab illo.” Et hic\\nuoluit positi in rostris capitis miserabilem faciem describere,\\n',\n",
       "    '20': ' sed magnitudine rei obrutus est. BRVTTEDI\\nNIGRI. Vt uero iussu Antonii inter duas manus\\npositum in rostris caput conspectum est, quo totiens\\nauditum erat loco, datae gemitu et fletu maximae\\nuiri inferiae, nec ut solet uitam depositi in rostris\\ncorporis contio audiuit, sed ipsa narrauit. Nulla\\nnon pars fori aliquo actionis inclutae signata uestigio\\nerat; nemo non aliquod eius in se meritum\\nfatebatur: hoc certe publicum beneficium palam erat, illam\\nmiserrimi temporis seruitutem a Catilina dilatam in\\nAntonium.\\nQuoties magni alicuius uiri mors ab historicis\\nnarrata est, toties fere consummatio totius uitae et\\nquasi funebris laudatio redditur. hoc semel aut\\niterum a Thucydide factum, item in paucissimis\\npersonis usurpatum a Sallustio, T. Liuius benignius\\nomnibus magnis uiris praestitit: sequentes historici\\nmulto id effusius fecerunt. Ciceroni hoc, ut Graeco\\n uerbo utar, e)pita/fion Liuius reddit.\\n',\n",
       "    '21': ' T. LIVI. Vixit\\ntres et sexaginta annos, ut si uis afuisset, ne\\n \\ninmatura quidem mors uideri possit. ingenium et\\noperibus et praemiis operum felix; ipse fortunae diu\\nprosperae et in longo tenore felicitatis magnis\\ninterim ictus uulneribus, exilio, ruina partium pro\\nquibus steterat, filiae morte exitu tam tristi atque\\nacerbo, omnium aduersorum nihil ut uiro dignum\\nerat tulit praeter mortem, quae uere aestimanti\\nminus indigna uideri potuit, quod a uictore inimico\\n nil crudelius passurus erat quam quod eiusdem\\nfortunae compos uicto fecisset. Si quis tamen\\nuirtutibus uitia pensaret, uir magnus ac memorabilis\\nfuit et in cuius laudes exsequendas Cicerone\\nlaudatore opus fuerit. Vt est natura candidissimus omnium\\nmagnorum ingeniorum aestimator T. Liuius, plenissimum\\nCiceroni testimonium reddidit.\\n',\n",
       "    '22': 'CORDI\\nCREMVTI non est operae pretium referre redditam Ciceroni\\nlaudationem; nihil enim ipso ac Cicerone\\ndignum est, ac ne hoc quidem quod paene maxime\\ntolerabile est: CREMVTI CORDI. Proprias enim simultates\\ndeponendas interdum putabat, publicas\\nnumquam ui deserendas: ciuis non solum\\nmagnitudine uirtutum, sed multitudine quoque\\nconspiciendus. AVFIDI BASSI. Sic M. Cicero decessit, uir\\nnatus ad reipublicae salutem, quae diu defensa et administrata\\nin senectute demum e manibus eius elabitur,\\nnon ipsius uitio laesa, sed quod nihil in salutem\\neius aliud illi quam si caruisset Antonio placuit.\\nVixit sexaginta et tres annos ita, ut semper aut\\n \\npeteret alterum aut inuicem peteretur, nullamque\\nrem rarius quam diem illum quo nullius interesset\\n ipsum mori uidit.\\n',\n",
       "    '23': ' POLLIO quoque ASINIVS , qui\\nVerrem Ciceronis reum fortissime morientem tradidit,\\nCiceronis mortem solus ex omnibus maligne narrat;\\ntestimonium tamen quamuis inuitus plenum ei\\nreddidit. Asini Pollionis. “Huius ergo uiri tot\\ntantisque operibus mansuris in omne aeuum praedicare\\nde ingenio atque industria superua cuum est .\\nNatura autem atque fortuna pariter obsecuta est ei,\\n si quidem facies decora ad senectutem\\nprosperaque permansit ualetudo, tum pax diutina cuius\\ninstructus erat artibus contigit. namque ad priscam\\nseueritatem iudiciis exactis maxima noxiorum\\nmultitudo prouenit, quos obstrictos patrocinio incolumes\\nplerosque habebat. Iam felicissima consulatus ei\\nsors petendi et gerendi magna munera deum\\nconsilio industriaque: utinam moderatius secundas res\\net fortius aduersas ferre potuisset! namque\\nutraeque cum euenerant ei, mutari eas non posse\\nrebatur. inde sunt inuidiae tempestates coortae\\ngrauissimae, eo certiorque inimicis adgrediendi fiducia;\\nmaiore enim simultates adpetebat animo quam\\ngerebat. Sed quando mortalium nulli uirtus perfecta\\ncontigit, qua maior pars uitae atque ingenii stetit\\nea iudicandum de homine est. Atque ego ne\\nmiserandi quidem exitus eum fuisse iudicarem, nisi ipse\\n tam miseram mortem putasset.” ',\n",
       "    '24': ' Adfirmare uobis\\npossum nihil esse in historiis eius hoc quem retuli\\nloco disertius, ut mihi tunc non laudasse Ciceronem,\\n \\nsed certasse cum Cicerone uideatur. nec hoc\\ndeterrendi causa dico, ne historias eius legere\\nconcupiscatis: concupiscite et poenas Ciceroni dabitis.\\nNemo tamen ex tot disertissimis uiris melius\\nCiceronis mortem deplorauit quam Seuerus Cornelius.\\n',\n",
       "    '25': '\\n \\n\\n Oraque magnanimum spirantia paene uirorum\\n In rostris iacuere suis: sed enim abstulit omnis,\\n Tamquam sola foret, rapti Ciceronis imago.\\n \\n Tunc redeunt animis ingentia consulis acta\\n Iurataeque manus deprensaque foedera noxae\\n Patriciumque nefas extinctum: poena Cethegi\\n Deiectusque redit uotis Catilina nefandis.\\n \\n Profuerant? sacris exculta quid artibus aetas?\\n Abstulit una dies aeui decus, ictaque luctu\\n Conticuit Latiae tristis facundia linguae.\\n Vnica sollicitis quondam tutela salusque,\\n Egregium semper patriae caput, ille senatus\\n \\n Vindex, ille fori, legum ritusque togaeque,\\n Publica uox saeuis aeternum obmutuit armis.\\n Informes, uoltus sparsamque cruore nefando\\n Canitiem sacrasque manus operumque ministras\\n Tantorum pedibus ciuis proiecta superbis.\\n \\n Proculcauit ouans nec lubrica fata deosque\\n Respexit. nullo luet hoc Antonius aeuo.\\n \\n Hoc nec in Emathio mitis uictoria Perse, \\n Nec te, dire Syphax, non fecerat hoste Philippo;\\n Inque triumphato ludibria cuncta Iugurtha\\n Afuerant, nostraeque cadens ferus Hannibal irae\\n Membra tamen Stygias tulit inuiolata sub umbras. Cornelii Severi. \\n',\n",
       "    '26': ' Non fraudabo municipem nostrum bono uersu, ex\\nquo hic multo melior SEVERI CORNELII processit:\\nConticuit Latiae tristis facundia linguae.\\nSEXTILIVS ENA fuit homo ingeniosus magis quam\\neruditus, inaequalis poeta et plane quibusdam locis\\n talis, quales esse Cicero Cordubenses poetas ait,\\n pingue quiddam sonantis atque peregrinum. is\\nhanc ipsam proscriptionem recitaturus in domo\\nMessalae Coruini Pollionem Asinium aduocauerat, et in\\nprincipio hunc uersum non sine assensu recitauit:\\nDeflendus Cicero est Latiaeque silentia linguae.\\nPollio Asinius non aequo animo tulit et ait: “Messala, tu quid tibi liberum sit in domo tua uideris:\\nego istum auditurus non sum quoi mutus uideor;” atque ita consurrexit. ei interfuisse recitationi\\nSeuerum quoque Cornelium scio, cui non aeque\\ndisplicuisse hunc uersum quam Pollioni adparet, quod\\nmeliorem quidem, sed non dissimilem illi et ipse\\nconposuit. Si hic desiero, scio futurum, ut uos 1llo\\nloco desinatis legere, quo ego a scolasticis recessi;\\nergo ut librum uelitis usque ad umbilicum\\nreuoluere, adiciam suasoriam proximae similem. '},\n",
       "   '6': {'0': '\\nNon feres Antonium: intolerabilis\\nin malo ingenio felicitas est nihilque † cupientis\\nmagis accendit quam prosperae turpitudinis\\nconscientia. difficile est; non feres, inquam, et iterum\\ninritare inimicum in mortem tuam cupies. Quod ad\\nme quidem pertinet, multum a Cicerone absum: tamen\\nnon taedet tantum me uitae meae, sed pudet.\\nNe propter hoc quidem ingenium tuum amas, quod\\nillud Antonius plus odit quam te? remittere ait se\\ntibi ut uiuas, commentus quemadmodum eripiat etiam\\nquod uixeras. crudelior est pactio Antonii quam\\nproscriptio. Ingenium erat in quo nihil iuris\\nhaberent triumuiralia arma. commentus est Antonius\\nquemadmodum quod non poterat cum Cicerone\\n proscribere, a Cicerone proscriberetur. Hortarer te,\\nCicero, ut uitam magni aestimares, si libertas suum\\nhaberet in ciuitate locum, si suum in libertate\\neloquentia, si non ciuili ense ceruicibus luerentur;\\nnunc ut scias nihil esse melius quam mori, uitam\\ntibi Antonius promittit. Pendet nefariae\\nproscriptionis tabula: tot praetorii, tot consulares, tot\\nequestris ordinis uiri periere; nemo relinquitur nisi\\nqui seruire possit. nescio an hoc tempore uiuere\\nuelis, Cicero: nemo est cum quo uelis. Merito,\\n \\nhercules, illo tempore uixisti quo Caesar ultro te\\nrogauit ut uiueres sine ulla pactione, quo tempore\\nnon quidem stabat respublica, sed in boni principis\\n sinum ceciderat.\\n',\n",
       "    '1': ' CESTI PII. Numquid opinio me\\nfefellit? intellexit Antonius saluis eloquentiae\\nmonumentis non posse Ciceronem mori. ad pactionem\\nuocaris, qua pactione melior in te pars tui petitur.\\nAdcommoda mihi paulisper eloquentiam: Ciceronem\\nperiturum rogo. Si te audissent Caesar et Pompeius,\\nneque inissent turpem societatem neque diremissent:\\nsi uti umquam consilio tuo uoluissent, neque\\nPompeius Caesar em deseruisset neque Pompeium\\nCaesar . Quid consulatum salutarem urbi, quid exilium\\nconsulatu honestius, quid prouocatam inter initia\\nadulescentiae libertate tirocinii tui Syllanam\\npotentiam, quid Antonium auulsum a Catilina, reipublicae\\nredditum?\\n',\n",
       "    '2': ' ignosce, Cicero, si diu ista narrauero:\\nforsitan hoc die nouissime audiuntur. Si occidetur\\nCicero, iacebit inter Pompeium patrem filiumque\\net Afranium, Petreium, Q. Catulum, M. Antonium\\nillum indignum hoc successore generis; si\\nseruabitur, uiuet inter Ventidios et Canidios et Saxas: ita\\ndubium est utrum satius sit cum illis iacere, an\\ncum his uiuere? Pro uno homine iactura publica\\npacisceris. Scio omne pretium iniquum esse quod\\nille constituit: non emo tanti Ciceronis uitam\\n \\nquanti uendit Antonius. Si hanc tibi pactionem\\nferret: uiues, sed eruentur oculi tibi, uiues, sed\\ndebilitabuntur pedes: etiam si in alia damna corporis\\npraestares patientiam, excepisses tamen linguam.\\nVbi est sacra illa uox tua: “mori enim naturae finis \\nest, non poena?” hoc tibi uni non liquet? at uideris\\nAntonio persuasisse. Adsere te potius libertati\\net unum crimen inimico adice: fac moriendo\\nAntonium nocentiorem.\\n',\n",
       "    '3': 'P. ASPRENATIS. Vt Antonius\\nCiceroni parcat, Cicero in eloquentiam suam ipse\\nanimaduertet? quid autem tibi sub ista pactione\\npromittitur? ut Cn. Pompeius et M. Cato et ille\\nantiquos restituatur reipublicae senatus, dignissimus apud\\nquem Cicero loqueretur? Multos saepe uicturos\\nanimi sui contemptus oppressit; multos perituros\\nparati ad pereundum animi ipsa admiratio eripuit\\net causa illis uiuendi fuit fortiter mori. Promitte\\npopulo Romano contra Antonium. licet scripta\\n tua combusseris, Antonius paucos annos tibi promittit:\\nat si non combusseris, fama populi Romani\\nomnes.\\n',\n",
       "    '4': 'Pompei SILONIS. Quale est ut perdamus\\neloquentiam Ciceronis, fidem sequamur Antoni?\\nmisericordiam tu istam uocas, supplicium sumptum\\n de Ciceronis ingenio? credamus Antonio, Cicero,\\nsi bene illi pecunias crediderunt feneratores, si bene\\npacem Brutus et Cassius. Hominem et uitio\\nnaturae et licentia temporum insanientem, inter scenicos\\namores sanguine ciuili luxuriantem: hominem qui\\ncreditoribus suis oppignerauit rempublicam, cuius\\ngulae duorum principum bona, Caesaris ac\\nPompei, non potuerunt satisfacere! Tuis utar Cicero\\n \\nuerbis: “cara est cuiquam salus quam aut dare aut\\neripere potest Antonius?” ',\n",
       "    '5': ' non est tanti seruari Ciceroneni,\\n ut seruatum Antonio debeam. TRIARI.\\nConpulsus aliquando populus Romanus in eam\\nnecessitatem est, ut nihil haberet praeter Iouem\\nobsessum et Camillum exulem: nullum tamen fuit\\nCamilli opus maius quam quod indignum putauit uiros\\nsalutem pactioni debere. O grauem uitam, etiam si\\nsine pretio daretur! Antonius hostis a republica\\niudicatus nunc hostem rempublicam iudicat.\\nLepidus, ne quis illum putet male Antonio collegam\\nplacuisse, alienae semper dementiae accessio,\\nutriusque collegae mancipium, noster dominus est .\\n',\n",
       "    '6': ' ARGENTARI. Nihil Antonio credendum est; mentior.\\nquid enim iste non potest qui occidere Ciceronem\\npotest, qui seruare nisi crudelius quam occidebat\\nnon potest? ignoscere illum tibi putas qui ingenio\\ntuo irascitur? ab hoc tu speras uitam cui nondum\\nuerba tua exciderunt? Vt corpus quod fragile et\\ncaducum est seruetur, pereat ingenium quod\\naeternum est? ego mirabar, si non crudelior esset Antonii\\n uenia.\\n',\n",
       "    '7': ' P. Scipionem a maioribus suis\\ndesciscentem generosa mors in numerum Scipionum\\nreposuit. Mortem tibi remittit, ut id pereat quod in te\\nsolum inmortale est. qualis est pactio ? aufertur\\nCiceroni ingenium sine uita; promittuntur pro obliuione\\nnominis tui pauci seruitutis anni. Non ille te\\nuiuere uult, sed tacere ingenii tui superstitem. Viue,\\nut Cicero audiat Lepidum, Cicero audiat Antonium,\\n \\nnemo Ciceronem. Poteris perferre, ut quod Cicero\\noptimum habet ante se efferat? sine durare post te\\ningenium tuum, perpetuam Antonii proscriptionem.\\nARELLI FVSCI patris. Quoad humanum genus\\nincolume manserit, quamdiu suus litteris honor, suum\\neloquentiae pretium erit, quamdiu reipublicae\\nnostrae aut fortuna steterit, aut memoria durauerit,\\nadmirabile posteris uigebit ingenium et uno\\nproscriptus saeculo proscribes Antonium omnibus. Crede\\nmihi, uilissima pars tui est, quae tibi uel eripi uel\\ndonari potest: ille uerus est Cicero quem proscribi\\nAntonius non putat nisi a Cicerone posse.\\n',\n",
       "    '8': 'Non\\nille tibi remittit proscriptionem, sed tolli desiderat\\nsuam. Si fidem deceperit Antonius, morieris; si\\npraestiterit, seruies. quod ad me attinet, fallere\\n eum malo. Per te, M. Tulli, per quattuor et\\nsexaginta annos pulchre actos, per salutarem\\nreipublicae consulatum, per aeternam, si pateris,\\ningeni tui memoriam, per rempublicam quae, ne quid\\nte putes carum illi relinquere, ante te periit, oro et\\nobtestor, ne moriaris confessus quam nolueris mori.\\n',\n",
       "    '9': 'Huius suasoriae alteram partem neminem scio\\ndeclamasse; omnes pro libris Ciceronis solliciti\\nfuerunt, nemo pro ipso, cum adeo illa pars non sit\\nmala, ut Cicero, si haec condicio lata ei fuisset,\\ndeliberaturus non fuerit. Itaque hanc suasoriam\\nnemo declamauit efficacius quam Silo Pompeius: non\\nenim ad illa speciosa se contulit ad quae CESTIVS\\n \\nqui dixit, hoc grauius esse supplicium quam\\nmortem, et ideo hoc Antonium eligere; breuem uitam\\nesse omni, multo magis seni: ita memoriae\\nconsulendum quae magnis uiris aeternitatem promitteret.\\nnon qualibet mercede uitam redimendam et : hic\\ncondiciones intolerabiles esse ; omnia potius\\nsubeunda quam monumenta ingenii sui ipsum exurere.\\nIniuriam illum facturum populo Romano cuius\\nlinguam in locum principem extulisset, ut insolentis\\nGraeciae studia tanto antecederet eloquentia, quanto\\nfortuna; iniuriam facturum generi humano.\\npaenitentiam illum acturum tam care spiritus empti, cum\\nin seruitute senescendum fuisset et in hoc unum\\neloquentia utendum, ut laudaret Antonium. Male\\n cum illo agi: dari uitam, eripi ingenium.\\n',\n",
       "    '10': ' SILO\\nPOMPEIVS sic egit, ut diceret Antonium non\\npacisci, sed inludere: non esse illam condicionem, sed\\ncontumeliam; conbustis enim libris nihilominus\\noccisurum; non esse tam stultum Antonium, ut\\nputaret ad rem pertinere libros a Cicerone conburi, cuius\\nscripta per totum orbem terrarum celebrarentur, nec\\nhoc petere eum quod posset ipse facere: nisi forte\\nnon esset in scripta Ciceronis ei ius cui esset in\\nCiceronem; quaeri nihil aliud quam ut ille Cicero\\nmulta fortiter de mortis contemptu locutus ad\\nturpes condiciones perductus occideretur. Antonium illi\\nnon uitam cum condicione promittere, sed mortem\\n \\nsub infamia quaerere. Itaque quod turpiter postea\\npassurus esset nunc illum debere fortiter pati.\\nEt haec suasoria insignita est dixit enim\\nsententiam cacozeliae genere humillimo et sordidissimo,\\nquod detractu aut adiectione syllabae facit\\nsensum: “pro facinus indignum! peribit ergo quod\\nCicero scripsit, manebit quod Antonius proscripsit?” ',\n",
       "    '11': 'Apud Cestium Pium rhetorem declamabat hanc\\nsuasoriam SVRDINVS, ingeniosus adulescens, a quo\\nGraecae fabulae eleganter in sermonem Latinum\\nconuersae sunt. Solebat dulces sententias dicere,\\nfrequentius tamen praedulces et infractas. In hac\\nsuasoria cum iusiurandum bellis sensibus prioribus\\ncomplexus esset, adiecit: “ita te legam.” CESTIVS,\\nhomo nasutissimus, dissimulauit exaudisse se, ut\\nadulescentem ornatum quasi inprudens obiurgaret: “quid dixisti? quid? ita te fruar?” Erat autem\\nCESTIVS nullius quidem ingenii amator , Ciceroni\\netiam infestus, quod illi non inpune cessit.\\n',\n",
       "    '12': 'Nam\\ncum M. Tullius filius Ciceronis Asiam obtineret,\\nhomo qui nihil ex paterno ingenio habuit praeter\\nurbanitatem, cenabat apud eum Cestius. M. Tullio et\\nnatura memoriam dempserat, et ebrietas si quid ex ea\\nsupererat subducebat; subinde interrogabat, qui ille\\nuocaretur qui in imo recumberet, et cum saepe\\nsubiectum illi nomen Cestii excidisset, nouissime\\nseruus, ut aliqua nota memoriam eius faceret certiorem,\\ninterroganti domino, quis ille esset qui in imo\\nrecumberet, ait: “hic est Cestius qui patrem tuum\\nnegabat litteras scisse;” adferri ocius flagra iussit et\\n \\nCiceroni, ut oportuit, de corio Cestius satisfecit.\\n',\n",
       "    '13': ' Erat autem etiam ubi pietas non exigeret scordalus.\\nHybreae disertissimi uiri filio male apud se causam\\nagenti ait: mh\\\\ ou)=n path\\\\r w)/n ; et cum in quadam\\npostulatione Hybreas patris sui totum locum ad\\nlitteram omnibus agnoscentibus diceret, “age,” inquit,\\n*non putas me didicisse patris mei “quousque\\ntandem abutere Catilina patientia nostra?” GARGONIVS,\\nhomo uilissimus, in hac suasoria dixit duas res\\nquibus stultiores ne ipse quidem umquam dixerat;\\nunam in principio: nam cum coepisset scolasticorum\\nfrequentissimo iam more a iureiurando et dixisset\\nmulta ait “ita quamprimum tantum timeat,\\nquantum potest, ita aut totus uiuat Cicero, aut totus\\nmoriatur, ut ego quae hodie pro Ciceronis ingenio\\ndixero nulla pactione delebo.” alteram rem dixit\\ncum exempla referret eorum qui fortiter perierant: “Iuba et Petreius mutuis uulneribus concucurrerunt et\\nmortes fenerauerunt.” '}},\n",
       "  'edition': 'Seneca, Lucius Annaeus, 55 B.C.-ca. 39 A.D, creator; Kiessling, Adolf Gottlieb, 1837-1892, editor',\n",
       "  'englishTitle': 'Suasoriae',\n",
       "  'source': 'Perseus Digital Library',\n",
       "  'originalTitle': 'Suasoriae',\n",
       "  'original-urn': 'urn:cts:latinLit:phi1014.phi003.perseus-lat1',\n",
       "  'language': 'latin',\n",
       "  'sourceLink': 'http://www.perseus.tufts.edu/hopper/',\n",
       "  'urn': 'urn:cts:latinLit:phi1014.phi003.perseus-lat1-simple',\n",
       "  'filename': FileSystemPathPointer('/Users/rjbarnes/cltk_data/latin/text/latin_text_perseus/cltk_json/seneca-lucius-annaeus-55-bc-ca-39-ad__suasoriae__latin.json')}]"
      ]
     },
     "execution_count": 21,
     "metadata": {},
     "output_type": "execute_result"
    }
   ],
   "source": [
    "list(perseus_corpus.docs('seneca-lucius-annaeus-55-bc-ca-39-ad__suasoriae__latin.json'))"
   ]
  },
  {
   "cell_type": "markdown",
   "metadata": {},
   "source": [
    "to navigate to a particular paragraph (`paras`) or sentence (`senta`) we would provide it's number, beginning with 0"
   ]
  },
  {
   "cell_type": "markdown",
   "metadata": {},
   "source": [
    "The first paragraph (`paras`) is `[0]`"
   ]
  },
  {
   "cell_type": "code",
   "execution_count": 22,
   "metadata": {},
   "outputs": [
    {
     "data": {
      "text/plain": [
       "'Cuicumque rei magnitudinem natura\\ndederat dedit et modum: nihil infinitum est nisi\\nOceanus. Aiunt fertiles in Oceano iacere terras\\nultraque Oceanum rursus alia litora, alium nasci orbem,\\nnec usquam rerum naturam desinere, sed semper\\ninde ubi desisse uideatur nouam exsurgere. facile\\nista finguntur quia Oceanus nauigari non potest.\\nSatis sit hactenus Alexandro uicisse qua mundo\\nlucere satis est. Intra has terras caelum Hercules\\nmeruit. Stat immotum mare et quasi deficientis in suo\\nfine naturae pigra moles: nouae ac terribiles figurae,\\nmagna etiam Oceano portenta quae profunda ista\\nuastitas nutrit, confusa lux alta caligine et\\ninterceptus tenebris dies, ipsum uero graue et defixum\\nmare et aut nulla aut ignota sidera. Ita est,\\n \\nAlexander, rerum natura: post omnia Oceanus, post\\n Oceanum nihil.'"
      ]
     },
     "execution_count": 22,
     "metadata": {},
     "output_type": "execute_result"
    }
   ],
   "source": [
    "list(perseus_corpus.paras('seneca-lucius-annaeus-55-bc-ca-39-ad__suasoriae__latin.json'))[0]"
   ]
  },
  {
   "cell_type": "markdown",
   "metadata": {},
   "source": [
    "The first sentence (`sents`) is `[0]`"
   ]
  },
  {
   "cell_type": "code",
   "execution_count": 23,
   "metadata": {},
   "outputs": [
    {
     "data": {
      "text/plain": [
       "'Cuicumque rei magnitudinem natura\\ndederat dedit et modum: nihil infinitum est nisi\\nOceanus.'"
      ]
     },
     "execution_count": 23,
     "metadata": {},
     "output_type": "execute_result"
    }
   ],
   "source": [
    "list(perseus_corpus.sents('seneca-lucius-annaeus-55-bc-ca-39-ad__suasoriae__latin.json'))[0]"
   ]
  },
  {
   "cell_type": "markdown",
   "metadata": {},
   "source": [
    "As you may have noted, the text is messy."
   ]
  },
  {
   "cell_type": "markdown",
   "metadata": {},
   "source": [
    "### Cleaning opened text ###"
   ]
  },
  {
   "cell_type": "markdown",
   "metadata": {},
   "source": [
    "if you want to clean a text, you must import the module (`remove_non_latin`)"
   ]
  },
  {
   "cell_type": "code",
   "execution_count": 24,
   "metadata": {},
   "outputs": [],
   "source": [
    "from cltk.corpus.utils.formatter import remove_non_latin"
   ]
  },
  {
   "cell_type": "markdown",
   "metadata": {},
   "source": [
    "assign (`=`) a variable (`test_text`) to the text you want to clean - for our purposes, the first paragraph of Seneca's *Suasoriae* (`list(perseus_corpus.paras('seneca-lucius-annaeus-55-bc-ca-39-ad__suasoriae__latin.json'))[0]`)"
   ]
  },
  {
   "cell_type": "code",
   "execution_count": 25,
   "metadata": {},
   "outputs": [],
   "source": [
    "test_text = list(perseus_corpus.paras('seneca-lucius-annaeus-55-bc-ca-39-ad__suasoriae__latin.json'))[0]"
   ]
  },
  {
   "cell_type": "markdown",
   "metadata": {},
   "source": [
    "Now, clean (`remove_non_latin`) the paragraph (`test_text`)"
   ]
  },
  {
   "cell_type": "code",
   "execution_count": 26,
   "metadata": {},
   "outputs": [
    {
     "data": {
      "text/plain": [
       "'Cuicumque rei magnitudinem naturadederat dedit et modum nihil infinitum est nisiOceanus Aiunt fertiles in Oceano iacere terrasultraque Oceanum rursus alia litora alium nasci orbemnec usquam rerum naturam desinere sed semperinde ubi desisse uideatur nouam exsurgere facileista finguntur quia Oceanus nauigari non potestSatis sit hactenus Alexandro uicisse qua mundolucere satis est Intra has terras caelum Herculesmeruit Stat immotum mare et quasi deficientis in suofine naturae pigra moles nouae ac terribiles figuraemagna etiam Oceano portenta quae profunda istauastitas nutrit confusa lux alta caligine etinterceptus tenebris dies ipsum uero graue et defixummare et aut nulla aut ignota sidera Ita est Alexander rerum natura post omnia Oceanus post Oceanum nihil'"
      ]
     },
     "execution_count": 26,
     "metadata": {},
     "output_type": "execute_result"
    }
   ],
   "source": [
    "remove_non_latin(test_text)"
   ]
  },
  {
   "cell_type": "markdown",
   "metadata": {},
   "source": [
    "but there's a problem..."
   ]
  },
  {
   "cell_type": "markdown",
   "metadata": {},
   "source": [
    "Since that function removes all the periods and commas, we would have to do the following tell the the function to keep also the period and commas (`also_keep=['.', ',']`)"
   ]
  },
  {
   "cell_type": "code",
   "execution_count": 27,
   "metadata": {},
   "outputs": [
    {
     "data": {
      "text/plain": [
       "'Cuicumque rei magnitudinem naturadederat dedit et modum nihil infinitum est nisiOceanus. Aiunt fertiles in Oceano iacere terrasultraque Oceanum rursus alia litora, alium nasci orbem,nec usquam rerum naturam desinere, sed semperinde ubi desisse uideatur nouam exsurgere. facileista finguntur quia Oceanus nauigari non potest.Satis sit hactenus Alexandro uicisse qua mundolucere satis est. Intra has terras caelum Herculesmeruit. Stat immotum mare et quasi deficientis in suofine naturae pigra moles nouae ac terribiles figurae,magna etiam Oceano portenta quae profunda istauastitas nutrit, confusa lux alta caligine etinterceptus tenebris dies, ipsum uero graue et defixummare et aut nulla aut ignota sidera. Ita est, Alexander, rerum natura post omnia Oceanus, post Oceanum nihil.'"
      ]
     },
     "execution_count": 27,
     "metadata": {},
     "output_type": "execute_result"
    }
   ],
   "source": [
    "remove_non_latin(test_text, also_keep=['.', ','])"
   ]
  }
 ],
 "metadata": {
  "kernelspec": {
   "display_name": "Python 3",
   "language": "python",
   "name": "python3"
  },
  "language_info": {
   "codemirror_mode": {
    "name": "ipython",
    "version": 3
   },
   "file_extension": ".py",
   "mimetype": "text/x-python",
   "name": "python",
   "nbconvert_exporter": "python",
   "pygments_lexer": "ipython3",
   "version": "3.7.4"
  }
 },
 "nbformat": 4,
 "nbformat_minor": 2
}
