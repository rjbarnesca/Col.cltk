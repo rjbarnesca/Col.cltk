{
 "cells": [
  {
   "cell_type": "markdown",
   "metadata": {},
   "source": [
    "# Basic Natural Language Processing with cltk"
   ]
  },
  {
   "cell_type": "markdown",
   "metadata": {},
   "source": [
    "## Tokenization (Latin)"
   ]
  },
  {
   "cell_type": "markdown",
   "metadata": {},
   "source": [
    "let's take a Latin text (in this case, a swath from the preface of Cato's *De Agricultura*) and assign `=` it to a variable `cato_agri_praef`"
   ]
  },
  {
   "cell_type": "code",
   "execution_count": 1,
   "metadata": {},
   "outputs": [],
   "source": [
    "cato_agri_praef = \"Est interdum praestare mercaturis rem quaerere, nisi tam periculosum sit, et item foenerari, si tam honestum. Maiores nostri sic habuerunt et ita in legibus posiverunt: furem dupli condemnari, foeneratorem quadrupli. Quanto peiorem civem existimarint foeneratorem quam furem, hinc licet existimare. Et virum bonum quom laudabant, ita laudabant: bonum agricolam bonumque colonum; amplissime laudari existimabatur qui ita laudabatur. Mercatorem autem strenuum studiosumque rei quaerendae existimo, verum, ut supra dixi, periculosum et calamitosum. At ex agricolis et viri fortissimi et milites strenuissimi gignuntur, maximeque pius quaestus stabilissimusque consequitur minimeque invidiosus, minimeque male cogitantes sunt qui in eo studio occupati sunt. Nunc, ut ad rem redeam, quod promisi institutum principium hoc erit.\""
   ]
  },
  {
   "cell_type": "code",
   "execution_count": 2,
   "metadata": {},
   "outputs": [
    {
     "name": "stdout",
     "output_type": "stream",
     "text": [
      "Est interdum praestare mercaturis rem quaerere, nisi tam periculosum sit, et item foenerari, si tam honestum. Maiores nostri sic habuerunt et ita in legibus posiverunt: furem dupli condemnari, foeneratorem quadrupli. Quanto peiorem civem existimarint foeneratorem quam furem, hinc licet existimare. Et virum bonum quom laudabant, ita laudabant: bonum agricolam bonumque colonum; amplissime laudari existimabatur qui ita laudabatur. Mercatorem autem strenuum studiosumque rei quaerendae existimo, verum, ut supra dixi, periculosum et calamitosum. At ex agricolis et viri fortissimi et milites strenuissimi gignuntur, maximeque pius quaestus stabilissimusque consequitur minimeque invidiosus, minimeque male cogitantes sunt qui in eo studio occupati sunt. Nunc, ut ad rem redeam, quod promisi institutum principium hoc erit.\n"
     ]
    }
   ],
   "source": [
    "print(cato_agri_praef)"
   ]
  },
  {
   "cell_type": "markdown",
   "metadata": {},
   "source": [
    "next, let's make the text all lowercase so that it is a bit more readable when we want to do word frequency lists"
   ]
  },
  {
   "cell_type": "code",
   "execution_count": 3,
   "metadata": {},
   "outputs": [],
   "source": [
    "cato_agri_praef_lowered = cato_agri_praef.lower()"
   ]
  },
  {
   "cell_type": "code",
   "execution_count": 4,
   "metadata": {
    "scrolled": true
   },
   "outputs": [
    {
     "name": "stdout",
     "output_type": "stream",
     "text": [
      "est interdum praestare mercaturis rem quaerere, nisi tam periculosum sit, et item foenerari, si tam honestum. maiores nostri sic habuerunt et ita in legibus posiverunt: furem dupli condemnari, foeneratorem quadrupli. quanto peiorem civem existimarint foeneratorem quam furem, hinc licet existimare. et virum bonum quom laudabant, ita laudabant: bonum agricolam bonumque colonum; amplissime laudari existimabatur qui ita laudabatur. mercatorem autem strenuum studiosumque rei quaerendae existimo, verum, ut supra dixi, periculosum et calamitosum. at ex agricolis et viri fortissimi et milites strenuissimi gignuntur, maximeque pius quaestus stabilissimusque consequitur minimeque invidiosus, minimeque male cogitantes sunt qui in eo studio occupati sunt. nunc, ut ad rem redeam, quod promisi institutum principium hoc erit.\n"
     ]
    }
   ],
   "source": [
    "print(cato_agri_praef_lowered)"
   ]
  },
  {
   "cell_type": "markdown",
   "metadata": {},
   "source": [
    "### Tokenize sentences"
   ]
  },
  {
   "cell_type": "markdown",
   "metadata": {},
   "source": [
    "if you want to tokenize the sentences of the passage, import (`import`) the sentence tokenizer (`TokenizeSentence`)"
   ]
  },
  {
   "cell_type": "code",
   "execution_count": 5,
   "metadata": {},
   "outputs": [],
   "source": [
    "from cltk.tokenize.sentence import TokenizeSentence"
   ]
  },
  {
   "cell_type": "markdown",
   "metadata": {},
   "source": [
    "Choose a variable `tokenizer` and assign `=` it to the function of Latin sentence tokenization `TokenizeSentence('latin')`"
   ]
  },
  {
   "cell_type": "code",
   "execution_count": 6,
   "metadata": {},
   "outputs": [],
   "source": [
    "tokenizer = TokenizeSentence('latin')"
   ]
  },
  {
   "cell_type": "markdown",
   "metadata": {},
   "source": [
    "Choose a variable `cato_sentence_tokens` and assign `=` it to the process of tokenizing the Latin sentences of the text you have chosen `tokenizer.tokenize_sentences(cato_agri_praef_lowered)`"
   ]
  },
  {
   "cell_type": "code",
   "execution_count": 7,
   "metadata": {},
   "outputs": [],
   "source": [
    "cato_sentence_tokens = tokenizer.tokenize_sentences(cato_agri_praef_lowered)"
   ]
  },
  {
   "cell_type": "markdown",
   "metadata": {},
   "source": [
    "print that variable `cato_sentence_tokens` in order to reveal the passage broken up into its various sentences"
   ]
  },
  {
   "cell_type": "code",
   "execution_count": 8,
   "metadata": {},
   "outputs": [
    {
     "name": "stdout",
     "output_type": "stream",
     "text": [
      "['est interdum praestare mercaturis rem quaerere, nisi tam periculosum sit, et item foenerari, si tam honestum.', 'maiores nostri sic habuerunt et ita in legibus posiverunt: furem dupli condemnari, foeneratorem quadrupli.', 'quanto peiorem civem existimarint foeneratorem quam furem, hinc licet existimare.', 'et virum bonum quom laudabant, ita laudabant: bonum agricolam bonumque colonum; amplissime laudari existimabatur qui ita laudabatur.', 'mercatorem autem strenuum studiosumque rei quaerendae existimo, verum, ut supra dixi, periculosum et calamitosum.', 'at ex agricolis et viri fortissimi et milites strenuissimi gignuntur, maximeque pius quaestus stabilissimusque consequitur minimeque invidiosus, minimeque male cogitantes sunt qui in eo studio occupati sunt.', 'nunc, ut ad rem redeam, quod promisi institutum principium hoc erit.']\n"
     ]
    }
   ],
   "source": [
    "print(cato_sentence_tokens)"
   ]
  },
  {
   "cell_type": "markdown",
   "metadata": {},
   "source": [
    "you may also view the sentences as a list `list()`"
   ]
  },
  {
   "cell_type": "code",
   "execution_count": 9,
   "metadata": {},
   "outputs": [
    {
     "data": {
      "text/plain": [
       "['est interdum praestare mercaturis rem quaerere, nisi tam periculosum sit, et item foenerari, si tam honestum.',\n",
       " 'maiores nostri sic habuerunt et ita in legibus posiverunt: furem dupli condemnari, foeneratorem quadrupli.',\n",
       " 'quanto peiorem civem existimarint foeneratorem quam furem, hinc licet existimare.',\n",
       " 'et virum bonum quom laudabant, ita laudabant: bonum agricolam bonumque colonum; amplissime laudari existimabatur qui ita laudabatur.',\n",
       " 'mercatorem autem strenuum studiosumque rei quaerendae existimo, verum, ut supra dixi, periculosum et calamitosum.',\n",
       " 'at ex agricolis et viri fortissimi et milites strenuissimi gignuntur, maximeque pius quaestus stabilissimusque consequitur minimeque invidiosus, minimeque male cogitantes sunt qui in eo studio occupati sunt.',\n",
       " 'nunc, ut ad rem redeam, quod promisi institutum principium hoc erit.']"
      ]
     },
     "execution_count": 9,
     "metadata": {},
     "output_type": "execute_result"
    }
   ],
   "source": [
    "list(cato_sentence_tokens)"
   ]
  },
  {
   "cell_type": "markdown",
   "metadata": {},
   "source": [
    "you can view it as clean sentences"
   ]
  },
  {
   "cell_type": "code",
   "execution_count": 10,
   "metadata": {
    "scrolled": true
   },
   "outputs": [
    {
     "name": "stdout",
     "output_type": "stream",
     "text": [
      "est interdum praestare mercaturis rem quaerere, nisi tam periculosum sit, et item foenerari, si tam honestum.\n",
      "\n",
      "maiores nostri sic habuerunt et ita in legibus posiverunt: furem dupli condemnari, foeneratorem quadrupli.\n",
      "\n",
      "quanto peiorem civem existimarint foeneratorem quam furem, hinc licet existimare.\n",
      "\n",
      "et virum bonum quom laudabant, ita laudabant: bonum agricolam bonumque colonum; amplissime laudari existimabatur qui ita laudabatur.\n",
      "\n",
      "mercatorem autem strenuum studiosumque rei quaerendae existimo, verum, ut supra dixi, periculosum et calamitosum.\n",
      "\n",
      "at ex agricolis et viri fortissimi et milites strenuissimi gignuntur, maximeque pius quaestus stabilissimusque consequitur minimeque invidiosus, minimeque male cogitantes sunt qui in eo studio occupati sunt.\n",
      "\n",
      "nunc, ut ad rem redeam, quod promisi institutum principium hoc erit.\n",
      "\n"
     ]
    }
   ],
   "source": [
    "for sentence in cato_sentence_tokens:\n",
    "    print(sentence)\n",
    "    print()"
   ]
  },
  {
   "cell_type": "markdown",
   "metadata": {},
   "source": [
    "You can count `len()` the tokenized sentences"
   ]
  },
  {
   "cell_type": "code",
   "execution_count": 11,
   "metadata": {},
   "outputs": [
    {
     "name": "stdout",
     "output_type": "stream",
     "text": [
      "7\n"
     ]
    }
   ],
   "source": [
    "print(len(cato_sentence_tokens))"
   ]
  },
  {
   "cell_type": "markdown",
   "metadata": {},
   "source": [
    "you can even view them in numbered sentences with spacing "
   ]
  },
  {
   "cell_type": "code",
   "execution_count": 12,
   "metadata": {},
   "outputs": [
    {
     "name": "stdout",
     "output_type": "stream",
     "text": [
      "1:   est interdum praestare mercaturis rem quaerere, nisi tam periculosum sit, et item foenerari, si tam honestum.\n",
      "2:   maiores nostri sic habuerunt et ita in legibus posiverunt: furem dupli condemnari, foeneratorem quadrupli.\n",
      "3:   quanto peiorem civem existimarint foeneratorem quam furem, hinc licet existimare.\n",
      "4:   et virum bonum quom laudabant, ita laudabant: bonum agricolam bonumque colonum; amplissime laudari existimabatur qui ita laudabatur.\n",
      "5:   mercatorem autem strenuum studiosumque rei quaerendae existimo, verum, ut supra dixi, periculosum et calamitosum.\n",
      "6:   at ex agricolis et viri fortissimi et milites strenuissimi gignuntur, maximeque pius quaestus stabilissimusque consequitur minimeque invidiosus, minimeque male cogitantes sunt qui in eo studio occupati sunt.\n",
      "7:   nunc, ut ad rem redeam, quod promisi institutum principium hoc erit.\n"
     ]
    }
   ],
   "source": [
    "for index, item in enumerate(cato_sentence_tokens):\n",
    "    print(str(index + 1) + ':   ' + item)"
   ]
  },
  {
   "cell_type": "markdown",
   "metadata": {},
   "source": [
    "### tokenize words"
   ]
  },
  {
   "cell_type": "markdown",
   "metadata": {},
   "source": [
    "import word tokenizer `WordTokenizer`"
   ]
  },
  {
   "cell_type": "code",
   "execution_count": 13,
   "metadata": {},
   "outputs": [],
   "source": [
    "from cltk.tokenize.word import WordTokenizer"
   ]
  },
  {
   "cell_type": "markdown",
   "metadata": {},
   "source": [
    "assign a variable `tok` to the function of word tokening in Latin `WordTokenizer(language='latin')`"
   ]
  },
  {
   "cell_type": "code",
   "execution_count": 14,
   "metadata": {},
   "outputs": [],
   "source": [
    "tok = WordTokenizer(language='latin')"
   ]
  },
  {
   "cell_type": "markdown",
   "metadata": {},
   "source": [
    "assign `=` a variable `cato_word_tokens` to the function of tokenizing the text `tok.tokenize(cato_agri_praef_lowered)`"
   ]
  },
  {
   "cell_type": "code",
   "execution_count": 15,
   "metadata": {
    "scrolled": true
   },
   "outputs": [],
   "source": [
    "cato_word_tokens = tok.tokenize(cato_agri_praef_lowered)"
   ]
  },
  {
   "cell_type": "code",
   "execution_count": 16,
   "metadata": {},
   "outputs": [
    {
     "name": "stdout",
     "output_type": "stream",
     "text": [
      "['est', 'interdum', 'praestare', 'mercaturis', 'rem', 'quaerere', ',', 'nisi', 'tam', 'periculosum', 'sit', ',', 'et', 'item', 'foenerari', ',', 'si', 'tam', 'honestum', '.', 'maiores', 'nostri', 'sic', 'habuerunt', 'et', 'ita', 'in', 'legibus', 'posiverunt', ':', 'furem', 'dupli', 'condemnari', ',', 'foeneratorem', 'quadrupli', '.', 'quanto', 'peiorem', 'civem', 'existimarint', 'foeneratorem', 'quam', 'furem', ',', 'hinc', 'licet', 'existimare', '.', 'et', 'virum', 'bonum', 'quom', 'laudabant', ',', 'ita', 'laudabant', ':', 'bonum', 'agricolam', 'bonum', '-que', 'colonum', ';', 'amplissime', 'laudari', 'existimabatur', 'qui', 'ita', 'laudabatur', '.', 'mercatorem', 'autem', 'strenuum', 'studiosum', '-que', 'rei', 'quaerendae', 'existimo', ',', 'verum', ',', 'ut', 'supra', 'dixi', ',', 'periculosum', 'et', 'calamitosum', '.', 'at', 'ex', 'agricolis', 'et', 'viri', 'fortissimi', 'et', 'milites', 'strenuissimi', 'gignuntur', ',', 'maxime', '-que', 'pius', 'quaestus', 'stabilissimus', '-que', 'consequitur', 'minime', '-que', 'invidiosus', ',', 'minime', '-que', 'male', 'cogitantes', 'sunt', 'qui', 'in', 'eo', 'studio', 'occupati', 'sunt', '.', 'nunc', ',', 'ut', 'ad', 'rem', 'redeam', ',', 'quod', 'promisi', 'institutum', 'principium', 'hoc', 'erit', '.']\n"
     ]
    }
   ],
   "source": [
    "print(cato_word_tokens)"
   ]
  },
  {
   "cell_type": "markdown",
   "metadata": {},
   "source": [
    "to get rid of punctuation..."
   ]
  },
  {
   "cell_type": "code",
   "execution_count": 17,
   "metadata": {},
   "outputs": [],
   "source": [
    "cato_word_tokens_no_punt = [token for token in cato_word_tokens if token not in ['.', ',', ':', ';']]"
   ]
  },
  {
   "cell_type": "code",
   "execution_count": 18,
   "metadata": {},
   "outputs": [
    {
     "name": "stdout",
     "output_type": "stream",
     "text": [
      "['est', 'interdum', 'praestare', 'mercaturis', 'rem', 'quaerere', 'nisi', 'tam', 'periculosum', 'sit', 'et', 'item', 'foenerari', 'si', 'tam', 'honestum', 'maiores', 'nostri', 'sic', 'habuerunt', 'et', 'ita', 'in', 'legibus', 'posiverunt', 'furem', 'dupli', 'condemnari', 'foeneratorem', 'quadrupli', 'quanto', 'peiorem', 'civem', 'existimarint', 'foeneratorem', 'quam', 'furem', 'hinc', 'licet', 'existimare', 'et', 'virum', 'bonum', 'quom', 'laudabant', 'ita', 'laudabant', 'bonum', 'agricolam', 'bonum', '-que', 'colonum', 'amplissime', 'laudari', 'existimabatur', 'qui', 'ita', 'laudabatur', 'mercatorem', 'autem', 'strenuum', 'studiosum', '-que', 'rei', 'quaerendae', 'existimo', 'verum', 'ut', 'supra', 'dixi', 'periculosum', 'et', 'calamitosum', 'at', 'ex', 'agricolis', 'et', 'viri', 'fortissimi', 'et', 'milites', 'strenuissimi', 'gignuntur', 'maxime', '-que', 'pius', 'quaestus', 'stabilissimus', '-que', 'consequitur', 'minime', '-que', 'invidiosus', 'minime', '-que', 'male', 'cogitantes', 'sunt', 'qui', 'in', 'eo', 'studio', 'occupati', 'sunt', 'nunc', 'ut', 'ad', 'rem', 'redeam', 'quod', 'promisi', 'institutum', 'principium', 'hoc', 'erit']\n"
     ]
    }
   ],
   "source": [
    "print(cato_word_tokens_no_punt)"
   ]
  },
  {
   "cell_type": "code",
   "execution_count": 19,
   "metadata": {},
   "outputs": [
    {
     "data": {
      "text/plain": [
       "115"
      ]
     },
     "execution_count": 19,
     "metadata": {},
     "output_type": "execute_result"
    }
   ],
   "source": [
    "len(cato_word_tokens_no_punt)"
   ]
  },
  {
   "cell_type": "markdown",
   "metadata": {},
   "source": [
    "### Individual word count"
   ]
  },
  {
   "cell_type": "markdown",
   "metadata": {},
   "source": [
    "let's say you want to create a word frequency list"
   ]
  },
  {
   "cell_type": "markdown",
   "metadata": {},
   "source": [
    "first, import the counter function"
   ]
  },
  {
   "cell_type": "code",
   "execution_count": 20,
   "metadata": {},
   "outputs": [],
   "source": [
    "from collections import Counter"
   ]
  },
  {
   "cell_type": "code",
   "execution_count": 21,
   "metadata": {
    "scrolled": false
   },
   "outputs": [
    {
     "name": "stdout",
     "output_type": "stream",
     "text": [
      "Counter({'et': 6, '-que': 6, 'ita': 3, 'bonum': 3, 'rem': 2, 'tam': 2, 'periculosum': 2, 'in': 2, 'furem': 2, 'foeneratorem': 2, 'laudabant': 2, 'qui': 2, 'ut': 2, 'minime': 2, 'sunt': 2, 'est': 1, 'interdum': 1, 'praestare': 1, 'mercaturis': 1, 'quaerere': 1, 'nisi': 1, 'sit': 1, 'item': 1, 'foenerari': 1, 'si': 1, 'honestum': 1, 'maiores': 1, 'nostri': 1, 'sic': 1, 'habuerunt': 1, 'legibus': 1, 'posiverunt': 1, 'dupli': 1, 'condemnari': 1, 'quadrupli': 1, 'quanto': 1, 'peiorem': 1, 'civem': 1, 'existimarint': 1, 'quam': 1, 'hinc': 1, 'licet': 1, 'existimare': 1, 'virum': 1, 'quom': 1, 'agricolam': 1, 'colonum': 1, 'amplissime': 1, 'laudari': 1, 'existimabatur': 1, 'laudabatur': 1, 'mercatorem': 1, 'autem': 1, 'strenuum': 1, 'studiosum': 1, 'rei': 1, 'quaerendae': 1, 'existimo': 1, 'verum': 1, 'supra': 1, 'dixi': 1, 'calamitosum': 1, 'at': 1, 'ex': 1, 'agricolis': 1, 'viri': 1, 'fortissimi': 1, 'milites': 1, 'strenuissimi': 1, 'gignuntur': 1, 'maxime': 1, 'pius': 1, 'quaestus': 1, 'stabilissimus': 1, 'consequitur': 1, 'invidiosus': 1, 'male': 1, 'cogitantes': 1, 'eo': 1, 'studio': 1, 'occupati': 1, 'nunc': 1, 'ad': 1, 'redeam': 1, 'quod': 1, 'promisi': 1, 'institutum': 1, 'principium': 1, 'hoc': 1, 'erit': 1})\n"
     ]
    }
   ],
   "source": [
    "cato_word_counts_counter = Counter(cato_word_tokens_no_punt)\n",
    "print(cato_word_counts_counter)"
   ]
  },
  {
   "cell_type": "markdown",
   "metadata": {},
   "source": [
    "## Tokenization (Greek)"
   ]
  },
  {
   "cell_type": "markdown",
   "metadata": {},
   "source": [
    "let's take a Greek text (in this case, a swath from the preface of Athenaeus) and assign `=` it to a variable `athenaeus_incipit`"
   ]
  },
  {
   "cell_type": "code",
   "execution_count": 22,
   "metadata": {},
   "outputs": [],
   "source": [
    "athenaeus_incipit = \"Ἀθήναιος μὲν ὁ τῆς βίβλου πατήρ· ποιεῖται δὲ τὸν λόγον πρὸς Τιμοκράτην· Δειπνοσοφιστὴς δὲ ταύτῃ τὸ ὄνομα. Ὑπόκειται δὲ τῷ λόγῳ Λαρήνσιος Ῥωμαῖος, ἀνὴρ τῇ τύχῃ περιφανής, τοὺς κατὰ πᾶσαν παιδείαν ἐμπειροτάτους ἐν αὑτοῦ δαιτυμόνας ποιούμενος· ἐν οἷς οὐκ ἔσθ᾽ οὗτινος τῶν καλλίστων οὐκ ἐμνημόνευσεν. Ἰχθῦς τε γὰρ τῇ βίβλῳ ἐνέθετο καὶ τὰς τούτων χρείας καὶ τὰς τῶν ὀνομάτων ἀναπτύξεις καὶ λαχάνων γένη παντοῖα καὶ ζῴων παντοδαπῶν καὶ ἄνδρας ἱστορίας συγγεγραφότας καὶ ποιητὰς καὶ φιλοσόφους καὶ ὄργανα μουσικὰ καὶ σκωμμάτων εἴδη μυρία καὶ ἐκπωμάτων διαφορὰς καὶ πλούτους βασιλέων διηγήσατο καὶ νηῶν μεγέθη καὶ ὅσα ἄλλα οὐδ᾽ ἂν εὐχερῶς ἀπομνημονεύσαιμι, ἢ ἐπιλίποι μ᾽ ἂν ἡ ἡμέρα κατ᾽ εἶδος διεξερχόμενον. Καί ἐστιν ἡ τοῦ λόγου οἰκονομία μίμημα τῆς τοῦ δείπνου πολυτελείας καὶ ἡ τῆς βίβλου διασκευὴ τῆς ἐν τῷ δείπνῳ παρασκευῆς. Τοιοῦτον ὁ θαυμαστὸς οὗτος τοῦ λόγου οἰκονόμος Ἀθήναιος ἥδιστον λογόδειπνον εἰσηγεῖται κρείττων τε αὐτὸς ἑαυτοῦ γινόμενος, ὥσπερ οἱ Ἀθήνησι ῥήτορες, ὑπὸ τῆς ἐν τῷ λέγειν θερμότητος πρὸς τὰ ἑπόμενα τῆς βίβλου βαθμηδὸν ὑπεράλλεται.\""
   ]
  },
  {
   "cell_type": "code",
   "execution_count": 23,
   "metadata": {},
   "outputs": [
    {
     "name": "stdout",
     "output_type": "stream",
     "text": [
      "Ἀθήναιος μὲν ὁ τῆς βίβλου πατήρ· ποιεῖται δὲ τὸν λόγον πρὸς Τιμοκράτην· Δειπνοσοφιστὴς δὲ ταύτῃ τὸ ὄνομα. Ὑπόκειται δὲ τῷ λόγῳ Λαρήνσιος Ῥωμαῖος, ἀνὴρ τῇ τύχῃ περιφανής, τοὺς κατὰ πᾶσαν παιδείαν ἐμπειροτάτους ἐν αὑτοῦ δαιτυμόνας ποιούμενος· ἐν οἷς οὐκ ἔσθ᾽ οὗτινος τῶν καλλίστων οὐκ ἐμνημόνευσεν. Ἰχθῦς τε γὰρ τῇ βίβλῳ ἐνέθετο καὶ τὰς τούτων χρείας καὶ τὰς τῶν ὀνομάτων ἀναπτύξεις καὶ λαχάνων γένη παντοῖα καὶ ζῴων παντοδαπῶν καὶ ἄνδρας ἱστορίας συγγεγραφότας καὶ ποιητὰς καὶ φιλοσόφους καὶ ὄργανα μουσικὰ καὶ σκωμμάτων εἴδη μυρία καὶ ἐκπωμάτων διαφορὰς καὶ πλούτους βασιλέων διηγήσατο καὶ νηῶν μεγέθη καὶ ὅσα ἄλλα οὐδ᾽ ἂν εὐχερῶς ἀπομνημονεύσαιμι, ἢ ἐπιλίποι μ᾽ ἂν ἡ ἡμέρα κατ᾽ εἶδος διεξερχόμενον. Καί ἐστιν ἡ τοῦ λόγου οἰκονομία μίμημα τῆς τοῦ δείπνου πολυτελείας καὶ ἡ τῆς βίβλου διασκευὴ τῆς ἐν τῷ δείπνῳ παρασκευῆς. Τοιοῦτον ὁ θαυμαστὸς οὗτος τοῦ λόγου οἰκονόμος Ἀθήναιος ἥδιστον λογόδειπνον εἰσηγεῖται κρείττων τε αὐτὸς ἑαυτοῦ γινόμενος, ὥσπερ οἱ Ἀθήνησι ῥήτορες, ὑπὸ τῆς ἐν τῷ λέγειν θερμότητος πρὸς τὰ ἑπόμενα τῆς βίβλου βαθμηδὸν ὑπεράλλεται.\n"
     ]
    }
   ],
   "source": [
    "print(athenaeus_incipit)"
   ]
  },
  {
   "cell_type": "markdown",
   "metadata": {},
   "source": [
    "next, let's make the text all lowercase so that it is a bit more readable when we want to do word frequency lists"
   ]
  },
  {
   "cell_type": "code",
   "execution_count": 24,
   "metadata": {},
   "outputs": [],
   "source": [
    "athenaeus_incipit_lowered = athenaeus_incipit.lower()"
   ]
  },
  {
   "cell_type": "code",
   "execution_count": 25,
   "metadata": {
    "scrolled": true
   },
   "outputs": [
    {
     "name": "stdout",
     "output_type": "stream",
     "text": [
      "ἀθήναιος μὲν ὁ τῆς βίβλου πατήρ· ποιεῖται δὲ τὸν λόγον πρὸς τιμοκράτην· δειπνοσοφιστὴς δὲ ταύτῃ τὸ ὄνομα. ὑπόκειται δὲ τῷ λόγῳ λαρήνσιος ῥωμαῖος, ἀνὴρ τῇ τύχῃ περιφανής, τοὺς κατὰ πᾶσαν παιδείαν ἐμπειροτάτους ἐν αὑτοῦ δαιτυμόνας ποιούμενος· ἐν οἷς οὐκ ἔσθ᾽ οὗτινος τῶν καλλίστων οὐκ ἐμνημόνευσεν. ἰχθῦς τε γὰρ τῇ βίβλῳ ἐνέθετο καὶ τὰς τούτων χρείας καὶ τὰς τῶν ὀνομάτων ἀναπτύξεις καὶ λαχάνων γένη παντοῖα καὶ ζῴων παντοδαπῶν καὶ ἄνδρας ἱστορίας συγγεγραφότας καὶ ποιητὰς καὶ φιλοσόφους καὶ ὄργανα μουσικὰ καὶ σκωμμάτων εἴδη μυρία καὶ ἐκπωμάτων διαφορὰς καὶ πλούτους βασιλέων διηγήσατο καὶ νηῶν μεγέθη καὶ ὅσα ἄλλα οὐδ᾽ ἂν εὐχερῶς ἀπομνημονεύσαιμι, ἢ ἐπιλίποι μ᾽ ἂν ἡ ἡμέρα κατ᾽ εἶδος διεξερχόμενον. καί ἐστιν ἡ τοῦ λόγου οἰκονομία μίμημα τῆς τοῦ δείπνου πολυτελείας καὶ ἡ τῆς βίβλου διασκευὴ τῆς ἐν τῷ δείπνῳ παρασκευῆς. τοιοῦτον ὁ θαυμαστὸς οὗτος τοῦ λόγου οἰκονόμος ἀθήναιος ἥδιστον λογόδειπνον εἰσηγεῖται κρείττων τε αὐτὸς ἑαυτοῦ γινόμενος, ὥσπερ οἱ ἀθήνησι ῥήτορες, ὑπὸ τῆς ἐν τῷ λέγειν θερμότητος πρὸς τὰ ἑπόμενα τῆς βίβλου βαθμηδὸν ὑπεράλλεται.\n"
     ]
    }
   ],
   "source": [
    "print(athenaeus_incipit_lowered)"
   ]
  },
  {
   "cell_type": "markdown",
   "metadata": {},
   "source": [
    "### Tokenize sentences"
   ]
  },
  {
   "cell_type": "markdown",
   "metadata": {},
   "source": [
    "if you want to tokenize the sentences of the passage, import `import` the sentence tokenizer `TokenizeSentence`"
   ]
  },
  {
   "cell_type": "code",
   "execution_count": 26,
   "metadata": {},
   "outputs": [],
   "source": [
    "from cltk.tokenize.sentence import TokenizeSentence"
   ]
  },
  {
   "cell_type": "markdown",
   "metadata": {},
   "source": [
    "Choose a variable `tokenizer` and assign `=` it to the function of Greek sentence tokenization `TokenizeSentence('Greek')`"
   ]
  },
  {
   "cell_type": "code",
   "execution_count": 27,
   "metadata": {},
   "outputs": [],
   "source": [
    "tokenizer = TokenizeSentence('greek')"
   ]
  },
  {
   "cell_type": "markdown",
   "metadata": {},
   "source": [
    "Choose a variable `athenaeus_sentence_tokens` and assign `=` it to the process of tokenizing the Greek sentences of the text you have chosen `tokenizer.tokenize_sentences(athenaeus_incipit_lowered)`"
   ]
  },
  {
   "cell_type": "code",
   "execution_count": 28,
   "metadata": {},
   "outputs": [],
   "source": [
    "athenaeus_sentence_tokens = tokenizer.tokenize_sentences(athenaeus_incipit_lowered)"
   ]
  },
  {
   "cell_type": "markdown",
   "metadata": {},
   "source": [
    "print that variable `athenaeus_sentence_tokens` in order to reveal the passage broken up into its various sentences"
   ]
  },
  {
   "cell_type": "code",
   "execution_count": 29,
   "metadata": {},
   "outputs": [
    {
     "name": "stdout",
     "output_type": "stream",
     "text": [
      "['ἀθήναιος μὲν ὁ τῆς βίβλου πατήρ·', 'ποιεῖται δὲ τὸν λόγον πρὸς τιμοκράτην·', 'δειπνοσοφιστὴς δὲ ταύτῃ τὸ ὄνομα.', 'ὑπόκειται δὲ τῷ λόγῳ λαρήνσιος ῥωμαῖος, ἀνὴρ τῇ τύχῃ περιφανής, τοὺς κατὰ πᾶσαν παιδείαν ἐμπειροτάτους ἐν αὑτοῦ δαιτυμόνας ποιούμενος·', 'ἐν οἷς οὐκ ἔσθ᾽ οὗτινος τῶν καλλίστων οὐκ ἐμνημόνευσεν.', 'ἰχθῦς τε γὰρ τῇ βίβλῳ ἐνέθετο καὶ τὰς τούτων χρείας καὶ τὰς τῶν ὀνομάτων ἀναπτύξεις καὶ λαχάνων γένη παντοῖα καὶ ζῴων παντοδαπῶν καὶ ἄνδρας ἱστορίας συγγεγραφότας καὶ ποιητὰς καὶ φιλοσόφους καὶ ὄργανα μουσικὰ καὶ σκωμμάτων εἴδη μυρία καὶ ἐκπωμάτων διαφορὰς καὶ πλούτους βασιλέων διηγήσατο καὶ νηῶν μεγέθη καὶ ὅσα ἄλλα οὐδ᾽ ἂν εὐχερῶς ἀπομνημονεύσαιμι, ἢ ἐπιλίποι μ᾽ ἂν ἡ ἡμέρα κατ᾽ εἶδος διεξερχόμενον.', 'καί ἐστιν ἡ τοῦ λόγου οἰκονομία μίμημα τῆς τοῦ δείπνου πολυτελείας καὶ ἡ τῆς βίβλου διασκευὴ τῆς ἐν τῷ δείπνῳ παρασκευῆς.', 'τοιοῦτον ὁ θαυμαστὸς οὗτος τοῦ λόγου οἰκονόμος ἀθήναιος ἥδιστον λογόδειπνον εἰσηγεῖται κρείττων τε αὐτὸς ἑαυτοῦ γινόμενος, ὥσπερ οἱ ἀθήνησι ῥήτορες, ὑπὸ τῆς ἐν τῷ λέγειν θερμότητος πρὸς τὰ ἑπόμενα τῆς βίβλου βαθμηδὸν ὑπεράλλεται.']\n"
     ]
    }
   ],
   "source": [
    "print(athenaeus_sentence_tokens)"
   ]
  },
  {
   "cell_type": "markdown",
   "metadata": {},
   "source": [
    "you may also view the sentences as a list `list()`"
   ]
  },
  {
   "cell_type": "code",
   "execution_count": 30,
   "metadata": {},
   "outputs": [
    {
     "data": {
      "text/plain": [
       "['ἀθήναιος μὲν ὁ τῆς βίβλου πατήρ·',\n",
       " 'ποιεῖται δὲ τὸν λόγον πρὸς τιμοκράτην·',\n",
       " 'δειπνοσοφιστὴς δὲ ταύτῃ τὸ ὄνομα.',\n",
       " 'ὑπόκειται δὲ τῷ λόγῳ λαρήνσιος ῥωμαῖος, ἀνὴρ τῇ τύχῃ περιφανής, τοὺς κατὰ πᾶσαν παιδείαν ἐμπειροτάτους ἐν αὑτοῦ δαιτυμόνας ποιούμενος·',\n",
       " 'ἐν οἷς οὐκ ἔσθ᾽ οὗτινος τῶν καλλίστων οὐκ ἐμνημόνευσεν.',\n",
       " 'ἰχθῦς τε γὰρ τῇ βίβλῳ ἐνέθετο καὶ τὰς τούτων χρείας καὶ τὰς τῶν ὀνομάτων ἀναπτύξεις καὶ λαχάνων γένη παντοῖα καὶ ζῴων παντοδαπῶν καὶ ἄνδρας ἱστορίας συγγεγραφότας καὶ ποιητὰς καὶ φιλοσόφους καὶ ὄργανα μουσικὰ καὶ σκωμμάτων εἴδη μυρία καὶ ἐκπωμάτων διαφορὰς καὶ πλούτους βασιλέων διηγήσατο καὶ νηῶν μεγέθη καὶ ὅσα ἄλλα οὐδ᾽ ἂν εὐχερῶς ἀπομνημονεύσαιμι, ἢ ἐπιλίποι μ᾽ ἂν ἡ ἡμέρα κατ᾽ εἶδος διεξερχόμενον.',\n",
       " 'καί ἐστιν ἡ τοῦ λόγου οἰκονομία μίμημα τῆς τοῦ δείπνου πολυτελείας καὶ ἡ τῆς βίβλου διασκευὴ τῆς ἐν τῷ δείπνῳ παρασκευῆς.',\n",
       " 'τοιοῦτον ὁ θαυμαστὸς οὗτος τοῦ λόγου οἰκονόμος ἀθήναιος ἥδιστον λογόδειπνον εἰσηγεῖται κρείττων τε αὐτὸς ἑαυτοῦ γινόμενος, ὥσπερ οἱ ἀθήνησι ῥήτορες, ὑπὸ τῆς ἐν τῷ λέγειν θερμότητος πρὸς τὰ ἑπόμενα τῆς βίβλου βαθμηδὸν ὑπεράλλεται.']"
      ]
     },
     "execution_count": 30,
     "metadata": {},
     "output_type": "execute_result"
    }
   ],
   "source": [
    "list(athenaeus_sentence_tokens)"
   ]
  },
  {
   "cell_type": "markdown",
   "metadata": {},
   "source": [
    "you can view it as clean sentences"
   ]
  },
  {
   "cell_type": "code",
   "execution_count": 31,
   "metadata": {},
   "outputs": [
    {
     "name": "stdout",
     "output_type": "stream",
     "text": [
      "ἀθήναιος μὲν ὁ τῆς βίβλου πατήρ·\n",
      "\n",
      "ποιεῖται δὲ τὸν λόγον πρὸς τιμοκράτην·\n",
      "\n",
      "δειπνοσοφιστὴς δὲ ταύτῃ τὸ ὄνομα.\n",
      "\n",
      "ὑπόκειται δὲ τῷ λόγῳ λαρήνσιος ῥωμαῖος, ἀνὴρ τῇ τύχῃ περιφανής, τοὺς κατὰ πᾶσαν παιδείαν ἐμπειροτάτους ἐν αὑτοῦ δαιτυμόνας ποιούμενος·\n",
      "\n",
      "ἐν οἷς οὐκ ἔσθ᾽ οὗτινος τῶν καλλίστων οὐκ ἐμνημόνευσεν.\n",
      "\n",
      "ἰχθῦς τε γὰρ τῇ βίβλῳ ἐνέθετο καὶ τὰς τούτων χρείας καὶ τὰς τῶν ὀνομάτων ἀναπτύξεις καὶ λαχάνων γένη παντοῖα καὶ ζῴων παντοδαπῶν καὶ ἄνδρας ἱστορίας συγγεγραφότας καὶ ποιητὰς καὶ φιλοσόφους καὶ ὄργανα μουσικὰ καὶ σκωμμάτων εἴδη μυρία καὶ ἐκπωμάτων διαφορὰς καὶ πλούτους βασιλέων διηγήσατο καὶ νηῶν μεγέθη καὶ ὅσα ἄλλα οὐδ᾽ ἂν εὐχερῶς ἀπομνημονεύσαιμι, ἢ ἐπιλίποι μ᾽ ἂν ἡ ἡμέρα κατ᾽ εἶδος διεξερχόμενον.\n",
      "\n",
      "καί ἐστιν ἡ τοῦ λόγου οἰκονομία μίμημα τῆς τοῦ δείπνου πολυτελείας καὶ ἡ τῆς βίβλου διασκευὴ τῆς ἐν τῷ δείπνῳ παρασκευῆς.\n",
      "\n",
      "τοιοῦτον ὁ θαυμαστὸς οὗτος τοῦ λόγου οἰκονόμος ἀθήναιος ἥδιστον λογόδειπνον εἰσηγεῖται κρείττων τε αὐτὸς ἑαυτοῦ γινόμενος, ὥσπερ οἱ ἀθήνησι ῥήτορες, ὑπὸ τῆς ἐν τῷ λέγειν θερμότητος πρὸς τὰ ἑπόμενα τῆς βίβλου βαθμηδὸν ὑπεράλλεται.\n",
      "\n"
     ]
    }
   ],
   "source": [
    "for sentence in athenaeus_sentence_tokens:\n",
    "    print(sentence)\n",
    "    print()"
   ]
  },
  {
   "cell_type": "markdown",
   "metadata": {},
   "source": [
    "to make thing clearer, let's put an astrisk before each line"
   ]
  },
  {
   "cell_type": "code",
   "execution_count": 32,
   "metadata": {},
   "outputs": [
    {
     "name": "stdout",
     "output_type": "stream",
     "text": [
      "* ἀθήναιος μὲν ὁ τῆς βίβλου πατήρ·\n",
      "* ποιεῖται δὲ τὸν λόγον πρὸς τιμοκράτην·\n",
      "* δειπνοσοφιστὴς δὲ ταύτῃ τὸ ὄνομα.\n",
      "* ὑπόκειται δὲ τῷ λόγῳ λαρήνσιος ῥωμαῖος, ἀνὴρ τῇ τύχῃ περιφανής, τοὺς κατὰ πᾶσαν παιδείαν ἐμπειροτάτους ἐν αὑτοῦ δαιτυμόνας ποιούμενος·\n",
      "* ἐν οἷς οὐκ ἔσθ᾽ οὗτινος τῶν καλλίστων οὐκ ἐμνημόνευσεν.\n",
      "* ἰχθῦς τε γὰρ τῇ βίβλῳ ἐνέθετο καὶ τὰς τούτων χρείας καὶ τὰς τῶν ὀνομάτων ἀναπτύξεις καὶ λαχάνων γένη παντοῖα καὶ ζῴων παντοδαπῶν καὶ ἄνδρας ἱστορίας συγγεγραφότας καὶ ποιητὰς καὶ φιλοσόφους καὶ ὄργανα μουσικὰ καὶ σκωμμάτων εἴδη μυρία καὶ ἐκπωμάτων διαφορὰς καὶ πλούτους βασιλέων διηγήσατο καὶ νηῶν μεγέθη καὶ ὅσα ἄλλα οὐδ᾽ ἂν εὐχερῶς ἀπομνημονεύσαιμι, ἢ ἐπιλίποι μ᾽ ἂν ἡ ἡμέρα κατ᾽ εἶδος διεξερχόμενον.\n",
      "* καί ἐστιν ἡ τοῦ λόγου οἰκονομία μίμημα τῆς τοῦ δείπνου πολυτελείας καὶ ἡ τῆς βίβλου διασκευὴ τῆς ἐν τῷ δείπνῳ παρασκευῆς.\n",
      "* τοιοῦτον ὁ θαυμαστὸς οὗτος τοῦ λόγου οἰκονόμος ἀθήναιος ἥδιστον λογόδειπνον εἰσηγεῖται κρείττων τε αὐτὸς ἑαυτοῦ γινόμενος, ὥσπερ οἱ ἀθήνησι ῥήτορες, ὑπὸ τῆς ἐν τῷ λέγειν θερμότητος πρὸς τὰ ἑπόμενα τῆς βίβλου βαθμηδὸν ὑπεράλλεται.\n"
     ]
    }
   ],
   "source": [
    "for sentence in athenaeus_sentence_tokens:\n",
    "    print(\"*\", sentence)"
   ]
  },
  {
   "cell_type": "markdown",
   "metadata": {},
   "source": [
    "You can count `len()` the tokenized sentences"
   ]
  },
  {
   "cell_type": "code",
   "execution_count": 33,
   "metadata": {},
   "outputs": [
    {
     "name": "stdout",
     "output_type": "stream",
     "text": [
      "8\n"
     ]
    }
   ],
   "source": [
    "print(len(athenaeus_sentence_tokens))"
   ]
  },
  {
   "cell_type": "markdown",
   "metadata": {},
   "source": [
    "you can even view them in numbered sentences with spacing "
   ]
  },
  {
   "cell_type": "code",
   "execution_count": 34,
   "metadata": {},
   "outputs": [
    {
     "name": "stdout",
     "output_type": "stream",
     "text": [
      "1:   ἀθήναιος μὲν ὁ τῆς βίβλου πατήρ·\n",
      "2:   ποιεῖται δὲ τὸν λόγον πρὸς τιμοκράτην·\n",
      "3:   δειπνοσοφιστὴς δὲ ταύτῃ τὸ ὄνομα.\n",
      "4:   ὑπόκειται δὲ τῷ λόγῳ λαρήνσιος ῥωμαῖος, ἀνὴρ τῇ τύχῃ περιφανής, τοὺς κατὰ πᾶσαν παιδείαν ἐμπειροτάτους ἐν αὑτοῦ δαιτυμόνας ποιούμενος·\n",
      "5:   ἐν οἷς οὐκ ἔσθ᾽ οὗτινος τῶν καλλίστων οὐκ ἐμνημόνευσεν.\n",
      "6:   ἰχθῦς τε γὰρ τῇ βίβλῳ ἐνέθετο καὶ τὰς τούτων χρείας καὶ τὰς τῶν ὀνομάτων ἀναπτύξεις καὶ λαχάνων γένη παντοῖα καὶ ζῴων παντοδαπῶν καὶ ἄνδρας ἱστορίας συγγεγραφότας καὶ ποιητὰς καὶ φιλοσόφους καὶ ὄργανα μουσικὰ καὶ σκωμμάτων εἴδη μυρία καὶ ἐκπωμάτων διαφορὰς καὶ πλούτους βασιλέων διηγήσατο καὶ νηῶν μεγέθη καὶ ὅσα ἄλλα οὐδ᾽ ἂν εὐχερῶς ἀπομνημονεύσαιμι, ἢ ἐπιλίποι μ᾽ ἂν ἡ ἡμέρα κατ᾽ εἶδος διεξερχόμενον.\n",
      "7:   καί ἐστιν ἡ τοῦ λόγου οἰκονομία μίμημα τῆς τοῦ δείπνου πολυτελείας καὶ ἡ τῆς βίβλου διασκευὴ τῆς ἐν τῷ δείπνῳ παρασκευῆς.\n",
      "8:   τοιοῦτον ὁ θαυμαστὸς οὗτος τοῦ λόγου οἰκονόμος ἀθήναιος ἥδιστον λογόδειπνον εἰσηγεῖται κρείττων τε αὐτὸς ἑαυτοῦ γινόμενος, ὥσπερ οἱ ἀθήνησι ῥήτορες, ὑπὸ τῆς ἐν τῷ λέγειν θερμότητος πρὸς τὰ ἑπόμενα τῆς βίβλου βαθμηδὸν ὑπεράλλεται.\n"
     ]
    }
   ],
   "source": [
    "for index, item in enumerate(athenaeus_sentence_tokens):\n",
    "    print(str(index + 1) + ':   ' + item)"
   ]
  },
  {
   "cell_type": "markdown",
   "metadata": {},
   "source": [
    "### tokenize words"
   ]
  },
  {
   "cell_type": "markdown",
   "metadata": {},
   "source": [
    "import word tokenizer `WordTokenizer`"
   ]
  },
  {
   "cell_type": "code",
   "execution_count": 35,
   "metadata": {},
   "outputs": [],
   "source": [
    "from cltk.tokenize.word import WordTokenizer"
   ]
  },
  {
   "cell_type": "markdown",
   "metadata": {},
   "source": [
    "assign `=` a variable `tok` to the function of word tokening in Greek `WordTokenizer(language='latin')`"
   ]
  },
  {
   "cell_type": "code",
   "execution_count": 36,
   "metadata": {},
   "outputs": [],
   "source": [
    "tok = WordTokenizer(language='greek')"
   ]
  },
  {
   "cell_type": "markdown",
   "metadata": {},
   "source": [
    "assign `=` a variable `athenaeus_word_tokens` to the function of tokenizing the text `tok.tokenize(athenaeus_incipit_lowered)`"
   ]
  },
  {
   "cell_type": "code",
   "execution_count": 37,
   "metadata": {},
   "outputs": [],
   "source": [
    "athenaeus_word_tokens = tok.tokenize(athenaeus_incipit_lowered)"
   ]
  },
  {
   "cell_type": "code",
   "execution_count": 38,
   "metadata": {},
   "outputs": [
    {
     "name": "stdout",
     "output_type": "stream",
     "text": [
      "['ἀθήναιος', 'μὲν', 'ὁ', 'τῆς', 'βίβλου', 'πατήρ·', 'ποιεῖται', 'δὲ', 'τὸν', 'λόγον', 'πρὸς', 'τιμοκράτην·', 'δειπνοσοφιστὴς', 'δὲ', 'ταύτῃ', 'τὸ', 'ὄνομα', '.', 'ὑπόκειται', 'δὲ', 'τῷ', 'λόγῳ', 'λαρήνσιος', 'ῥωμαῖος', ',', 'ἀνὴρ', 'τῇ', 'τύχῃ', 'περιφανής', ',', 'τοὺς', 'κατὰ', 'πᾶσαν', 'παιδείαν', 'ἐμπειροτάτους', 'ἐν', 'αὑτοῦ', 'δαιτυμόνας', 'ποιούμενος·', 'ἐν', 'οἷς', 'οὐκ', 'ἔσθ᾽', 'οὗτινος', 'τῶν', 'καλλίστων', 'οὐκ', 'ἐμνημόνευσεν', '.', 'ἰχθῦς', 'τε', 'γὰρ', 'τῇ', 'βίβλῳ', 'ἐνέθετο', 'καὶ', 'τὰς', 'τούτων', 'χρείας', 'καὶ', 'τὰς', 'τῶν', 'ὀνομάτων', 'ἀναπτύξεις', 'καὶ', 'λαχάνων', 'γένη', 'παντοῖα', 'καὶ', 'ζῴων', 'παντοδαπῶν', 'καὶ', 'ἄνδρας', 'ἱστορίας', 'συγγεγραφότας', 'καὶ', 'ποιητὰς', 'καὶ', 'φιλοσόφους', 'καὶ', 'ὄργανα', 'μουσικὰ', 'καὶ', 'σκωμμάτων', 'εἴδη', 'μυρία', 'καὶ', 'ἐκπωμάτων', 'διαφορὰς', 'καὶ', 'πλούτους', 'βασιλέων', 'διηγήσατο', 'καὶ', 'νηῶν', 'μεγέθη', 'καὶ', 'ὅσα', 'ἄλλα', 'οὐδ᾽', 'ἂν', 'εὐχερῶς', 'ἀπομνημονεύσαιμι', ',', 'ἢ', 'ἐπιλίποι', 'μ᾽', 'ἂν', 'ἡ', 'ἡμέρα', 'κατ᾽', 'εἶδος', 'διεξερχόμενον', '.', 'καί', 'ἐστιν', 'ἡ', 'τοῦ', 'λόγου', 'οἰκονομία', 'μίμημα', 'τῆς', 'τοῦ', 'δείπνου', 'πολυτελείας', 'καὶ', 'ἡ', 'τῆς', 'βίβλου', 'διασκευὴ', 'τῆς', 'ἐν', 'τῷ', 'δείπνῳ', 'παρασκευῆς', '.', 'τοιοῦτον', 'ὁ', 'θαυμαστὸς', 'οὗτος', 'τοῦ', 'λόγου', 'οἰκονόμος', 'ἀθήναιος', 'ἥδιστον', 'λογόδειπνον', 'εἰσηγεῖται', 'κρείττων', 'τε', 'αὐτὸς', 'ἑαυτοῦ', 'γινόμενος', ',', 'ὥσπερ', 'οἱ', 'ἀθήνησι', 'ῥήτορες', ',', 'ὑπὸ', 'τῆς', 'ἐν', 'τῷ', 'λέγειν', 'θερμότητος', 'πρὸς', 'τὰ', 'ἑπόμενα', 'τῆς', 'βίβλου', 'βαθμηδὸν', 'ὑπεράλλεται', '.']\n"
     ]
    }
   ],
   "source": [
    "print(athenaeus_word_tokens)"
   ]
  },
  {
   "cell_type": "markdown",
   "metadata": {},
   "source": [
    "to get rid of punctuation"
   ]
  },
  {
   "cell_type": "code",
   "execution_count": 39,
   "metadata": {},
   "outputs": [],
   "source": [
    "athenaeus_word_tokens_no_punt = [token for token in athenaeus_word_tokens if token not in ['.', ',', ':', ';']]"
   ]
  },
  {
   "cell_type": "code",
   "execution_count": 40,
   "metadata": {},
   "outputs": [
    {
     "name": "stdout",
     "output_type": "stream",
     "text": [
      "['ἀθήναιος', 'μὲν', 'ὁ', 'τῆς', 'βίβλου', 'πατήρ·', 'ποιεῖται', 'δὲ', 'τὸν', 'λόγον', 'πρὸς', 'τιμοκράτην·', 'δειπνοσοφιστὴς', 'δὲ', 'ταύτῃ', 'τὸ', 'ὄνομα', 'ὑπόκειται', 'δὲ', 'τῷ', 'λόγῳ', 'λαρήνσιος', 'ῥωμαῖος', 'ἀνὴρ', 'τῇ', 'τύχῃ', 'περιφανής', 'τοὺς', 'κατὰ', 'πᾶσαν', 'παιδείαν', 'ἐμπειροτάτους', 'ἐν', 'αὑτοῦ', 'δαιτυμόνας', 'ποιούμενος·', 'ἐν', 'οἷς', 'οὐκ', 'ἔσθ᾽', 'οὗτινος', 'τῶν', 'καλλίστων', 'οὐκ', 'ἐμνημόνευσεν', 'ἰχθῦς', 'τε', 'γὰρ', 'τῇ', 'βίβλῳ', 'ἐνέθετο', 'καὶ', 'τὰς', 'τούτων', 'χρείας', 'καὶ', 'τὰς', 'τῶν', 'ὀνομάτων', 'ἀναπτύξεις', 'καὶ', 'λαχάνων', 'γένη', 'παντοῖα', 'καὶ', 'ζῴων', 'παντοδαπῶν', 'καὶ', 'ἄνδρας', 'ἱστορίας', 'συγγεγραφότας', 'καὶ', 'ποιητὰς', 'καὶ', 'φιλοσόφους', 'καὶ', 'ὄργανα', 'μουσικὰ', 'καὶ', 'σκωμμάτων', 'εἴδη', 'μυρία', 'καὶ', 'ἐκπωμάτων', 'διαφορὰς', 'καὶ', 'πλούτους', 'βασιλέων', 'διηγήσατο', 'καὶ', 'νηῶν', 'μεγέθη', 'καὶ', 'ὅσα', 'ἄλλα', 'οὐδ᾽', 'ἂν', 'εὐχερῶς', 'ἀπομνημονεύσαιμι', 'ἢ', 'ἐπιλίποι', 'μ᾽', 'ἂν', 'ἡ', 'ἡμέρα', 'κατ᾽', 'εἶδος', 'διεξερχόμενον', 'καί', 'ἐστιν', 'ἡ', 'τοῦ', 'λόγου', 'οἰκονομία', 'μίμημα', 'τῆς', 'τοῦ', 'δείπνου', 'πολυτελείας', 'καὶ', 'ἡ', 'τῆς', 'βίβλου', 'διασκευὴ', 'τῆς', 'ἐν', 'τῷ', 'δείπνῳ', 'παρασκευῆς', 'τοιοῦτον', 'ὁ', 'θαυμαστὸς', 'οὗτος', 'τοῦ', 'λόγου', 'οἰκονόμος', 'ἀθήναιος', 'ἥδιστον', 'λογόδειπνον', 'εἰσηγεῖται', 'κρείττων', 'τε', 'αὐτὸς', 'ἑαυτοῦ', 'γινόμενος', 'ὥσπερ', 'οἱ', 'ἀθήνησι', 'ῥήτορες', 'ὑπὸ', 'τῆς', 'ἐν', 'τῷ', 'λέγειν', 'θερμότητος', 'πρὸς', 'τὰ', 'ἑπόμενα', 'τῆς', 'βίβλου', 'βαθμηδὸν', 'ὑπεράλλεται']\n"
     ]
    }
   ],
   "source": [
    "print(athenaeus_word_tokens_no_punt)"
   ]
  },
  {
   "cell_type": "markdown",
   "metadata": {},
   "source": [
    "count words "
   ]
  },
  {
   "cell_type": "code",
   "execution_count": 41,
   "metadata": {},
   "outputs": [
    {
     "data": {
      "text/plain": [
       "162"
      ]
     },
     "execution_count": 41,
     "metadata": {},
     "output_type": "execute_result"
    }
   ],
   "source": [
    "len(athenaeus_word_tokens_no_punt)"
   ]
  }
 ],
 "metadata": {
  "kernelspec": {
   "display_name": "Python 3",
   "language": "python",
   "name": "python3"
  },
  "language_info": {
   "codemirror_mode": {
    "name": "ipython",
    "version": 3
   },
   "file_extension": ".py",
   "mimetype": "text/x-python",
   "name": "python",
   "nbconvert_exporter": "python",
   "pygments_lexer": "ipython3",
   "version": "3.7.4"
  }
 },
 "nbformat": 4,
 "nbformat_minor": 2
}
